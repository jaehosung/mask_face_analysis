{
 "cells": [
  {
   "cell_type": "code",
   "execution_count": 2,
   "metadata": {
    "pycharm": {
     "is_executing": false,
     "name": "#%%\n"
    }
   },
   "outputs": [],
   "source": [
    "import numpy as np\n",
    "import pandas as pd\n",
    "import matplotlib.pyplot as plt"
   ]
  },
  {
   "cell_type": "code",
   "execution_count": 3,
   "metadata": {
    "pycharm": {
     "is_executing": false,
     "name": "#%%\n"
    }
   },
   "outputs": [],
   "source": [
    "index_dic = {\n",
    "    0: \"나이/age\",\n",
    "    1: \"성별/sex\",\n",
    "    12:\"코너비\",\n",
    "    13:\"입너비\",\n",
    "    14:\"아래턱사이너비\",\n",
    "    15:\"코높이\",\n",
    "    16:\"코길이\",\n",
    "    18:\"코뿌리턱끝수직길이\",\n",
    "    19:\"코뿌리코끝수직길이\",\n",
    "    45:\"귀구슬입술직선길이\"\n",
    "}\n",
    "\n",
    "df = pd.read_excel (\"./2010_6th_sort_translated.xlsx\")\n",
    "col = list(index_dic.values())\n",
    "\n",
    "df = df.dropna()\n",
    "df.reset_index(inplace = True,drop = True)\n",
    "df_features = df[col[2:]]\n",
    "df_features.reset_index(inplace = True,drop = True)\n",
    "normalized_df=df_features-df_features.mean()"
   ]
  },
  {
   "cell_type": "code",
   "execution_count": 4,
   "metadata": {
    "pycharm": {
     "is_executing": false,
     "name": "#%%\n"
    }
   },
   "outputs": [
    {
     "data": {
      "text/html": [
       "<div>\n",
       "<style scoped>\n",
       "    .dataframe tbody tr th:only-of-type {\n",
       "        vertical-align: middle;\n",
       "    }\n",
       "\n",
       "    .dataframe tbody tr th {\n",
       "        vertical-align: top;\n",
       "    }\n",
       "\n",
       "    .dataframe thead th {\n",
       "        text-align: right;\n",
       "    }\n",
       "</style>\n",
       "<table border=\"1\" class=\"dataframe\">\n",
       "  <thead>\n",
       "    <tr style=\"text-align: right;\">\n",
       "      <th></th>\n",
       "      <th>코너비</th>\n",
       "      <th>입너비</th>\n",
       "      <th>아래턱사이너비</th>\n",
       "      <th>코높이</th>\n",
       "      <th>코길이</th>\n",
       "      <th>코뿌리턱끝수직길이</th>\n",
       "      <th>코뿌리코끝수직길이</th>\n",
       "      <th>귀구슬입술직선길이</th>\n",
       "    </tr>\n",
       "  </thead>\n",
       "  <tbody>\n",
       "    <tr>\n",
       "      <th>count</th>\n",
       "      <td>2054.000000</td>\n",
       "      <td>2054.000000</td>\n",
       "      <td>2054.000000</td>\n",
       "      <td>2054.000000</td>\n",
       "      <td>2054.000000</td>\n",
       "      <td>2054.000000</td>\n",
       "      <td>2054.000000</td>\n",
       "      <td>2054.00000</td>\n",
       "    </tr>\n",
       "    <tr>\n",
       "      <th>mean</th>\n",
       "      <td>35.141723</td>\n",
       "      <td>51.299951</td>\n",
       "      <td>123.431353</td>\n",
       "      <td>12.853603</td>\n",
       "      <td>51.131305</td>\n",
       "      <td>112.672882</td>\n",
       "      <td>35.420594</td>\n",
       "      <td>137.28666</td>\n",
       "    </tr>\n",
       "    <tr>\n",
       "      <th>std</th>\n",
       "      <td>3.874189</td>\n",
       "      <td>8.194956</td>\n",
       "      <td>11.979103</td>\n",
       "      <td>2.435991</td>\n",
       "      <td>3.964258</td>\n",
       "      <td>7.764659</td>\n",
       "      <td>4.156997</td>\n",
       "      <td>13.11076</td>\n",
       "    </tr>\n",
       "    <tr>\n",
       "      <th>min</th>\n",
       "      <td>23.400000</td>\n",
       "      <td>27.600000</td>\n",
       "      <td>80.000000</td>\n",
       "      <td>5.000000</td>\n",
       "      <td>39.600000</td>\n",
       "      <td>92.000000</td>\n",
       "      <td>22.000000</td>\n",
       "      <td>110.00000</td>\n",
       "    </tr>\n",
       "    <tr>\n",
       "      <th>25%</th>\n",
       "      <td>32.425000</td>\n",
       "      <td>45.100000</td>\n",
       "      <td>115.000000</td>\n",
       "      <td>11.000000</td>\n",
       "      <td>48.025000</td>\n",
       "      <td>107.225000</td>\n",
       "      <td>32.100000</td>\n",
       "      <td>129.00000</td>\n",
       "    </tr>\n",
       "    <tr>\n",
       "      <th>50%</th>\n",
       "      <td>35.000000</td>\n",
       "      <td>52.000000</td>\n",
       "      <td>124.000000</td>\n",
       "      <td>13.000000</td>\n",
       "      <td>51.000000</td>\n",
       "      <td>112.650000</td>\n",
       "      <td>35.000000</td>\n",
       "      <td>134.70000</td>\n",
       "    </tr>\n",
       "    <tr>\n",
       "      <th>75%</th>\n",
       "      <td>38.000000</td>\n",
       "      <td>57.000000</td>\n",
       "      <td>131.700000</td>\n",
       "      <td>14.400000</td>\n",
       "      <td>54.000000</td>\n",
       "      <td>118.000000</td>\n",
       "      <td>38.000000</td>\n",
       "      <td>141.37500</td>\n",
       "    </tr>\n",
       "    <tr>\n",
       "      <th>max</th>\n",
       "      <td>56.100000</td>\n",
       "      <td>78.000000</td>\n",
       "      <td>165.800000</td>\n",
       "      <td>23.000000</td>\n",
       "      <td>65.000000</td>\n",
       "      <td>143.000000</td>\n",
       "      <td>50.000000</td>\n",
       "      <td>191.10000</td>\n",
       "    </tr>\n",
       "  </tbody>\n",
       "</table>\n",
       "</div>"
      ],
      "text/plain": [
       "               코너비          입너비      아래턱사이너비          코높이          코길이  \\\n",
       "count  2054.000000  2054.000000  2054.000000  2054.000000  2054.000000   \n",
       "mean     35.141723    51.299951   123.431353    12.853603    51.131305   \n",
       "std       3.874189     8.194956    11.979103     2.435991     3.964258   \n",
       "min      23.400000    27.600000    80.000000     5.000000    39.600000   \n",
       "25%      32.425000    45.100000   115.000000    11.000000    48.025000   \n",
       "50%      35.000000    52.000000   124.000000    13.000000    51.000000   \n",
       "75%      38.000000    57.000000   131.700000    14.400000    54.000000   \n",
       "max      56.100000    78.000000   165.800000    23.000000    65.000000   \n",
       "\n",
       "         코뿌리턱끝수직길이    코뿌리코끝수직길이   귀구슬입술직선길이  \n",
       "count  2054.000000  2054.000000  2054.00000  \n",
       "mean    112.672882    35.420594   137.28666  \n",
       "std       7.764659     4.156997    13.11076  \n",
       "min      92.000000    22.000000   110.00000  \n",
       "25%     107.225000    32.100000   129.00000  \n",
       "50%     112.650000    35.000000   134.70000  \n",
       "75%     118.000000    38.000000   141.37500  \n",
       "max     143.000000    50.000000   191.10000  "
      ]
     },
     "execution_count": 4,
     "metadata": {},
     "output_type": "execute_result"
    }
   ],
   "source": [
    "# Statistics description\n",
    "df_features.describe()"
   ]
  },
  {
   "cell_type": "code",
   "execution_count": 5,
   "metadata": {
    "pycharm": {
     "is_executing": false
    }
   },
   "outputs": [
    {
     "data": {
      "text/html": [
       "<div>\n",
       "<style scoped>\n",
       "    .dataframe tbody tr th:only-of-type {\n",
       "        vertical-align: middle;\n",
       "    }\n",
       "\n",
       "    .dataframe tbody tr th {\n",
       "        vertical-align: top;\n",
       "    }\n",
       "\n",
       "    .dataframe thead tr th {\n",
       "        text-align: left;\n",
       "    }\n",
       "\n",
       "    .dataframe thead tr:last-of-type th {\n",
       "        text-align: right;\n",
       "    }\n",
       "</style>\n",
       "<table border=\"1\" class=\"dataframe\">\n",
       "  <thead>\n",
       "    <tr>\n",
       "      <th></th>\n",
       "      <th colspan=\"8\" halign=\"left\">나이/age</th>\n",
       "      <th colspan=\"2\" halign=\"left\">코높이</th>\n",
       "      <th>...</th>\n",
       "      <th colspan=\"2\" halign=\"left\">입너비</th>\n",
       "      <th colspan=\"8\" halign=\"left\">아래턱사이너비</th>\n",
       "    </tr>\n",
       "    <tr>\n",
       "      <th></th>\n",
       "      <th>count</th>\n",
       "      <th>mean</th>\n",
       "      <th>std</th>\n",
       "      <th>min</th>\n",
       "      <th>25%</th>\n",
       "      <th>50%</th>\n",
       "      <th>75%</th>\n",
       "      <th>max</th>\n",
       "      <th>count</th>\n",
       "      <th>mean</th>\n",
       "      <th>...</th>\n",
       "      <th>75%</th>\n",
       "      <th>max</th>\n",
       "      <th>count</th>\n",
       "      <th>mean</th>\n",
       "      <th>std</th>\n",
       "      <th>min</th>\n",
       "      <th>25%</th>\n",
       "      <th>50%</th>\n",
       "      <th>75%</th>\n",
       "      <th>max</th>\n",
       "    </tr>\n",
       "    <tr>\n",
       "      <th>성별/sex</th>\n",
       "      <th></th>\n",
       "      <th></th>\n",
       "      <th></th>\n",
       "      <th></th>\n",
       "      <th></th>\n",
       "      <th></th>\n",
       "      <th></th>\n",
       "      <th></th>\n",
       "      <th></th>\n",
       "      <th></th>\n",
       "      <th></th>\n",
       "      <th></th>\n",
       "      <th></th>\n",
       "      <th></th>\n",
       "      <th></th>\n",
       "      <th></th>\n",
       "      <th></th>\n",
       "      <th></th>\n",
       "      <th></th>\n",
       "      <th></th>\n",
       "      <th></th>\n",
       "    </tr>\n",
       "  </thead>\n",
       "  <tbody>\n",
       "    <tr>\n",
       "      <th>남</th>\n",
       "      <td>1040.0</td>\n",
       "      <td>44.154808</td>\n",
       "      <td>14.441748</td>\n",
       "      <td>20.0</td>\n",
       "      <td>31.0</td>\n",
       "      <td>44.0</td>\n",
       "      <td>57.0</td>\n",
       "      <td>69.0</td>\n",
       "      <td>1040.0</td>\n",
       "      <td>13.621635</td>\n",
       "      <td>...</td>\n",
       "      <td>60.0</td>\n",
       "      <td>78.0</td>\n",
       "      <td>1040.0</td>\n",
       "      <td>127.497692</td>\n",
       "      <td>11.455185</td>\n",
       "      <td>90.0</td>\n",
       "      <td>120.0</td>\n",
       "      <td>128.0</td>\n",
       "      <td>135.4</td>\n",
       "      <td>161.0</td>\n",
       "    </tr>\n",
       "    <tr>\n",
       "      <th>여</th>\n",
       "      <td>1014.0</td>\n",
       "      <td>44.474359</td>\n",
       "      <td>14.420728</td>\n",
       "      <td>20.0</td>\n",
       "      <td>32.0</td>\n",
       "      <td>45.0</td>\n",
       "      <td>57.0</td>\n",
       "      <td>69.0</td>\n",
       "      <td>1014.0</td>\n",
       "      <td>12.065878</td>\n",
       "      <td>...</td>\n",
       "      <td>55.0</td>\n",
       "      <td>71.0</td>\n",
       "      <td>1014.0</td>\n",
       "      <td>119.260750</td>\n",
       "      <td>11.038406</td>\n",
       "      <td>80.0</td>\n",
       "      <td>111.0</td>\n",
       "      <td>120.0</td>\n",
       "      <td>127.6</td>\n",
       "      <td>165.8</td>\n",
       "    </tr>\n",
       "  </tbody>\n",
       "</table>\n",
       "<p>2 rows × 368 columns</p>\n",
       "</div>"
      ],
      "text/plain": [
       "        나이/age                                                         코높이  \\\n",
       "         count       mean        std   min   25%   50%   75%   max   count   \n",
       "성별/sex                                                                       \n",
       "남       1040.0  44.154808  14.441748  20.0  31.0  44.0  57.0  69.0  1040.0   \n",
       "여       1014.0  44.474359  14.420728  20.0  32.0  45.0  57.0  69.0  1014.0   \n",
       "\n",
       "                   ...   입너비       아래턱사이너비                               \\\n",
       "             mean  ...   75%   max   count        mean        std   min   \n",
       "성별/sex             ...                                                    \n",
       "남       13.621635  ...  60.0  78.0  1040.0  127.497692  11.455185  90.0   \n",
       "여       12.065878  ...  55.0  71.0  1014.0  119.260750  11.038406  80.0   \n",
       "\n",
       "                                    \n",
       "          25%    50%    75%    max  \n",
       "성별/sex                              \n",
       "남       120.0  128.0  135.4  161.0  \n",
       "여       111.0  120.0  127.6  165.8  \n",
       "\n",
       "[2 rows x 368 columns]"
      ]
     },
     "execution_count": 5,
     "metadata": {},
     "output_type": "execute_result"
    }
   ],
   "source": [
    "# Statistics description \n",
    "df.groupby(\"성별/sex\").describe()"
   ]
  },
  {
   "cell_type": "code",
   "execution_count": 6,
   "metadata": {
    "pycharm": {
     "is_executing": false,
     "name": "#%%\n"
    }
   },
   "outputs": [
    {
     "data": {
      "image/png": "[encoded data removed]",
      "text/plain": [
       "<Figure size 576x576 with 1 Axes>"
      ]
     },
     "metadata": {
      "needs_background": "light"
     },
     "output_type": "display_data"
    }
   ],
   "source": [
    "from sklearn.decomposition import PCA\n",
    "pca = PCA(n_components=2)\n",
    "principalComponents = pca.fit_transform(normalized_df)\n",
    "principalDf = pd.DataFrame(data = principalComponents\n",
    "             , columns = ['principal component 1', 'principal component 2'])\n",
    "fig = plt.figure(figsize = (8,8))\n",
    "ax = fig.add_subplot(1,1,1) \n",
    "ax.set_xlabel('Principal Component 1', fontsize = 15)\n",
    "ax.set_ylabel('Principal Component 2', fontsize = 15)\n",
    "ax.set_title('2 component PCA', fontsize = 20)\n",
    "\n",
    "finalDf = pd.concat([principalDf, df[[\"성별/sex\"]]], axis = 1)\n",
    "\n",
    "targets = ['남', '여']\n",
    "colors = ['r', 'g']\n",
    "for target, color in zip(['남','여'],colors):\n",
    "    indicesToKeep = df['성별/sex'] == target\n",
    "    ax.scatter(finalDf.loc[indicesToKeep, 'principal component 1']\n",
    "               , finalDf.loc[indicesToKeep, 'principal component 2']\n",
    "               , c = color\n",
    "               , s = 50)\n",
    "ax.legend([\"male\",\"female\"])\n",
    "ax.grid()\n"
   ]
  },
  {
   "cell_type": "code",
   "execution_count": 7,
   "metadata": {
    "pycharm": {
     "is_executing": false
    }
   },
   "outputs": [
    {
     "ename": "NameError",
     "evalue": "name 'e' is not defined",
     "output_type": "error",
     "traceback": [
      "\u001b[1;31m---------------------------------------------------------------------------\u001b[0m",
      "\u001b[1;31mNameError\u001b[0m                                 Traceback (most recent call last)",
      "\u001b[1;32m<ipython-input-7-a021b7e131a0>\u001b[0m in \u001b[0;36m<module>\u001b[1;34m\u001b[0m\n\u001b[0;32m     12\u001b[0m                \u001b[1;33m,\u001b[0m \u001b[0mc\u001b[0m \u001b[1;33m=\u001b[0m \u001b[0mcolor\u001b[0m\u001b[1;33m\u001b[0m\u001b[1;33m\u001b[0m\u001b[0m\n\u001b[0;32m     13\u001b[0m                , s = 50)\n\u001b[1;32m---> 14\u001b[1;33m \u001b[0max\u001b[0m\u001b[1;33m.\u001b[0m\u001b[0mlegend\u001b[0m\u001b[1;33m(\u001b[0m\u001b[0me\u001b[0m\u001b[1;33m)\u001b[0m\u001b[1;33m\u001b[0m\u001b[1;33m\u001b[0m\u001b[0m\n\u001b[0m\u001b[0;32m     15\u001b[0m \u001b[0max\u001b[0m\u001b[1;33m.\u001b[0m\u001b[0mgrid\u001b[0m\u001b[1;33m(\u001b[0m\u001b[1;33m)\u001b[0m\u001b[1;33m\u001b[0m\u001b[1;33m\u001b[0m\u001b[0m\n",
      "\u001b[1;31mNameError\u001b[0m: name 'e' is not defined"
     ]
    },
    {
     "data": {
      "image/png": "[encoded data removed]",
      "text/plain": [
       "<Figure size 576x576 with 1 Axes>"
      ]
     },
     "metadata": {
      "needs_background": "light"
     },
     "output_type": "display_data"
    }
   ],
   "source": [
    "fig = plt.figure(figsize = (8,8))\n",
    "ax = fig.add_subplot(1,1,1) \n",
    "ax.set_xlabel('Principal Component 1', fontsize = 15)\n",
    "ax.set_ylabel('Principal Component 2', fontsize = 15)\n",
    "ax.set_title('2 component PCA', fontsize = 20)\n",
    "targets = ['남', '여']\n",
    "colors = ['r', 'g', 'b']\n",
    "for target, color in zip(['남'],colors):\n",
    "    indicesToKeep = df['성별/sex'] == target\n",
    "    ax.scatter(finalDf.loc[indicesToKeep, 'principal component 1']\n",
    "               , finalDf.loc[indicesToKeep, 'principal component 2']\n",
    "               , c = color\n",
    "               , s = 50)\n",
    "ax.legend(e)\n",
    "ax.grid()\n"
   ]
  },
  {
   "cell_type": "code",
   "execution_count": null,
   "metadata": {
    "pycharm": {
     "is_executing": false
    }
   },
   "outputs": [],
   "source": [
    "fig = plt.figure(figsize = (8,8))\n",
    "ax = fig.add_subplot(1,1,1) \n",
    "ax.set_xlabel('Principal Component 1', fontsize = 15)\n",
    "ax.set_ylabel('Principal Component 2', fontsize = 15)\n",
    "ax.set_title('2 component PCA', fontsize = 20)\n",
    "targets = ['남', '여']\n",
    "colors = ['g']\n",
    "for target, color in zip(['여'],colors):\n",
    "    indicesToKeep = df['성별/sex'] == target\n",
    "    ax.scatter(finalDf.loc[indicesToKeep, 'principal component 1']\n",
    "               , finalDf.loc[indicesToKeep, 'principal component 2']\n",
    "               , c = color\n",
    "               , s = 50)\n",
    "ax.legend(targets)\n",
    "ax.grid()\n"
   ]
  },
  {
   "cell_type": "code",
   "execution_count": null,
   "metadata": {
    "pycharm": {
     "is_executing": false,
     "name": "#%%\n"
    },
    "scrolled": false
   },
   "outputs": [],
   "source": [
    "from sklearn.decomposition import PCA\n",
    "pca_num = 2\n",
    "pca = PCA(n_components=pca_num)\n",
    "principalComponents = pca.fit_transform(normalized_df)\n",
    "principalDf = pd.DataFrame(data = principalComponents\n",
    "             , columns = list(range(pca_num)))\n",
    "principalDf\n",
    "print(pca.components_)\n",
    "print(pca.explained_variance_)\n",
    "print(pca.explained_variance_ratio_)\n",
    "print(pca.explained_variance_ratio_.sum())\n",
    "index_dic_feature = {\n",
    "    12:\"코너비\",\n",
    "    13:\"입너비\",\n",
    "    14:\"아래턱사이너비\",\n",
    "    15:\"코높이\",\n",
    "    16:\"코길이\",\n",
    "    18:\"코뿌리턱끝수직길이\",\n",
    "    19:\"코뿌리코끝수직길이\",\n",
    "    45:\"귀구슬입술직선길이\"\n",
    "}\n",
    "col_feature = list(index_dic_feature.values())\n",
    "df = pd.DataFrame(data = pca.components_,columns = col_feature)\n",
    "df.T"
   ]
  },
  {
   "cell_type": "code",
   "execution_count": null,
   "metadata": {},
   "outputs": [],
   "source": []
  },
  {
   "cell_type": "code",
   "execution_count": 17,
   "metadata": {},
   "outputs": [],
   "source": [
    "df[\"나이/age\"] = (df[\"나이/age\"]/10).astype(int)*10"
   ]
  },
  {
   "cell_type": "code",
   "execution_count": 20,
   "metadata": {},
   "outputs": [
    {
     "data": {
      "text/plain": [
       "array([50, 60, 40, 20, 30])"
      ]
     },
     "execution_count": 20,
     "metadata": {},
     "output_type": "execute_result"
    }
   ],
   "source": [
    "df[\"나이/age\"].unique()"
   ]
  },
  {
   "cell_type": "code",
   "execution_count": 23,
   "metadata": {},
   "outputs": [],
   "source": [
    "finalDf = pd.concat([principalDf, df[\"나이/age\"]], axis = 1)\n"
   ]
  },
  {
   "cell_type": "code",
   "execution_count": 55,
   "metadata": {},
   "outputs": [
    {
     "data": {
      "image/png": "[encoded data removed]",
      "text/plain": [
       "<Figure size 576x576 with 1 Axes>"
      ]
     },
     "metadata": {
      "needs_background": "light"
     },
     "output_type": "display_data"
    }
   ],
   "source": [
    "from sklearn.decomposition import PCA\n",
    "pca = PCA(n_components=2)\n",
    "principalComponents = pca.fit_transform(normalized_df)\n",
    "principalDf = pd.DataFrame(data = principalComponents\n",
    "             , columns = ['principal component 1', 'principal component 2'])\n",
    "fig = plt.figure(figsize = (8,8))\n",
    "ax = fig.add_subplot(1,1,1) \n",
    "ax.set_xlabel('Principal Component 1', fontsize = 15)\n",
    "ax.set_ylabel('Principal Component 2', fontsize = 15)\n",
    "ax.set_title('2 component PCA', fontsize = 20)\n",
    "\n",
    "finalDf = pd.concat([principalDf, df[[\"성별/sex\"]]], axis = 1)\n",
    "\n",
    "targets = [50, 60, 40, 20, 30]\n",
    "colors = ['b', 'g', 'r', 'c', 'm']\n",
    "\n",
    "\n",
    "targets = [20, 30]\n",
    "colors = ['c', 'm']\n",
    "\n",
    "targets = [ 30]\n",
    "colors = ['m']\n",
    "\n",
    "\n",
    "# targets = [50, 60, 40]\n",
    "# colors = ['b', 'g', 'r']\n",
    "\n",
    "for target,color in zip(targets,colors):\n",
    "    indicesToKeep = df['나이/age'] == target\n",
    "    ax.scatter(finalDf.loc[indicesToKeep, 'principal component 1']\n",
    "               , finalDf.loc[indicesToKeep, 'principal component 2']\n",
    "               , c = color\n",
    "               , s = 50)\n",
    "ax.set_xlim(-50,65)\n",
    "ax.set_ylim(-40,55)\n",
    "ax.legend(targets)\n",
    "ax.grid()\n"
   ]
  },
  {
   "cell_type": "code",
   "execution_count": null,
   "metadata": {},
   "outputs": [],
   "source": []
  },
  {
   "cell_type": "code",
   "execution_count": null,
   "metadata": {},
   "outputs": [],
   "source": []
  },
  {
   "cell_type": "code",
   "execution_count": null,
   "metadata": {},
   "outputs": [],
   "source": []
  },
  {
   "cell_type": "code",
   "execution_count": null,
   "metadata": {},
   "outputs": [],
   "source": []
  },
  {
   "cell_type": "code",
   "execution_count": null,
   "metadata": {
    "pycharm": {
     "is_executing": false,
     "name": "#%%\n"
    }
   },
   "outputs": [],
   "source": [
    "import numpy as np\n",
    "import scipy.stats\n",
    "x = df_features[\"귀구슬입술직선길이\"]\n",
    "y = df_features[\"코너비\"]\n",
    "result = scipy.stats.linregress(x,y)\n",
    "print(result.pvalue)\n",
    "plt.scatter(x,y)"
   ]
  },
  {
   "cell_type": "code",
   "execution_count": 16,
   "metadata": {
    "pycharm": {
     "is_executing": false,
     "name": "#%%\n"
    }
   },
   "outputs": [],
   "source": [
    "p_value_mtx = np.zeros((8,8))\n",
    "slope_mtx = np.zeros((8,8))\n",
    "\n",
    "\n",
    "for i in list(range(8)):\n",
    "    for j in list(range(8)):\n",
    "        x = df_features.iloc[:,i]\n",
    "        y = df_features.iloc[:,j]\n",
    "        result = scipy.stats.linregress(x,y)\n",
    "        p_value_mtx[i,j] = result.pvalue\n",
    "        slope_mtx[i,j] = result.slope\n",
    "        \n"
   ]
  },
  {
   "cell_type": "code",
   "execution_count": 17,
   "metadata": {
    "pycharm": {
     "is_executing": false,
     "name": "#%%\n"
    }
   },
   "outputs": [],
   "source": [
    "\n",
    "np.savetxt(\"./p_value_mtx.csv\", p_value_mtx, delimiter=\",\")\n",
    "np.savetxt(\"./slope_mtx.csv\", slope_mtx, delimiter=\",\")\n"
   ]
  },
  {
   "cell_type": "code",
   "execution_count": null,
   "metadata": {
    "pycharm": {
     "name": "#%%\n"
    }
   },
   "outputs": [],
   "source": [
    "\n"
   ]
  },
  {
   "cell_type": "code",
   "execution_count": null,
   "metadata": {},
   "outputs": [],
   "source": []
  },
  {
   "cell_type": "markdown",
   "metadata": {},
   "source": [
    "### Factor Analysis"
   ]
  },
  {
   "cell_type": "code",
   "execution_count": 105,
   "metadata": {},
   "outputs": [],
   "source": [
    "from factor_analyzer import FactorAnalyzer"
   ]
  },
  {
   "cell_type": "code",
   "execution_count": 106,
   "metadata": {},
   "outputs": [],
   "source": [
    "items = df_features.columns.tolist()"
   ]
  },
  {
   "cell_type": "code",
   "execution_count": 107,
   "metadata": {},
   "outputs": [],
   "source": [
    "fa = FactorAnalyzer(n_factors=3, method=\"ml\", rotation=\"promax\")"
   ]
  },
  {
   "cell_type": "code",
   "execution_count": 108,
   "metadata": {},
   "outputs": [
    {
     "data": {
      "text/plain": [
       "FactorAnalyzer(bounds=(0.005, 1), impute='median', is_corr_matrix=False,\n",
       "               method='ml', n_factors=3, rotation='promax', rotation_kwargs={},\n",
       "               use_smc=True)"
      ]
     },
     "execution_count": 108,
     "metadata": {},
     "output_type": "execute_result"
    }
   ],
   "source": [
    "fa.fit(df_features)"
   ]
  },
  {
   "cell_type": "code",
   "execution_count": 109,
   "metadata": {},
   "outputs": [],
   "source": [
    "efa_result= pd.DataFrame(fa.loadings_, index=items)"
   ]
  },
  {
   "cell_type": "code",
   "execution_count": 110,
   "metadata": {},
   "outputs": [
    {
     "data": {
      "text/html": [
       "<div>\n",
       "<style scoped>\n",
       "    .dataframe tbody tr th:only-of-type {\n",
       "        vertical-align: middle;\n",
       "    }\n",
       "\n",
       "    .dataframe tbody tr th {\n",
       "        vertical-align: top;\n",
       "    }\n",
       "\n",
       "    .dataframe thead th {\n",
       "        text-align: right;\n",
       "    }\n",
       "</style>\n",
       "<table border=\"1\" class=\"dataframe\">\n",
       "  <thead>\n",
       "    <tr style=\"text-align: right;\">\n",
       "      <th></th>\n",
       "      <th>0</th>\n",
       "      <th>1</th>\n",
       "      <th>2</th>\n",
       "    </tr>\n",
       "  </thead>\n",
       "  <tbody>\n",
       "    <tr>\n",
       "      <th>코너비</th>\n",
       "      <td>-0.062457</td>\n",
       "      <td>0.676126</td>\n",
       "      <td>0.247030</td>\n",
       "    </tr>\n",
       "    <tr>\n",
       "      <th>입너비</th>\n",
       "      <td>-0.135058</td>\n",
       "      <td>0.922680</td>\n",
       "      <td>-0.225905</td>\n",
       "    </tr>\n",
       "    <tr>\n",
       "      <th>아래턱사이너비</th>\n",
       "      <td>0.020599</td>\n",
       "      <td>-0.088719</td>\n",
       "      <td>0.476933</td>\n",
       "    </tr>\n",
       "    <tr>\n",
       "      <th>코높이</th>\n",
       "      <td>0.508993</td>\n",
       "      <td>-0.128959</td>\n",
       "      <td>0.039128</td>\n",
       "    </tr>\n",
       "    <tr>\n",
       "      <th>코길이</th>\n",
       "      <td>0.914014</td>\n",
       "      <td>0.275168</td>\n",
       "      <td>-0.270495</td>\n",
       "    </tr>\n",
       "    <tr>\n",
       "      <th>코뿌리턱끝수직길이</th>\n",
       "      <td>0.326535</td>\n",
       "      <td>0.576000</td>\n",
       "      <td>0.054149</td>\n",
       "    </tr>\n",
       "    <tr>\n",
       "      <th>코뿌리코끝수직길이</th>\n",
       "      <td>0.798009</td>\n",
       "      <td>-0.009791</td>\n",
       "      <td>0.133497</td>\n",
       "    </tr>\n",
       "    <tr>\n",
       "      <th>귀구슬입술직선길이</th>\n",
       "      <td>-0.031749</td>\n",
       "      <td>0.217192</td>\n",
       "      <td>0.896524</td>\n",
       "    </tr>\n",
       "  </tbody>\n",
       "</table>\n",
       "</div>"
      ],
      "text/plain": [
       "                  0         1         2\n",
       "코너비       -0.062457  0.676126  0.247030\n",
       "입너비       -0.135058  0.922680 -0.225905\n",
       "아래턱사이너비    0.020599 -0.088719  0.476933\n",
       "코높이        0.508993 -0.128959  0.039128\n",
       "코길이        0.914014  0.275168 -0.270495\n",
       "코뿌리턱끝수직길이  0.326535  0.576000  0.054149\n",
       "코뿌리코끝수직길이  0.798009 -0.009791  0.133497\n",
       "귀구슬입술직선길이 -0.031749  0.217192  0.896524"
      ]
     },
     "execution_count": 110,
     "metadata": {},
     "output_type": "execute_result"
    }
   ],
   "source": [
    "efa_result"
   ]
  },
  {
   "cell_type": "code",
   "execution_count": 111,
   "metadata": {
    "scrolled": false
   },
   "outputs": [
    {
     "name": "stderr",
     "output_type": "stream",
     "text": [
      "/Users/zaio/anaconda3/envs/pose/lib/python3.8/site-packages/matplotlib/backends/backend_agg.py:211: RuntimeWarning: Glyph 53076 missing from current font.\n",
      "  font.set_text(s, 0.0, flags=flags)\n",
      "/Users/zaio/anaconda3/envs/pose/lib/python3.8/site-packages/matplotlib/backends/backend_agg.py:211: RuntimeWarning: Glyph 45320 missing from current font.\n",
      "  font.set_text(s, 0.0, flags=flags)\n",
      "/Users/zaio/anaconda3/envs/pose/lib/python3.8/site-packages/matplotlib/backends/backend_agg.py:211: RuntimeWarning: Glyph 48708 missing from current font.\n",
      "  font.set_text(s, 0.0, flags=flags)\n",
      "/Users/zaio/anaconda3/envs/pose/lib/python3.8/site-packages/matplotlib/backends/backend_agg.py:211: RuntimeWarning: Glyph 51077 missing from current font.\n",
      "  font.set_text(s, 0.0, flags=flags)\n",
      "/Users/zaio/anaconda3/envs/pose/lib/python3.8/site-packages/matplotlib/backends/backend_agg.py:211: RuntimeWarning: Glyph 50500 missing from current font.\n",
      "  font.set_text(s, 0.0, flags=flags)\n",
      "/Users/zaio/anaconda3/envs/pose/lib/python3.8/site-packages/matplotlib/backends/backend_agg.py:211: RuntimeWarning: Glyph 47000 missing from current font.\n",
      "  font.set_text(s, 0.0, flags=flags)\n",
      "/Users/zaio/anaconda3/envs/pose/lib/python3.8/site-packages/matplotlib/backends/backend_agg.py:211: RuntimeWarning: Glyph 53553 missing from current font.\n",
      "  font.set_text(s, 0.0, flags=flags)\n",
      "/Users/zaio/anaconda3/envs/pose/lib/python3.8/site-packages/matplotlib/backends/backend_agg.py:211: RuntimeWarning: Glyph 49324 missing from current font.\n",
      "  font.set_text(s, 0.0, flags=flags)\n",
      "/Users/zaio/anaconda3/envs/pose/lib/python3.8/site-packages/matplotlib/backends/backend_agg.py:211: RuntimeWarning: Glyph 51060 missing from current font.\n",
      "  font.set_text(s, 0.0, flags=flags)\n",
      "/Users/zaio/anaconda3/envs/pose/lib/python3.8/site-packages/matplotlib/backends/backend_agg.py:211: RuntimeWarning: Glyph 45458 missing from current font.\n",
      "  font.set_text(s, 0.0, flags=flags)\n",
      "/Users/zaio/anaconda3/envs/pose/lib/python3.8/site-packages/matplotlib/backends/backend_agg.py:211: RuntimeWarning: Glyph 44600 missing from current font.\n",
      "  font.set_text(s, 0.0, flags=flags)\n",
      "/Users/zaio/anaconda3/envs/pose/lib/python3.8/site-packages/matplotlib/backends/backend_agg.py:211: RuntimeWarning: Glyph 49100 missing from current font.\n",
      "  font.set_text(s, 0.0, flags=flags)\n",
      "/Users/zaio/anaconda3/envs/pose/lib/python3.8/site-packages/matplotlib/backends/backend_agg.py:211: RuntimeWarning: Glyph 47532 missing from current font.\n",
      "  font.set_text(s, 0.0, flags=flags)\n",
      "/Users/zaio/anaconda3/envs/pose/lib/python3.8/site-packages/matplotlib/backends/backend_agg.py:211: RuntimeWarning: Glyph 45149 missing from current font.\n",
      "  font.set_text(s, 0.0, flags=flags)\n",
      "/Users/zaio/anaconda3/envs/pose/lib/python3.8/site-packages/matplotlib/backends/backend_agg.py:211: RuntimeWarning: Glyph 49688 missing from current font.\n",
      "  font.set_text(s, 0.0, flags=flags)\n",
      "/Users/zaio/anaconda3/envs/pose/lib/python3.8/site-packages/matplotlib/backends/backend_agg.py:211: RuntimeWarning: Glyph 51649 missing from current font.\n",
      "  font.set_text(s, 0.0, flags=flags)\n",
      "/Users/zaio/anaconda3/envs/pose/lib/python3.8/site-packages/matplotlib/backends/backend_agg.py:211: RuntimeWarning: Glyph 44480 missing from current font.\n",
      "  font.set_text(s, 0.0, flags=flags)\n",
      "/Users/zaio/anaconda3/envs/pose/lib/python3.8/site-packages/matplotlib/backends/backend_agg.py:211: RuntimeWarning: Glyph 44396 missing from current font.\n",
      "  font.set_text(s, 0.0, flags=flags)\n",
      "/Users/zaio/anaconda3/envs/pose/lib/python3.8/site-packages/matplotlib/backends/backend_agg.py:211: RuntimeWarning: Glyph 49836 missing from current font.\n",
      "  font.set_text(s, 0.0, flags=flags)\n",
      "/Users/zaio/anaconda3/envs/pose/lib/python3.8/site-packages/matplotlib/backends/backend_agg.py:211: RuntimeWarning: Glyph 49696 missing from current font.\n",
      "  font.set_text(s, 0.0, flags=flags)\n",
      "/Users/zaio/anaconda3/envs/pose/lib/python3.8/site-packages/matplotlib/backends/backend_agg.py:211: RuntimeWarning: Glyph 49440 missing from current font.\n",
      "  font.set_text(s, 0.0, flags=flags)\n",
      "/Users/zaio/anaconda3/envs/pose/lib/python3.8/site-packages/matplotlib/backends/backend_agg.py:180: RuntimeWarning: Glyph 53076 missing from current font.\n",
      "  font.set_text(s, 0, flags=flags)\n",
      "/Users/zaio/anaconda3/envs/pose/lib/python3.8/site-packages/matplotlib/backends/backend_agg.py:180: RuntimeWarning: Glyph 45320 missing from current font.\n",
      "  font.set_text(s, 0, flags=flags)\n",
      "/Users/zaio/anaconda3/envs/pose/lib/python3.8/site-packages/matplotlib/backends/backend_agg.py:180: RuntimeWarning: Glyph 48708 missing from current font.\n",
      "  font.set_text(s, 0, flags=flags)\n",
      "/Users/zaio/anaconda3/envs/pose/lib/python3.8/site-packages/matplotlib/backends/backend_agg.py:180: RuntimeWarning: Glyph 51077 missing from current font.\n",
      "  font.set_text(s, 0, flags=flags)\n",
      "/Users/zaio/anaconda3/envs/pose/lib/python3.8/site-packages/matplotlib/backends/backend_agg.py:180: RuntimeWarning: Glyph 50500 missing from current font.\n",
      "  font.set_text(s, 0, flags=flags)\n",
      "/Users/zaio/anaconda3/envs/pose/lib/python3.8/site-packages/matplotlib/backends/backend_agg.py:180: RuntimeWarning: Glyph 47000 missing from current font.\n",
      "  font.set_text(s, 0, flags=flags)\n",
      "/Users/zaio/anaconda3/envs/pose/lib/python3.8/site-packages/matplotlib/backends/backend_agg.py:180: RuntimeWarning: Glyph 53553 missing from current font.\n",
      "  font.set_text(s, 0, flags=flags)\n",
      "/Users/zaio/anaconda3/envs/pose/lib/python3.8/site-packages/matplotlib/backends/backend_agg.py:180: RuntimeWarning: Glyph 49324 missing from current font.\n",
      "  font.set_text(s, 0, flags=flags)\n",
      "/Users/zaio/anaconda3/envs/pose/lib/python3.8/site-packages/matplotlib/backends/backend_agg.py:180: RuntimeWarning: Glyph 51060 missing from current font.\n",
      "  font.set_text(s, 0, flags=flags)\n",
      "/Users/zaio/anaconda3/envs/pose/lib/python3.8/site-packages/matplotlib/backends/backend_agg.py:180: RuntimeWarning: Glyph 45458 missing from current font.\n",
      "  font.set_text(s, 0, flags=flags)\n",
      "/Users/zaio/anaconda3/envs/pose/lib/python3.8/site-packages/matplotlib/backends/backend_agg.py:180: RuntimeWarning: Glyph 44600 missing from current font.\n",
      "  font.set_text(s, 0, flags=flags)\n",
      "/Users/zaio/anaconda3/envs/pose/lib/python3.8/site-packages/matplotlib/backends/backend_agg.py:180: RuntimeWarning: Glyph 49100 missing from current font.\n",
      "  font.set_text(s, 0, flags=flags)\n",
      "/Users/zaio/anaconda3/envs/pose/lib/python3.8/site-packages/matplotlib/backends/backend_agg.py:180: RuntimeWarning: Glyph 47532 missing from current font.\n",
      "  font.set_text(s, 0, flags=flags)\n",
      "/Users/zaio/anaconda3/envs/pose/lib/python3.8/site-packages/matplotlib/backends/backend_agg.py:180: RuntimeWarning: Glyph 45149 missing from current font.\n",
      "  font.set_text(s, 0, flags=flags)\n",
      "/Users/zaio/anaconda3/envs/pose/lib/python3.8/site-packages/matplotlib/backends/backend_agg.py:180: RuntimeWarning: Glyph 49688 missing from current font.\n",
      "  font.set_text(s, 0, flags=flags)\n",
      "/Users/zaio/anaconda3/envs/pose/lib/python3.8/site-packages/matplotlib/backends/backend_agg.py:180: RuntimeWarning: Glyph 51649 missing from current font.\n",
      "  font.set_text(s, 0, flags=flags)\n",
      "/Users/zaio/anaconda3/envs/pose/lib/python3.8/site-packages/matplotlib/backends/backend_agg.py:180: RuntimeWarning: Glyph 44480 missing from current font.\n",
      "  font.set_text(s, 0, flags=flags)\n",
      "/Users/zaio/anaconda3/envs/pose/lib/python3.8/site-packages/matplotlib/backends/backend_agg.py:180: RuntimeWarning: Glyph 44396 missing from current font.\n",
      "  font.set_text(s, 0, flags=flags)\n",
      "/Users/zaio/anaconda3/envs/pose/lib/python3.8/site-packages/matplotlib/backends/backend_agg.py:180: RuntimeWarning: Glyph 49836 missing from current font.\n",
      "  font.set_text(s, 0, flags=flags)\n",
      "/Users/zaio/anaconda3/envs/pose/lib/python3.8/site-packages/matplotlib/backends/backend_agg.py:180: RuntimeWarning: Glyph 49696 missing from current font.\n",
      "  font.set_text(s, 0, flags=flags)\n",
      "/Users/zaio/anaconda3/envs/pose/lib/python3.8/site-packages/matplotlib/backends/backend_agg.py:180: RuntimeWarning: Glyph 49440 missing from current font.\n",
      "  font.set_text(s, 0, flags=flags)\n"
     ]
    },
    {
     "data": {
      "text/plain": [
       "<matplotlib.axes._subplots.AxesSubplot at 0x7fa733f41220>"
      ]
     },
     "execution_count": 111,
     "metadata": {},
     "output_type": "execute_result"
    },
    {
     "data": {
      "image/png": "[encoded data removed]",
      "text/plain": [
       "<Figure size 432x720 with 2 Axes>"
      ]
     },
     "metadata": {
      "needs_background": "light"
     },
     "output_type": "display_data"
    }
   ],
   "source": [
    "import seaborn as sns\n",
    "\n",
    "plt.figure(figsize=(6,10))\n",
    "sns.heatmap(efa_result, cmap=\"Blues\", annot=True, fmt='.2f')"
   ]
  },
  {
   "cell_type": "code",
   "execution_count": null,
   "metadata": {},
   "outputs": [],
   "source": []
  },
  {
   "cell_type": "code",
   "execution_count": 112,
   "metadata": {},
   "outputs": [
    {
     "data": {
      "image/png": "[encoded data removed]",
      "text/plain": [
       "<Figure size 432x288 with 1 Axes>"
      ]
     },
     "metadata": {
      "needs_background": "light"
     },
     "output_type": "display_data"
    }
   ],
   "source": [
    "fa = FactorAnalyzer()\n",
    "\n",
    "fa = FactorAnalyzer()\n",
    "fa.fit(df_features, 25)\n",
    "eigen_values, vectors = fa.get_eigenvalues()\n",
    "ev, v = fa.get_eigenvalues()\n",
    "\n",
    "plt.scatter(range(1,df_features.shape[1]+1),ev)\n",
    "plt.plot(range(1,df_features.shape[1]+1),ev)\n",
    "plt.title('Scree Plot')\n",
    "plt.xlabel('Factors')\n",
    "plt.ylabel('Eigenvalue')\n",
    "plt.grid()\n",
    "plt.show()"
   ]
  },
  {
   "cell_type": "code",
   "execution_count": 113,
   "metadata": {},
   "outputs": [],
   "source": [
    "# > .9 (Excellent), > .8 (Good), > .7 (Acceptable), > .6 (Questionable), > .5(Poor), and < .5 (Unacceptable)\n",
    "def CronbachAlpha(itemscores):\n",
    "    itemscores = np.asarray(itemscores)\n",
    "    itemvars = itemscores.var(axis=0, ddof=1)\n",
    "    tscores = itemscores.sum(axis=1)\n",
    "    nitems = itemscores.shape[1]\n",
    "\n",
    "    return (nitems / (nitems-1)) * (1 - (itemvars.sum() / tscores.var(ddof=1)))"
   ]
  },
  {
   "cell_type": "code",
   "execution_count": 114,
   "metadata": {},
   "outputs": [
    {
     "name": "stdout",
     "output_type": "stream",
     "text": [
      "0: 0.773103995994671\n",
      "1: 0.7120750556215918\n",
      "2: 0.5751922029655083\n"
     ]
    }
   ],
   "source": [
    "index_dic = {\n",
    "    0: \"나이/age\",\n",
    "    1: \"성별/sex\",\n",
    "    12:\"코너비\",\n",
    "    13:\"입너비\",\n",
    "    14:\"아래턱사이너비\",\n",
    "    15:\"코높이\",\n",
    "    16:\"코길이\",\n",
    "    18:\"코뿌리턱끝수직길이\",\n",
    "    19:\"코뿌리코끝수직길이\",\n",
    "    45:\"귀구슬입술직선길이\"\n",
    "}\n",
    "factors_items_dict = {}\n",
    "factors_items_dict[0] = [\"코높이\",\"코뿌리코끝수직길이\",\"코길이\"]\n",
    "factors_items_dict[1] = [\"코너비\",\"입너비\",\"코뿌리턱끝수직길이\"]\n",
    "factors_items_dict[2] = [\"아래턱사이너비\",\"귀구슬입술직선길이\"]\n",
    "\n",
    "for key, value in factors_items_dict.items():\n",
    "    print(str(key)+\": \"+str(CronbachAlpha(df_features[value])))\n"
   ]
  },
  {
   "cell_type": "code",
   "execution_count": 115,
   "metadata": {},
   "outputs": [
    {
     "data": {
      "text/plain": [
       "(array([1.86434508, 1.79748665, 1.21228531]),\n",
       " array([0.23304313, 0.22468583, 0.15153566]),\n",
       " array([0.23304313, 0.45772897, 0.60926463]))"
      ]
     },
     "execution_count": 115,
     "metadata": {},
     "output_type": "execute_result"
    }
   ],
   "source": [
    "fa.get_factor_variance()"
   ]
  },
  {
   "cell_type": "code",
   "execution_count": 92,
   "metadata": {},
   "outputs": [],
   "source": []
  },
  {
   "cell_type": "code",
   "execution_count": 93,
   "metadata": {},
   "outputs": [
    {
     "data": {
      "text/html": [
       "<div>\n",
       "<style scoped>\n",
       "    .dataframe tbody tr th:only-of-type {\n",
       "        vertical-align: middle;\n",
       "    }\n",
       "\n",
       "    .dataframe tbody tr th {\n",
       "        vertical-align: top;\n",
       "    }\n",
       "\n",
       "    .dataframe thead th {\n",
       "        text-align: right;\n",
       "    }\n",
       "</style>\n",
       "<table border=\"1\" class=\"dataframe\">\n",
       "  <thead>\n",
       "    <tr style=\"text-align: right;\">\n",
       "      <th></th>\n",
       "      <th>0</th>\n",
       "      <th>1</th>\n",
       "      <th>2</th>\n",
       "    </tr>\n",
       "  </thead>\n",
       "  <tbody>\n",
       "    <tr>\n",
       "      <th>코너비</th>\n",
       "      <td>0.062457</td>\n",
       "      <td>0.676126</td>\n",
       "      <td>0.247030</td>\n",
       "    </tr>\n",
       "    <tr>\n",
       "      <th>입너비</th>\n",
       "      <td>0.135058</td>\n",
       "      <td>0.922680</td>\n",
       "      <td>-0.225905</td>\n",
       "    </tr>\n",
       "    <tr>\n",
       "      <th>아래턱사이너비</th>\n",
       "      <td>-0.020599</td>\n",
       "      <td>-0.088719</td>\n",
       "      <td>0.476933</td>\n",
       "    </tr>\n",
       "    <tr>\n",
       "      <th>코높이</th>\n",
       "      <td>-0.508993</td>\n",
       "      <td>-0.128959</td>\n",
       "      <td>0.039128</td>\n",
       "    </tr>\n",
       "    <tr>\n",
       "      <th>코길이</th>\n",
       "      <td>-0.914014</td>\n",
       "      <td>0.275168</td>\n",
       "      <td>-0.270495</td>\n",
       "    </tr>\n",
       "    <tr>\n",
       "      <th>코뿌리턱끝수직길이</th>\n",
       "      <td>-0.326535</td>\n",
       "      <td>0.576000</td>\n",
       "      <td>0.054149</td>\n",
       "    </tr>\n",
       "    <tr>\n",
       "      <th>코뿌리코끝수직길이</th>\n",
       "      <td>-0.798009</td>\n",
       "      <td>-0.009791</td>\n",
       "      <td>0.133497</td>\n",
       "    </tr>\n",
       "    <tr>\n",
       "      <th>귀구슬입술직선길이</th>\n",
       "      <td>0.031749</td>\n",
       "      <td>0.217192</td>\n",
       "      <td>0.896524</td>\n",
       "    </tr>\n",
       "  </tbody>\n",
       "</table>\n",
       "</div>"
      ],
      "text/plain": [
       "                  0         1         2\n",
       "코너비        0.062457  0.676126  0.247030\n",
       "입너비        0.135058  0.922680 -0.225905\n",
       "아래턱사이너비   -0.020599 -0.088719  0.476933\n",
       "코높이       -0.508993 -0.128959  0.039128\n",
       "코길이       -0.914014  0.275168 -0.270495\n",
       "코뿌리턱끝수직길이 -0.326535  0.576000  0.054149\n",
       "코뿌리코끝수직길이 -0.798009 -0.009791  0.133497\n",
       "귀구슬입술직선길이  0.031749  0.217192  0.896524"
      ]
     },
     "execution_count": 93,
     "metadata": {},
     "output_type": "execute_result"
    }
   ],
   "source": []
  },
  {
   "cell_type": "code",
   "execution_count": 1,
   "metadata": {},
   "outputs": [
    {
     "ename": "NameError",
     "evalue": "name 'df' is not defined",
     "output_type": "error",
     "traceback": [
      "\u001b[1;31m---------------------------------------------------------------------------\u001b[0m",
      "\u001b[1;31mNameError\u001b[0m                                 Traceback (most recent call last)",
      "\u001b[1;32m<ipython-input-1-00cf07b74dcd>\u001b[0m in \u001b[0;36m<module>\u001b[1;34m\u001b[0m\n\u001b[1;32m----> 1\u001b[1;33m \u001b[0mdf\u001b[0m\u001b[1;33m\u001b[0m\u001b[1;33m\u001b[0m\u001b[0m\n\u001b[0m",
      "\u001b[1;31mNameError\u001b[0m: name 'df' is not defined"
     ]
    }
   ],
   "source": [
    "df"
   ]
  },
  {
   "cell_type": "code",
   "execution_count": null,
   "metadata": {},
   "outputs": [],
   "source": []
  }
 ],
 "metadata": {
  "kernelspec": {
   "display_name": "Python 3",
   "language": "python",
   "name": "python3"
  },
  "language_info": {
   "codemirror_mode": {
    "name": "ipython",
    "version": 3
   },
   "file_extension": ".py",
   "mimetype": "text/x-python",
   "name": "python",
   "nbconvert_exporter": "python",
   "pygments_lexer": "ipython3",
   "version": "3.6.10"
  },
  "pycharm": {
   "stem_cell": {
    "cell_type": "raw",
    "metadata": {
     "collapsed": false
    },
    "source": []
   }
  }
 },
 "nbformat": 4,
 "nbformat_minor": 1
}
