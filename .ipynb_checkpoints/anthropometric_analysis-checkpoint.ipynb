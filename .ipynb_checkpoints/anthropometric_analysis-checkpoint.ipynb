{
 "cells": [
  {
   "cell_type": "code",
   "execution_count": 2,
   "metadata": {
    "pycharm": {
     "is_executing": false,
     "name": "#%%\n"
    }
   },
   "outputs": [],
   "source": [
    "import numpy as np\n",
    "import pandas as pd"
   ]
  },
  {
   "cell_type": "code",
   "execution_count": 3,
   "metadata": {
    "pycharm": {
     "is_executing": false,
     "name": "#%%\n"
    }
   },
   "outputs": [],
   "source": [
    "index_dic = {\n",
    "    0: \"나이/age\",\n",
    "    1: \"성별/sex\",\n",
    "    3:\"귀구슬사이머리마루(호)길이\",\n",
    "    12:\"코너비\",\n",
    "    13:\"입너비\",\n",
    "    14:\"아래턱사이너비\",\n",
    "    15:\"코높이\",\n",
    "    16:\"코길이\",\n",
    "    18:\"코뿌리턱끝수직길이\",\n",
    "    19:\"코뿌리코끝수직길이\",\n",
    "    45:\"귀구슬입술직선길이\"\n",
    "}\n",
    "\n",
    "df = pd.read_excel (r\".\\2010_6th_sort_translated.xlsx\")\n",
    "col = list(index_dic.values())\n",
    "\n",
    "df = df.dropna()\n",
    "df.reset_index(inplace = True,drop = True)\n",
    "df_features = df[col[3:]]\n",
    "df_features.reset_index(inplace = True,drop = True)\n",
    "normalized_df=df_features-df_features.mean()"
   ]
  },
  {
   "cell_type": "code",
   "execution_count": 5,
   "metadata": {
    "pycharm": {
     "is_executing": false,
     "name": "#%%\n"
    }
   },
   "outputs": [
    {
     "data": {
      "text/html": [
       "<div>\n",
       "<style scoped>\n",
       "    .dataframe tbody tr th:only-of-type {\n",
       "        vertical-align: middle;\n",
       "    }\n",
       "\n",
       "    .dataframe tbody tr th {\n",
       "        vertical-align: top;\n",
       "    }\n",
       "\n",
       "    .dataframe thead th {\n",
       "        text-align: right;\n",
       "    }\n",
       "</style>\n",
       "<table border=\"1\" class=\"dataframe\">\n",
       "  <thead>\n",
       "    <tr style=\"text-align: right;\">\n",
       "      <th></th>\n",
       "      <th>코너비</th>\n",
       "      <th>입너비</th>\n",
       "      <th>아래턱사이너비</th>\n",
       "      <th>코높이</th>\n",
       "      <th>코길이</th>\n",
       "      <th>코뿌리턱끝수직길이</th>\n",
       "      <th>코뿌리코끝수직길이</th>\n",
       "      <th>귀구슬입술직선길이</th>\n",
       "    </tr>\n",
       "  </thead>\n",
       "  <tbody>\n",
       "    <tr>\n",
       "      <th>count</th>\n",
       "      <td>2054.000000</td>\n",
       "      <td>2054.000000</td>\n",
       "      <td>2054.000000</td>\n",
       "      <td>2054.000000</td>\n",
       "      <td>2054.000000</td>\n",
       "      <td>2054.000000</td>\n",
       "      <td>2054.000000</td>\n",
       "      <td>2054.00000</td>\n",
       "    </tr>\n",
       "    <tr>\n",
       "      <th>mean</th>\n",
       "      <td>35.141723</td>\n",
       "      <td>51.299951</td>\n",
       "      <td>123.431353</td>\n",
       "      <td>12.853603</td>\n",
       "      <td>51.131305</td>\n",
       "      <td>112.672882</td>\n",
       "      <td>35.420594</td>\n",
       "      <td>137.28666</td>\n",
       "    </tr>\n",
       "    <tr>\n",
       "      <th>std</th>\n",
       "      <td>3.874189</td>\n",
       "      <td>8.194956</td>\n",
       "      <td>11.979103</td>\n",
       "      <td>2.435991</td>\n",
       "      <td>3.964258</td>\n",
       "      <td>7.764659</td>\n",
       "      <td>4.156997</td>\n",
       "      <td>13.11076</td>\n",
       "    </tr>\n",
       "    <tr>\n",
       "      <th>min</th>\n",
       "      <td>23.400000</td>\n",
       "      <td>27.600000</td>\n",
       "      <td>80.000000</td>\n",
       "      <td>5.000000</td>\n",
       "      <td>39.600000</td>\n",
       "      <td>92.000000</td>\n",
       "      <td>22.000000</td>\n",
       "      <td>110.00000</td>\n",
       "    </tr>\n",
       "    <tr>\n",
       "      <th>25%</th>\n",
       "      <td>32.425000</td>\n",
       "      <td>45.100000</td>\n",
       "      <td>115.000000</td>\n",
       "      <td>11.000000</td>\n",
       "      <td>48.025000</td>\n",
       "      <td>107.225000</td>\n",
       "      <td>32.100000</td>\n",
       "      <td>129.00000</td>\n",
       "    </tr>\n",
       "    <tr>\n",
       "      <th>50%</th>\n",
       "      <td>35.000000</td>\n",
       "      <td>52.000000</td>\n",
       "      <td>124.000000</td>\n",
       "      <td>13.000000</td>\n",
       "      <td>51.000000</td>\n",
       "      <td>112.650000</td>\n",
       "      <td>35.000000</td>\n",
       "      <td>134.70000</td>\n",
       "    </tr>\n",
       "    <tr>\n",
       "      <th>75%</th>\n",
       "      <td>38.000000</td>\n",
       "      <td>57.000000</td>\n",
       "      <td>131.700000</td>\n",
       "      <td>14.400000</td>\n",
       "      <td>54.000000</td>\n",
       "      <td>118.000000</td>\n",
       "      <td>38.000000</td>\n",
       "      <td>141.37500</td>\n",
       "    </tr>\n",
       "    <tr>\n",
       "      <th>max</th>\n",
       "      <td>56.100000</td>\n",
       "      <td>78.000000</td>\n",
       "      <td>165.800000</td>\n",
       "      <td>23.000000</td>\n",
       "      <td>65.000000</td>\n",
       "      <td>143.000000</td>\n",
       "      <td>50.000000</td>\n",
       "      <td>191.10000</td>\n",
       "    </tr>\n",
       "  </tbody>\n",
       "</table>\n",
       "</div>"
      ],
      "text/plain": [
       "               코너비          입너비      아래턱사이너비          코높이          코길이  \\\n",
       "count  2054.000000  2054.000000  2054.000000  2054.000000  2054.000000   \n",
       "mean     35.141723    51.299951   123.431353    12.853603    51.131305   \n",
       "std       3.874189     8.194956    11.979103     2.435991     3.964258   \n",
       "min      23.400000    27.600000    80.000000     5.000000    39.600000   \n",
       "25%      32.425000    45.100000   115.000000    11.000000    48.025000   \n",
       "50%      35.000000    52.000000   124.000000    13.000000    51.000000   \n",
       "75%      38.000000    57.000000   131.700000    14.400000    54.000000   \n",
       "max      56.100000    78.000000   165.800000    23.000000    65.000000   \n",
       "\n",
       "         코뿌리턱끝수직길이    코뿌리코끝수직길이   귀구슬입술직선길이  \n",
       "count  2054.000000  2054.000000  2054.00000  \n",
       "mean    112.672882    35.420594   137.28666  \n",
       "std       7.764659     4.156997    13.11076  \n",
       "min      92.000000    22.000000   110.00000  \n",
       "25%     107.225000    32.100000   129.00000  \n",
       "50%     112.650000    35.000000   134.70000  \n",
       "75%     118.000000    38.000000   141.37500  \n",
       "max     143.000000    50.000000   191.10000  "
      ]
     },
     "execution_count": 5,
     "metadata": {},
     "output_type": "execute_result"
    }
   ],
   "source": [
    "# Statistics description\n",
    "df_features.describe()"
   ]
  },
  {
   "cell_type": "code",
   "execution_count": 8,
   "metadata": {},
   "outputs": [
    {
     "data": {
      "text/html": [
       "<div>\n",
       "<style scoped>\n",
       "    .dataframe tbody tr th:only-of-type {\n",
       "        vertical-align: middle;\n",
       "    }\n",
       "\n",
       "    .dataframe tbody tr th {\n",
       "        vertical-align: top;\n",
       "    }\n",
       "\n",
       "    .dataframe thead tr th {\n",
       "        text-align: left;\n",
       "    }\n",
       "\n",
       "    .dataframe thead tr:last-of-type th {\n",
       "        text-align: right;\n",
       "    }\n",
       "</style>\n",
       "<table border=\"1\" class=\"dataframe\">\n",
       "  <thead>\n",
       "    <tr>\n",
       "      <th></th>\n",
       "      <th colspan=\"8\" halign=\"left\">나이/age</th>\n",
       "      <th colspan=\"2\" halign=\"left\">코높이</th>\n",
       "      <th>...</th>\n",
       "      <th colspan=\"2\" halign=\"left\">입너비</th>\n",
       "      <th colspan=\"8\" halign=\"left\">아래턱사이너비</th>\n",
       "    </tr>\n",
       "    <tr>\n",
       "      <th></th>\n",
       "      <th>count</th>\n",
       "      <th>mean</th>\n",
       "      <th>std</th>\n",
       "      <th>min</th>\n",
       "      <th>25%</th>\n",
       "      <th>50%</th>\n",
       "      <th>75%</th>\n",
       "      <th>max</th>\n",
       "      <th>count</th>\n",
       "      <th>mean</th>\n",
       "      <th>...</th>\n",
       "      <th>75%</th>\n",
       "      <th>max</th>\n",
       "      <th>count</th>\n",
       "      <th>mean</th>\n",
       "      <th>std</th>\n",
       "      <th>min</th>\n",
       "      <th>25%</th>\n",
       "      <th>50%</th>\n",
       "      <th>75%</th>\n",
       "      <th>max</th>\n",
       "    </tr>\n",
       "    <tr>\n",
       "      <th>성별/sex</th>\n",
       "      <th></th>\n",
       "      <th></th>\n",
       "      <th></th>\n",
       "      <th></th>\n",
       "      <th></th>\n",
       "      <th></th>\n",
       "      <th></th>\n",
       "      <th></th>\n",
       "      <th></th>\n",
       "      <th></th>\n",
       "      <th></th>\n",
       "      <th></th>\n",
       "      <th></th>\n",
       "      <th></th>\n",
       "      <th></th>\n",
       "      <th></th>\n",
       "      <th></th>\n",
       "      <th></th>\n",
       "      <th></th>\n",
       "      <th></th>\n",
       "      <th></th>\n",
       "    </tr>\n",
       "  </thead>\n",
       "  <tbody>\n",
       "    <tr>\n",
       "      <th>남</th>\n",
       "      <td>1040.0</td>\n",
       "      <td>44.154808</td>\n",
       "      <td>14.441748</td>\n",
       "      <td>20.0</td>\n",
       "      <td>31.0</td>\n",
       "      <td>44.0</td>\n",
       "      <td>57.0</td>\n",
       "      <td>69.0</td>\n",
       "      <td>1040.0</td>\n",
       "      <td>13.621635</td>\n",
       "      <td>...</td>\n",
       "      <td>60.0</td>\n",
       "      <td>78.0</td>\n",
       "      <td>1040.0</td>\n",
       "      <td>127.497692</td>\n",
       "      <td>11.455185</td>\n",
       "      <td>90.0</td>\n",
       "      <td>120.0</td>\n",
       "      <td>128.0</td>\n",
       "      <td>135.4</td>\n",
       "      <td>161.0</td>\n",
       "    </tr>\n",
       "    <tr>\n",
       "      <th>여</th>\n",
       "      <td>1014.0</td>\n",
       "      <td>44.474359</td>\n",
       "      <td>14.420728</td>\n",
       "      <td>20.0</td>\n",
       "      <td>32.0</td>\n",
       "      <td>45.0</td>\n",
       "      <td>57.0</td>\n",
       "      <td>69.0</td>\n",
       "      <td>1014.0</td>\n",
       "      <td>12.065878</td>\n",
       "      <td>...</td>\n",
       "      <td>55.0</td>\n",
       "      <td>71.0</td>\n",
       "      <td>1014.0</td>\n",
       "      <td>119.260750</td>\n",
       "      <td>11.038406</td>\n",
       "      <td>80.0</td>\n",
       "      <td>111.0</td>\n",
       "      <td>120.0</td>\n",
       "      <td>127.6</td>\n",
       "      <td>165.8</td>\n",
       "    </tr>\n",
       "  </tbody>\n",
       "</table>\n",
       "<p>2 rows × 368 columns</p>\n",
       "</div>"
      ],
      "text/plain": [
       "        나이/age                                                         코높이  \\\n",
       "         count       mean        std   min   25%   50%   75%   max   count   \n",
       "성별/sex                                                                       \n",
       "남       1040.0  44.154808  14.441748  20.0  31.0  44.0  57.0  69.0  1040.0   \n",
       "여       1014.0  44.474359  14.420728  20.0  32.0  45.0  57.0  69.0  1014.0   \n",
       "\n",
       "                   ...   입너비       아래턱사이너비                               \\\n",
       "             mean  ...   75%   max   count        mean        std   min   \n",
       "성별/sex             ...                                                    \n",
       "남       13.621635  ...  60.0  78.0  1040.0  127.497692  11.455185  90.0   \n",
       "여       12.065878  ...  55.0  71.0  1014.0  119.260750  11.038406  80.0   \n",
       "\n",
       "                                    \n",
       "          25%    50%    75%    max  \n",
       "성별/sex                              \n",
       "남       120.0  128.0  135.4  161.0  \n",
       "여       111.0  120.0  127.6  165.8  \n",
       "\n",
       "[2 rows x 368 columns]"
      ]
     },
     "execution_count": 8,
     "metadata": {},
     "output_type": "execute_result"
    }
   ],
   "source": [
    "# Statistics description \n",
    "df.groupby(\"성별/sex\").describe()"
   ]
  },
  {
   "cell_type": "code",
   "execution_count": 11,
   "metadata": {
    "pycharm": {
     "is_executing": false,
     "name": "#%%\n"
    }
   },
   "outputs": [
    {
     "ename": "NameError",
     "evalue": "name 'plt' is not defined",
     "output_type": "error",
     "traceback": [
      "\u001b[1;31m---------------------------------------------------------------------------\u001b[0m",
      "\u001b[1;31mNameError\u001b[0m                                 Traceback (most recent call last)",
      "\u001b[1;32m<ipython-input-11-023500b3fd81>\u001b[0m in \u001b[0;36m<module>\u001b[1;34m\u001b[0m\n\u001b[0;32m      6\u001b[0m \u001b[0mfinalDf\u001b[0m \u001b[1;33m=\u001b[0m \u001b[0mpd\u001b[0m\u001b[1;33m.\u001b[0m\u001b[0mconcat\u001b[0m\u001b[1;33m(\u001b[0m\u001b[1;33m[\u001b[0m\u001b[0mprincipalDf\u001b[0m\u001b[1;33m,\u001b[0m \u001b[0mdf\u001b[0m\u001b[1;33m[\u001b[0m\u001b[1;33m[\u001b[0m\u001b[1;34m'성별/sex'\u001b[0m\u001b[1;33m]\u001b[0m\u001b[1;33m]\u001b[0m\u001b[1;33m]\u001b[0m\u001b[1;33m,\u001b[0m \u001b[0maxis\u001b[0m \u001b[1;33m=\u001b[0m \u001b[1;36m1\u001b[0m\u001b[1;33m)\u001b[0m\u001b[1;33m\u001b[0m\u001b[1;33m\u001b[0m\u001b[0m\n\u001b[0;32m      7\u001b[0m \u001b[1;33m\u001b[0m\u001b[0m\n\u001b[1;32m----> 8\u001b[1;33m \u001b[0mfig\u001b[0m \u001b[1;33m=\u001b[0m \u001b[0mplt\u001b[0m\u001b[1;33m.\u001b[0m\u001b[0mfigure\u001b[0m\u001b[1;33m(\u001b[0m\u001b[0mfigsize\u001b[0m \u001b[1;33m=\u001b[0m \u001b[1;33m(\u001b[0m\u001b[1;36m8\u001b[0m\u001b[1;33m,\u001b[0m\u001b[1;36m8\u001b[0m\u001b[1;33m)\u001b[0m\u001b[1;33m)\u001b[0m\u001b[1;33m\u001b[0m\u001b[1;33m\u001b[0m\u001b[0m\n\u001b[0m\u001b[0;32m      9\u001b[0m \u001b[0max\u001b[0m \u001b[1;33m=\u001b[0m \u001b[0mfig\u001b[0m\u001b[1;33m.\u001b[0m\u001b[0madd_subplot\u001b[0m\u001b[1;33m(\u001b[0m\u001b[1;36m1\u001b[0m\u001b[1;33m,\u001b[0m\u001b[1;36m1\u001b[0m\u001b[1;33m,\u001b[0m\u001b[1;36m1\u001b[0m\u001b[1;33m)\u001b[0m\u001b[1;33m\u001b[0m\u001b[1;33m\u001b[0m\u001b[0m\n\u001b[0;32m     10\u001b[0m \u001b[0max\u001b[0m\u001b[1;33m.\u001b[0m\u001b[0mset_xlabel\u001b[0m\u001b[1;33m(\u001b[0m\u001b[1;34m'Principal Component 1'\u001b[0m\u001b[1;33m,\u001b[0m \u001b[0mfontsize\u001b[0m \u001b[1;33m=\u001b[0m \u001b[1;36m15\u001b[0m\u001b[1;33m)\u001b[0m\u001b[1;33m\u001b[0m\u001b[1;33m\u001b[0m\u001b[0m\n",
      "\u001b[1;31mNameError\u001b[0m: name 'plt' is not defined"
     ]
    }
   ],
   "source": [
    "from sklearn.decomposition import PCA\n",
    "pca = PCA(n_components=2)\n",
    "principalComponents = pca.fit_transform(normalized_df)\n",
    "principalDf = pd.DataFrame(data = principalComponents\n",
    "             , columns = ['principal component 1', 'principal component 2'])\n",
    "finalDf = pd.concat([principalDf, df[['성별/sex']]], axis = 1)\n"
   ]
  },
  {
   "cell_type": "code",
   "execution_count": 396,
   "metadata": {
    "pycharm": {
     "is_executing": false,
     "name": "#%%\n"
    }
   },
   "outputs": [],
   "source": []
  },
  {
   "cell_type": "code",
   "execution_count": 397,
   "metadata": {
    "pycharm": {
     "is_executing": false,
     "name": "#%%\n"
    }
   },
   "outputs": [
    {
     "name": "stderr",
     "output_type": "stream",
     "text": [
      "C:\\Users\\ZAIO\\.conda\\envs\\cv2\\lib\\site-packages\\matplotlib\\backends\\backend_agg.py:214: RuntimeWarning: Glyph 45224 missing from current font.\n",
      "  font.set_text(s, 0.0, flags=flags)\n",
      "C:\\Users\\ZAIO\\.conda\\envs\\cv2\\lib\\site-packages\\matplotlib\\backends\\backend_agg.py:214: RuntimeWarning: Glyph 50668 missing from current font.\n",
      "  font.set_text(s, 0.0, flags=flags)\n",
      "C:\\Users\\ZAIO\\.conda\\envs\\cv2\\lib\\site-packages\\matplotlib\\backends\\backend_agg.py:183: RuntimeWarning: Glyph 45224 missing from current font.\n",
      "  font.set_text(s, 0, flags=flags)\n",
      "C:\\Users\\ZAIO\\.conda\\envs\\cv2\\lib\\site-packages\\matplotlib\\backends\\backend_agg.py:183: RuntimeWarning: Glyph 50668 missing from current font.\n",
      "  font.set_text(s, 0, flags=flags)\n"
     ]
    },
    {
     "data": {
      "image/png": "[encoded data removed]",
      "text/plain": [
       "<Figure size 576x576 with 1 Axes>"
      ]
     },
     "metadata": {
      "needs_background": "light"
     },
     "output_type": "display_data"
    }
   ],
   "source": []
  },
  {
   "cell_type": "code",
   "execution_count": 398,
   "metadata": {
    "pycharm": {
     "is_executing": false,
     "name": "#%%\n"
    }
   },
   "outputs": [
    {
     "name": "stdout",
     "output_type": "stream",
     "text": [
      "[[ 0.11096934  0.04191695  0.56136365  0.03771148  0.06638169  0.22079842\n",
      "   0.1294817   0.77424382]\n",
      " [ 0.17210481  0.5377906  -0.60277766  0.00379355  0.19371617  0.47405076\n",
      "   0.09616026  0.21519533]]\n",
      "[236.92320505 123.4711925 ]\n",
      "[0.47692013 0.24854423]\n",
      "0.7254643592008347\n"
     ]
    }
   ],
   "source": [
    "from sklearn.decomposition import PCA\n",
    "pca_num = 2\n",
    "pca = PCA(n_components=pca_num)\n",
    "principalComponents = pca.fit_transform(normalized_df)\n",
    "principalDf = pd.DataFrame(data = principalComponents\n",
    "             , columns = list(range(pca_num)))\n",
    "principalDf\n",
    "print(pca.components_)\n",
    "print(pca.explained_variance_)\n",
    "print(pca.explained_variance_ratio_)\n",
    "print(pca.explained_variance_ratio_.sum())"
   ]
  },
  {
   "cell_type": "code",
   "execution_count": 399,
   "metadata": {
    "pycharm": {
     "is_executing": false,
     "name": "#%%\n"
    }
   },
   "outputs": [
    {
     "name": "stdout",
     "output_type": "stream",
     "text": [
      "array([[ 0.11096934,  0.04191695,  0.56136365,  0.03771148,  0.06638169,\n",
      "         0.22079842,  0.1294817 ,  0.77424382],\n",
      "       [ 0.17210481,  0.5377906 , -0.60277766,  0.00379355,  0.19371617,\n",
      "         0.47405076,  0.09616026,  0.21519533]])\n"
     ]
    }
   ],
   "source": [
    "pp.pprint(pca.components_)"
   ]
  },
  {
   "cell_type": "code",
   "execution_count": 401,
   "metadata": {
    "pycharm": {
     "is_executing": false,
     "name": "#%%\n"
    }
   },
   "outputs": [
    {
     "data": {
      "text/html": [
       "<div>\n",
       "<style scoped>\n",
       "    .dataframe tbody tr th:only-of-type {\n",
       "        vertical-align: middle;\n",
       "    }\n",
       "\n",
       "    .dataframe tbody tr th {\n",
       "        vertical-align: top;\n",
       "    }\n",
       "\n",
       "    .dataframe thead th {\n",
       "        text-align: right;\n",
       "    }\n",
       "</style>\n",
       "<table border=\"1\" class=\"dataframe\">\n",
       "  <thead>\n",
       "    <tr style=\"text-align: right;\">\n",
       "      <th></th>\n",
       "      <th>0</th>\n",
       "      <th>1</th>\n",
       "    </tr>\n",
       "  </thead>\n",
       "  <tbody>\n",
       "    <tr>\n",
       "      <th>코너비</th>\n",
       "      <td>0.110969</td>\n",
       "      <td>0.172105</td>\n",
       "    </tr>\n",
       "    <tr>\n",
       "      <th>입너비</th>\n",
       "      <td>0.041917</td>\n",
       "      <td>0.537791</td>\n",
       "    </tr>\n",
       "    <tr>\n",
       "      <th>아래턱사이너비</th>\n",
       "      <td>0.561364</td>\n",
       "      <td>-0.602778</td>\n",
       "    </tr>\n",
       "    <tr>\n",
       "      <th>코높이</th>\n",
       "      <td>0.037711</td>\n",
       "      <td>0.003794</td>\n",
       "    </tr>\n",
       "    <tr>\n",
       "      <th>코길이</th>\n",
       "      <td>0.066382</td>\n",
       "      <td>0.193716</td>\n",
       "    </tr>\n",
       "    <tr>\n",
       "      <th>코뿌리턱끝수직길이</th>\n",
       "      <td>0.220798</td>\n",
       "      <td>0.474051</td>\n",
       "    </tr>\n",
       "    <tr>\n",
       "      <th>코뿌리코끝수직길이</th>\n",
       "      <td>0.129482</td>\n",
       "      <td>0.096160</td>\n",
       "    </tr>\n",
       "    <tr>\n",
       "      <th>귀구슬입술직선길이</th>\n",
       "      <td>0.774244</td>\n",
       "      <td>0.215195</td>\n",
       "    </tr>\n",
       "  </tbody>\n",
       "</table>\n",
       "</div>"
      ],
      "text/plain": [
       "                  0         1\n",
       "코너비        0.110969  0.172105\n",
       "입너비        0.041917  0.537791\n",
       "아래턱사이너비    0.561364 -0.602778\n",
       "코높이        0.037711  0.003794\n",
       "코길이        0.066382  0.193716\n",
       "코뿌리턱끝수직길이  0.220798  0.474051\n",
       "코뿌리코끝수직길이  0.129482  0.096160\n",
       "귀구슬입술직선길이  0.774244  0.215195"
      ]
     },
     "execution_count": 401,
     "metadata": {},
     "output_type": "execute_result"
    }
   ],
   "source": [
    "index_dic_feature = {\n",
    "    12:\"코너비\",\n",
    "    13:\"입너비\",\n",
    "    14:\"아래턱사이너비\",\n",
    "    15:\"코높이\",\n",
    "    16:\"코길이\",\n",
    "    18:\"코뿌리턱끝수직길이\",\n",
    "    19:\"코뿌리코끝수직길이\",\n",
    "    45:\"귀구슬입술직선길이\"\n",
    "}\n",
    "col_feature = list(index_dic_feature.values())\n",
    "df = pd.DataFrame(data = pca.components_,columns = col_feature)\n",
    "df.T"
   ]
  },
  {
   "cell_type": "code",
   "execution_count": null,
   "metadata": {
    "pycharm": {
     "name": "#%%\n"
    }
   },
   "outputs": [],
   "source": [
    "\n"
   ]
  }
 ],
 "metadata": {
  "kernelspec": {
   "display_name": "Python 3",
   "language": "python",
   "name": "python3"
  },
  "language_info": {
   "codemirror_mode": {
    "name": "ipython",
    "version": 3
   },
   "file_extension": ".py",
   "mimetype": "text/x-python",
   "name": "python",
   "nbconvert_exporter": "python",
   "pygments_lexer": "ipython3",
   "version": "3.6.10"
  },
  "pycharm": {
   "stem_cell": {
    "cell_type": "raw",
    "metadata": {
     "collapsed": false
    },
    "source": []
   }
  }
 },
 "nbformat": 4,
 "nbformat_minor": 1
}
