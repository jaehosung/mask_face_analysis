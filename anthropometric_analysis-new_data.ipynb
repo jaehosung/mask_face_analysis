{
 "cells": [
  {
   "cell_type": "code",
   "execution_count": 26,
   "metadata": {
    "pycharm": {
     "is_executing": false,
     "name": "#%%\n"
    }
   },
   "outputs": [],
   "source": [
    "import numpy as np\n",
    "import pandas as pd\n",
    "import matplotlib.pyplot as plt"
   ]
  },
  {
   "cell_type": "code",
   "execution_count": 27,
   "metadata": {
    "pycharm": {
     "is_executing": false,
     "name": "#%%\n"
    }
   },
   "outputs": [],
   "source": [
    "index_dic = {\n",
    "    0: \"나이/age\",\n",
    "    1: \"성별/sex\",\n",
    "    12:\"코너비\",\n",
    "    13:\"입너비\",\n",
    "    14:\"아래턱사이너비\",\n",
    "    15:\"코높이\",\n",
    "    16:\"코길이\",\n",
    "    18:\"코뿌리턱끝수직길이\",\n",
    "    19:\"코뿌리코끝수직길이\",\n",
    "    21:\"눈살귀구슬수평길이\",\n",
    "    28:\"머리수직길이\",\n",
    "    29:\"머리마루_아래턱뼈수직길이\",\n",
    "    32:\"머리마루_입술수직길이\",\n",
    "    33:\"머리마루_코밑수직길이\",\n",
    "    45:\"귀구슬입술직선길이\"\n",
    "}\n",
    "\n",
    "index_dic_feature = {\n",
    "    0: \"나이/age\",\n",
    "    1: \"성별/sex\",\n",
    "    12:\"코너비\",\n",
    "    13:\"입너비\",\n",
    "    14:\"아래턱사이너비\",\n",
    "    15:\"코높이\",\n",
    "    16:\"코길이\",\n",
    "    18:\"코뿌리턱끝수직길이\",\n",
    "    19:\"코뿌리코끝수직길이\",\n",
    "    21:\"눈살귀구슬수평길이\",\n",
    "    29:\"머리마루_아래턱뼈수직길이\",\n",
    "    32:\"머리마루_입술수직길이\",\n",
    "    33:\"머리마루_코밑수직길이\",\n",
    "    45:\"귀구슬입술직선길이\"\n",
    "}\n",
    "\n",
    "df_raw = pd.read_excel (\"./2010_6th_sort_translated.xlsx\")\n"
   ]
  },
  {
   "cell_type": "code",
   "execution_count": null,
   "metadata": {},
   "outputs": [],
   "source": []
  },
  {
   "cell_type": "code",
   "execution_count": 28,
   "metadata": {},
   "outputs": [],
   "source": [
    "df = df_raw\n",
    "for idx in [29,32,33]:\n",
    "    df.loc[:,index_dic[idx]] = df.loc[:,index_dic[28]]-df.loc[:,index_dic[idx]]\n",
    "    \n",
    "col = list(index_dic_feature.values())\n",
    "df = df.dropna()\n",
    "df.reset_index(inplace = True,drop = True)\n",
    "df_features = df[col[2:]]\n",
    "normalized_df = df_features-df_features.mean()"
   ]
  },
  {
   "cell_type": "code",
   "execution_count": 29,
   "metadata": {},
   "outputs": [
    {
     "data": {
      "text/html": [
       "<div>\n",
       "<style scoped>\n",
       "    .dataframe tbody tr th:only-of-type {\n",
       "        vertical-align: middle;\n",
       "    }\n",
       "\n",
       "    .dataframe tbody tr th {\n",
       "        vertical-align: top;\n",
       "    }\n",
       "\n",
       "    .dataframe thead th {\n",
       "        text-align: right;\n",
       "    }\n",
       "</style>\n",
       "<table border=\"1\" class=\"dataframe\">\n",
       "  <thead>\n",
       "    <tr style=\"text-align: right;\">\n",
       "      <th></th>\n",
       "      <th>코너비</th>\n",
       "      <th>입너비</th>\n",
       "      <th>아래턱사이너비</th>\n",
       "      <th>코높이</th>\n",
       "      <th>코길이</th>\n",
       "      <th>코뿌리턱끝수직길이</th>\n",
       "      <th>코뿌리코끝수직길이</th>\n",
       "      <th>눈살귀구슬수평길이</th>\n",
       "      <th>머리마루_아래턱뼈수직길이</th>\n",
       "      <th>머리마루_입술수직길이</th>\n",
       "      <th>머리마루_코밑수직길이</th>\n",
       "      <th>귀구슬입술직선길이</th>\n",
       "    </tr>\n",
       "  </thead>\n",
       "  <tbody>\n",
       "    <tr>\n",
       "      <th>0</th>\n",
       "      <td>34.0</td>\n",
       "      <td>55.0</td>\n",
       "      <td>119.0</td>\n",
       "      <td>5.0</td>\n",
       "      <td>51.0</td>\n",
       "      <td>121.0</td>\n",
       "      <td>31.0</td>\n",
       "      <td>75.0</td>\n",
       "      <td>25.0</td>\n",
       "      <td>47.0</td>\n",
       "      <td>70.0</td>\n",
       "      <td>133.0</td>\n",
       "    </tr>\n",
       "    <tr>\n",
       "      <th>1</th>\n",
       "      <td>35.0</td>\n",
       "      <td>56.0</td>\n",
       "      <td>105.0</td>\n",
       "      <td>5.0</td>\n",
       "      <td>49.0</td>\n",
       "      <td>100.0</td>\n",
       "      <td>33.0</td>\n",
       "      <td>88.0</td>\n",
       "      <td>10.0</td>\n",
       "      <td>39.0</td>\n",
       "      <td>50.0</td>\n",
       "      <td>126.0</td>\n",
       "    </tr>\n",
       "    <tr>\n",
       "      <th>2</th>\n",
       "      <td>28.0</td>\n",
       "      <td>52.0</td>\n",
       "      <td>125.0</td>\n",
       "      <td>6.0</td>\n",
       "      <td>47.0</td>\n",
       "      <td>102.0</td>\n",
       "      <td>28.0</td>\n",
       "      <td>79.0</td>\n",
       "      <td>26.0</td>\n",
       "      <td>37.0</td>\n",
       "      <td>54.0</td>\n",
       "      <td>127.0</td>\n",
       "    </tr>\n",
       "    <tr>\n",
       "      <th>3</th>\n",
       "      <td>32.0</td>\n",
       "      <td>56.0</td>\n",
       "      <td>118.0</td>\n",
       "      <td>6.0</td>\n",
       "      <td>46.0</td>\n",
       "      <td>115.0</td>\n",
       "      <td>26.0</td>\n",
       "      <td>64.0</td>\n",
       "      <td>17.0</td>\n",
       "      <td>45.0</td>\n",
       "      <td>70.0</td>\n",
       "      <td>126.0</td>\n",
       "    </tr>\n",
       "    <tr>\n",
       "      <th>4</th>\n",
       "      <td>34.0</td>\n",
       "      <td>59.0</td>\n",
       "      <td>123.0</td>\n",
       "      <td>6.0</td>\n",
       "      <td>51.0</td>\n",
       "      <td>114.0</td>\n",
       "      <td>36.0</td>\n",
       "      <td>91.0</td>\n",
       "      <td>28.0</td>\n",
       "      <td>36.0</td>\n",
       "      <td>62.0</td>\n",
       "      <td>133.0</td>\n",
       "    </tr>\n",
       "    <tr>\n",
       "      <th>...</th>\n",
       "      <td>...</td>\n",
       "      <td>...</td>\n",
       "      <td>...</td>\n",
       "      <td>...</td>\n",
       "      <td>...</td>\n",
       "      <td>...</td>\n",
       "      <td>...</td>\n",
       "      <td>...</td>\n",
       "      <td>...</td>\n",
       "      <td>...</td>\n",
       "      <td>...</td>\n",
       "      <td>...</td>\n",
       "    </tr>\n",
       "    <tr>\n",
       "      <th>2049</th>\n",
       "      <td>33.3</td>\n",
       "      <td>45.6</td>\n",
       "      <td>129.0</td>\n",
       "      <td>20.2</td>\n",
       "      <td>49.6</td>\n",
       "      <td>109.9</td>\n",
       "      <td>38.6</td>\n",
       "      <td>108.0</td>\n",
       "      <td>42.8</td>\n",
       "      <td>35.4</td>\n",
       "      <td>60.3</td>\n",
       "      <td>148.9</td>\n",
       "    </tr>\n",
       "    <tr>\n",
       "      <th>2050</th>\n",
       "      <td>38.9</td>\n",
       "      <td>47.9</td>\n",
       "      <td>120.0</td>\n",
       "      <td>20.2</td>\n",
       "      <td>51.9</td>\n",
       "      <td>114.2</td>\n",
       "      <td>37.8</td>\n",
       "      <td>94.7</td>\n",
       "      <td>45.4</td>\n",
       "      <td>44.6</td>\n",
       "      <td>62.3</td>\n",
       "      <td>128.7</td>\n",
       "    </tr>\n",
       "    <tr>\n",
       "      <th>2051</th>\n",
       "      <td>29.9</td>\n",
       "      <td>38.6</td>\n",
       "      <td>123.2</td>\n",
       "      <td>20.3</td>\n",
       "      <td>49.3</td>\n",
       "      <td>99.2</td>\n",
       "      <td>36.5</td>\n",
       "      <td>98.7</td>\n",
       "      <td>49.6</td>\n",
       "      <td>28.4</td>\n",
       "      <td>49.9</td>\n",
       "      <td>130.7</td>\n",
       "    </tr>\n",
       "    <tr>\n",
       "      <th>2052</th>\n",
       "      <td>35.0</td>\n",
       "      <td>48.0</td>\n",
       "      <td>137.0</td>\n",
       "      <td>21.0</td>\n",
       "      <td>61.0</td>\n",
       "      <td>126.0</td>\n",
       "      <td>45.0</td>\n",
       "      <td>102.0</td>\n",
       "      <td>44.0</td>\n",
       "      <td>46.0</td>\n",
       "      <td>65.0</td>\n",
       "      <td>135.0</td>\n",
       "    </tr>\n",
       "    <tr>\n",
       "      <th>2053</th>\n",
       "      <td>48.0</td>\n",
       "      <td>58.0</td>\n",
       "      <td>122.0</td>\n",
       "      <td>23.0</td>\n",
       "      <td>59.0</td>\n",
       "      <td>113.0</td>\n",
       "      <td>41.0</td>\n",
       "      <td>106.0</td>\n",
       "      <td>23.0</td>\n",
       "      <td>36.0</td>\n",
       "      <td>54.0</td>\n",
       "      <td>140.0</td>\n",
       "    </tr>\n",
       "  </tbody>\n",
       "</table>\n",
       "<p>2054 rows × 12 columns</p>\n",
       "</div>"
      ],
      "text/plain": [
       "       코너비   입너비  아래턱사이너비   코높이   코길이  코뿌리턱끝수직길이  코뿌리코끝수직길이  눈살귀구슬수평길이  \\\n",
       "0     34.0  55.0    119.0   5.0  51.0      121.0       31.0       75.0   \n",
       "1     35.0  56.0    105.0   5.0  49.0      100.0       33.0       88.0   \n",
       "2     28.0  52.0    125.0   6.0  47.0      102.0       28.0       79.0   \n",
       "3     32.0  56.0    118.0   6.0  46.0      115.0       26.0       64.0   \n",
       "4     34.0  59.0    123.0   6.0  51.0      114.0       36.0       91.0   \n",
       "...    ...   ...      ...   ...   ...        ...        ...        ...   \n",
       "2049  33.3  45.6    129.0  20.2  49.6      109.9       38.6      108.0   \n",
       "2050  38.9  47.9    120.0  20.2  51.9      114.2       37.8       94.7   \n",
       "2051  29.9  38.6    123.2  20.3  49.3       99.2       36.5       98.7   \n",
       "2052  35.0  48.0    137.0  21.0  61.0      126.0       45.0      102.0   \n",
       "2053  48.0  58.0    122.0  23.0  59.0      113.0       41.0      106.0   \n",
       "\n",
       "      머리마루_아래턱뼈수직길이  머리마루_입술수직길이  머리마루_코밑수직길이  귀구슬입술직선길이  \n",
       "0              25.0         47.0         70.0      133.0  \n",
       "1              10.0         39.0         50.0      126.0  \n",
       "2              26.0         37.0         54.0      127.0  \n",
       "3              17.0         45.0         70.0      126.0  \n",
       "4              28.0         36.0         62.0      133.0  \n",
       "...             ...          ...          ...        ...  \n",
       "2049           42.8         35.4         60.3      148.9  \n",
       "2050           45.4         44.6         62.3      128.7  \n",
       "2051           49.6         28.4         49.9      130.7  \n",
       "2052           44.0         46.0         65.0      135.0  \n",
       "2053           23.0         36.0         54.0      140.0  \n",
       "\n",
       "[2054 rows x 12 columns]"
      ]
     },
     "execution_count": 29,
     "metadata": {},
     "output_type": "execute_result"
    }
   ],
   "source": [
    "df_features"
   ]
  },
  {
   "cell_type": "code",
   "execution_count": 31,
   "metadata": {
    "pycharm": {
     "is_executing": false,
     "name": "#%%\n"
    }
   },
   "outputs": [],
   "source": [
    "# Statistics description\n",
    "df_features.describe()\n",
    "df_describe = df.groupby(\"성별/sex\").describe()\n",
    "# df_describe.to_excel(\"./output.xlsx\")  "
   ]
  },
  {
   "cell_type": "code",
   "execution_count": 32,
   "metadata": {},
   "outputs": [
    {
     "data": {
      "text/html": [
       "<div>\n",
       "<style scoped>\n",
       "    .dataframe tbody tr th:only-of-type {\n",
       "        vertical-align: middle;\n",
       "    }\n",
       "\n",
       "    .dataframe tbody tr th {\n",
       "        vertical-align: top;\n",
       "    }\n",
       "\n",
       "    .dataframe thead tr th {\n",
       "        text-align: left;\n",
       "    }\n",
       "\n",
       "    .dataframe thead tr:last-of-type th {\n",
       "        text-align: right;\n",
       "    }\n",
       "</style>\n",
       "<table border=\"1\" class=\"dataframe\">\n",
       "  <thead>\n",
       "    <tr>\n",
       "      <th></th>\n",
       "      <th colspan=\"8\" halign=\"left\">나이/age</th>\n",
       "      <th colspan=\"2\" halign=\"left\">코높이</th>\n",
       "      <th>...</th>\n",
       "      <th colspan=\"2\" halign=\"left\">입너비</th>\n",
       "      <th colspan=\"8\" halign=\"left\">아래턱사이너비</th>\n",
       "    </tr>\n",
       "    <tr>\n",
       "      <th></th>\n",
       "      <th>count</th>\n",
       "      <th>mean</th>\n",
       "      <th>std</th>\n",
       "      <th>min</th>\n",
       "      <th>25%</th>\n",
       "      <th>50%</th>\n",
       "      <th>75%</th>\n",
       "      <th>max</th>\n",
       "      <th>count</th>\n",
       "      <th>mean</th>\n",
       "      <th>...</th>\n",
       "      <th>75%</th>\n",
       "      <th>max</th>\n",
       "      <th>count</th>\n",
       "      <th>mean</th>\n",
       "      <th>std</th>\n",
       "      <th>min</th>\n",
       "      <th>25%</th>\n",
       "      <th>50%</th>\n",
       "      <th>75%</th>\n",
       "      <th>max</th>\n",
       "    </tr>\n",
       "    <tr>\n",
       "      <th>성별/sex</th>\n",
       "      <th></th>\n",
       "      <th></th>\n",
       "      <th></th>\n",
       "      <th></th>\n",
       "      <th></th>\n",
       "      <th></th>\n",
       "      <th></th>\n",
       "      <th></th>\n",
       "      <th></th>\n",
       "      <th></th>\n",
       "      <th></th>\n",
       "      <th></th>\n",
       "      <th></th>\n",
       "      <th></th>\n",
       "      <th></th>\n",
       "      <th></th>\n",
       "      <th></th>\n",
       "      <th></th>\n",
       "      <th></th>\n",
       "      <th></th>\n",
       "      <th></th>\n",
       "    </tr>\n",
       "  </thead>\n",
       "  <tbody>\n",
       "    <tr>\n",
       "      <th>남</th>\n",
       "      <td>1040.0</td>\n",
       "      <td>44.154808</td>\n",
       "      <td>14.441748</td>\n",
       "      <td>20.0</td>\n",
       "      <td>31.0</td>\n",
       "      <td>44.0</td>\n",
       "      <td>57.0</td>\n",
       "      <td>69.0</td>\n",
       "      <td>1040.0</td>\n",
       "      <td>13.621635</td>\n",
       "      <td>...</td>\n",
       "      <td>60.0</td>\n",
       "      <td>78.0</td>\n",
       "      <td>1040.0</td>\n",
       "      <td>127.497692</td>\n",
       "      <td>11.455185</td>\n",
       "      <td>90.0</td>\n",
       "      <td>120.0</td>\n",
       "      <td>128.0</td>\n",
       "      <td>135.4</td>\n",
       "      <td>161.0</td>\n",
       "    </tr>\n",
       "    <tr>\n",
       "      <th>여</th>\n",
       "      <td>1014.0</td>\n",
       "      <td>44.474359</td>\n",
       "      <td>14.420728</td>\n",
       "      <td>20.0</td>\n",
       "      <td>32.0</td>\n",
       "      <td>45.0</td>\n",
       "      <td>57.0</td>\n",
       "      <td>69.0</td>\n",
       "      <td>1014.0</td>\n",
       "      <td>12.065878</td>\n",
       "      <td>...</td>\n",
       "      <td>55.0</td>\n",
       "      <td>71.0</td>\n",
       "      <td>1014.0</td>\n",
       "      <td>119.260750</td>\n",
       "      <td>11.038406</td>\n",
       "      <td>80.0</td>\n",
       "      <td>111.0</td>\n",
       "      <td>120.0</td>\n",
       "      <td>127.6</td>\n",
       "      <td>165.8</td>\n",
       "    </tr>\n",
       "  </tbody>\n",
       "</table>\n",
       "<p>2 rows × 368 columns</p>\n",
       "</div>"
      ],
      "text/plain": [
       "        나이/age                                                         코높이  \\\n",
       "         count       mean        std   min   25%   50%   75%   max   count   \n",
       "성별/sex                                                                       \n",
       "남       1040.0  44.154808  14.441748  20.0  31.0  44.0  57.0  69.0  1040.0   \n",
       "여       1014.0  44.474359  14.420728  20.0  32.0  45.0  57.0  69.0  1014.0   \n",
       "\n",
       "                   ...   입너비       아래턱사이너비                               \\\n",
       "             mean  ...   75%   max   count        mean        std   min   \n",
       "성별/sex             ...                                                    \n",
       "남       13.621635  ...  60.0  78.0  1040.0  127.497692  11.455185  90.0   \n",
       "여       12.065878  ...  55.0  71.0  1014.0  119.260750  11.038406  80.0   \n",
       "\n",
       "                                    \n",
       "          25%    50%    75%    max  \n",
       "성별/sex                              \n",
       "남       120.0  128.0  135.4  161.0  \n",
       "여       111.0  120.0  127.6  165.8  \n",
       "\n",
       "[2 rows x 368 columns]"
      ]
     },
     "execution_count": 32,
     "metadata": {},
     "output_type": "execute_result"
    }
   ],
   "source": [
    "df_describe"
   ]
  },
  {
   "cell_type": "code",
   "execution_count": 34,
   "metadata": {
    "pycharm": {
     "is_executing": false,
     "name": "#%%\n"
    }
   },
   "outputs": [
    {
     "data": {
      "image/png": "[encoded data removed]",
      "text/plain": [
       "<Figure size 576x576 with 1 Axes>"
      ]
     },
     "metadata": {},
     "output_type": "display_data"
    }
   ],
   "source": [
    "from sklearn.decomposition import PCA\n",
    "pca = PCA(n_components=2)\n",
    "principalComponents = pca.fit_transform(normalized_df)\n",
    "principalDf = pd.DataFrame(data = principalComponents\n",
    "             , columns = ['principal component 1', 'principal component 2'])\n",
    "fig = plt.figure(figsize = (8,8))\n",
    "ax = fig.add_subplot(1,1,1) \n",
    "ax.set_xlabel('Principal Component 1', fontsize = 15)\n",
    "ax.set_ylabel('Principal Component 2', fontsize = 15)\n",
    "ax.set_title('2 component PCA', fontsize = 20)\n",
    "\n",
    "finalDf = pd.concat([principalDf, df[[\"성별/sex\"]]], axis = 1)\n",
    "\n",
    "targets = ['남', '여']\n",
    "colors = ['r', 'g']\n",
    "\n",
    "targets = [ '여']\n",
    "colors = [ 'g']\n",
    "\n",
    "# targets = ['남']\n",
    "# colors = ['r']\n",
    "for target, color in zip(['남','여'],colors):\n",
    "    indicesToKeep = df['성별/sex'] == target\n",
    "    ax.scatter(finalDf.loc[indicesToKeep, 'principal component 1']\n",
    "               , finalDf.loc[indicesToKeep, 'principal component 2']\n",
    "               , c = color\n",
    "               , s = 50)\n",
    "ax.legend([\"male\",\"female\"])\n",
    "ax.set_xlim(-50,65)\n",
    "ax.set_ylim(-40,55)\n",
    "ax.grid()\n"
   ]
  },
  {
   "cell_type": "code",
   "execution_count": 35,
   "metadata": {
    "scrolled": false
   },
   "outputs": [
    {
     "data": {
      "image/png": "[encoded data removed]",
      "text/plain": [
       "<Figure size 432x288 with 2 Axes>"
      ]
     },
     "metadata": {},
     "output_type": "display_data"
    }
   ],
   "source": [
    "from sklearn.decomposition import PCA\n",
    "num_pc = 5\n",
    "pca_out = PCA(n_components=5).fit(normalized_df)\n",
    "pca_out.explained_variance_ratio_\n",
    "np.cumsum(pca_out.explained_variance_ratio_)\n",
    "\n",
    "\n",
    "loadings = pca_out.components_\n",
    "num_pc = 5\n",
    "\n",
    "pc_list = [\"PC\"+str(i) for i in list(range(1, num_pc+1))]\n",
    "loadings_df = pd.DataFrame.from_dict(dict(zip(pc_list, loadings)))\n",
    "loadings_df\n",
    "loadings_df['variable'] =[12,13,14,15,16,18,19,21,29,32,33,45]\n",
    "loadings_df = loadings_df.set_index('variable')\n",
    "loadings_df\n",
    "\n",
    "import seaborn as sns\n",
    "import matplotlib.pyplot as plt\n",
    "ax = sns.heatmap(loadings_df, annot=True, cmap='Spectral')\n",
    "plt.show()"
   ]
  },
  {
   "cell_type": "code",
   "execution_count": 36,
   "metadata": {},
   "outputs": [
    {
     "data": {
      "text/plain": [
       "<BarContainer object of 5 artists>"
      ]
     },
     "execution_count": 36,
     "metadata": {},
     "output_type": "execute_result"
    },
    {
     "data": {
      "image/png": "[encoded data removed]",
      "text/plain": [
       "<Figure size 432x288 with 1 Axes>"
      ]
     },
     "metadata": {},
     "output_type": "display_data"
    }
   ],
   "source": [
    "plt.bar([1,2,3,4,5],np.cumsum(pca_out.explained_variance_ratio_))"
   ]
  },
  {
   "cell_type": "code",
   "execution_count": 37,
   "metadata": {},
   "outputs": [
    {
     "ename": "NameError",
     "evalue": "name 'cluster' is not defined",
     "output_type": "error",
     "traceback": [
      "\u001b[1;31m---------------------------------------------------------------------------\u001b[0m",
      "\u001b[1;31mNameError\u001b[0m                                 Traceback (most recent call last)",
      "\u001b[1;32m<ipython-input-37-5a56abc75bb5>\u001b[0m in \u001b[0;36m<module>\u001b[1;34m\u001b[0m\n\u001b[0;32m      1\u001b[0m \u001b[0mpca_out\u001b[0m\u001b[1;33m.\u001b[0m\u001b[0mexplained_variance_\u001b[0m\u001b[1;33m\u001b[0m\u001b[1;33m\u001b[0m\u001b[0m\n\u001b[1;32m----> 2\u001b[1;33m \u001b[0mcluster\u001b[0m\u001b[1;33m.\u001b[0m\u001b[0mscreeplot\u001b[0m\u001b[1;33m(\u001b[0m\u001b[0mobj\u001b[0m\u001b[1;33m=\u001b[0m\u001b[1;33m[\u001b[0m\u001b[0mnp\u001b[0m\u001b[1;33m.\u001b[0m\u001b[0marray\u001b[0m\u001b[1;33m(\u001b[0m\u001b[0mpc_list\u001b[0m\u001b[1;33m)\u001b[0m\u001b[1;33m,\u001b[0m \u001b[0mnp\u001b[0m\u001b[1;33m.\u001b[0m\u001b[0mcumsum\u001b[0m\u001b[1;33m(\u001b[0m\u001b[0mpca_out\u001b[0m\u001b[1;33m.\u001b[0m\u001b[0mexplained_variance_ratio_\u001b[0m\u001b[1;33m)\u001b[0m\u001b[1;33m]\u001b[0m\u001b[1;33m)\u001b[0m\u001b[1;33m\u001b[0m\u001b[1;33m\u001b[0m\u001b[0m\n\u001b[0m",
      "\u001b[1;31mNameError\u001b[0m: name 'cluster' is not defined"
     ]
    }
   ],
   "source": [
    "pca_out.explained_variance_\n",
    "cluster.screeplot(obj=[np.array(pc_list), np.cumsum(pca_out.explained_variance_ratio_)])"
   ]
  },
  {
   "cell_type": "code",
   "execution_count": 38,
   "metadata": {},
   "outputs": [],
   "source": [
    "obj=[np.array(pc_list), pca_out.explained_variance_ratio_]"
   ]
  },
  {
   "cell_type": "code",
   "execution_count": 39,
   "metadata": {
    "scrolled": false
   },
   "outputs": [
    {
     "ename": "NameError",
     "evalue": "name 'cluster' is not defined",
     "output_type": "error",
     "traceback": [
      "\u001b[1;31m---------------------------------------------------------------------------\u001b[0m",
      "\u001b[1;31mNameError\u001b[0m                                 Traceback (most recent call last)",
      "\u001b[1;32m<ipython-input-39-d753d0f75e8e>\u001b[0m in \u001b[0;36m<module>\u001b[1;34m\u001b[0m\n\u001b[1;32m----> 1\u001b[1;33m cluster.pcaplot(x=loadings[0], y=loadings[1], labels=[12,13,14,15,16,18,19,45], \n\u001b[0m\u001b[0;32m      2\u001b[0m \u001b[0mvar1\u001b[0m\u001b[1;33m=\u001b[0m\u001b[0mround\u001b[0m\u001b[1;33m(\u001b[0m\u001b[0mpca_out\u001b[0m\u001b[1;33m.\u001b[0m\u001b[0mexplained_variance_ratio_\u001b[0m\u001b[1;33m[\u001b[0m\u001b[1;36m0\u001b[0m\u001b[1;33m]\u001b[0m\u001b[1;33m*\u001b[0m\u001b[1;36m100\u001b[0m\u001b[1;33m,\u001b[0m \u001b[1;36m2\u001b[0m\u001b[1;33m)\u001b[0m\u001b[1;33m,\u001b[0m\u001b[1;33m\u001b[0m\u001b[1;33m\u001b[0m\u001b[0m\n\u001b[0;32m      3\u001b[0m var2=round(pca_out.explained_variance_ratio_[1]*100, 2))\n",
      "\u001b[1;31mNameError\u001b[0m: name 'cluster' is not defined"
     ]
    }
   ],
   "source": [
    "cluster.pcaplot(x=loadings[0], y=loadings[1], labels=[12,13,14,15,16,18,19,45], \n",
    "var1=round(pca_out.explained_variance_ratio_[0]*100, 2),\n",
    "var2=round(pca_out.explained_variance_ratio_[1]*100, 2))"
   ]
  },
  {
   "cell_type": "code",
   "execution_count": 40,
   "metadata": {},
   "outputs": [
    {
     "ename": "NameError",
     "evalue": "name 'cluster' is not defined",
     "output_type": "error",
     "traceback": [
      "\u001b[1;31m---------------------------------------------------------------------------\u001b[0m",
      "\u001b[1;31mNameError\u001b[0m                                 Traceback (most recent call last)",
      "\u001b[1;32m<ipython-input-40-df9544029f16>\u001b[0m in \u001b[0;36m<module>\u001b[1;34m\u001b[0m\n\u001b[1;32m----> 1\u001b[1;33m cluster.pcaplot(x=loadings[0], y=loadings[1], z=loadings[2],  labels=[12,13,14,15,16,18,19,45], \n\u001b[0m\u001b[0;32m      2\u001b[0m \u001b[0mvar1\u001b[0m\u001b[1;33m=\u001b[0m\u001b[0mround\u001b[0m\u001b[1;33m(\u001b[0m\u001b[0mpca_out\u001b[0m\u001b[1;33m.\u001b[0m\u001b[0mexplained_variance_ratio_\u001b[0m\u001b[1;33m[\u001b[0m\u001b[1;36m0\u001b[0m\u001b[1;33m]\u001b[0m\u001b[1;33m*\u001b[0m\u001b[1;36m100\u001b[0m\u001b[1;33m,\u001b[0m \u001b[1;36m2\u001b[0m\u001b[1;33m)\u001b[0m\u001b[1;33m,\u001b[0m \u001b[0mvar2\u001b[0m\u001b[1;33m=\u001b[0m\u001b[0mround\u001b[0m\u001b[1;33m(\u001b[0m\u001b[0mpca_out\u001b[0m\u001b[1;33m.\u001b[0m\u001b[0mexplained_variance_ratio_\u001b[0m\u001b[1;33m[\u001b[0m\u001b[1;36m1\u001b[0m\u001b[1;33m]\u001b[0m\u001b[1;33m*\u001b[0m\u001b[1;36m100\u001b[0m\u001b[1;33m,\u001b[0m \u001b[1;36m2\u001b[0m\u001b[1;33m)\u001b[0m\u001b[1;33m,\u001b[0m\u001b[1;33m\u001b[0m\u001b[1;33m\u001b[0m\u001b[0m\n\u001b[0;32m      3\u001b[0m var3=round(pca_out.explained_variance_ratio_[2]*100, 2))\n",
      "\u001b[1;31mNameError\u001b[0m: name 'cluster' is not defined"
     ]
    }
   ],
   "source": [
    "cluster.pcaplot(x=loadings[0], y=loadings[1], z=loadings[2],  labels=[12,13,14,15,16,18,19,45], \n",
    "var1=round(pca_out.explained_variance_ratio_[0]*100, 2), var2=round(pca_out.explained_variance_ratio_[1]*100, 2), \n",
    "var3=round(pca_out.explained_variance_ratio_[2]*100, 2))"
   ]
  },
  {
   "cell_type": "code",
   "execution_count": 41,
   "metadata": {},
   "outputs": [
    {
     "ename": "ValueError",
     "evalue": "could not convert string to float: '여'",
     "output_type": "error",
     "traceback": [
      "\u001b[1;31m---------------------------------------------------------------------------\u001b[0m",
      "\u001b[1;31mValueError\u001b[0m                                Traceback (most recent call last)",
      "\u001b[1;32m<ipython-input-41-2d36521d4ae9>\u001b[0m in \u001b[0;36m<module>\u001b[1;34m\u001b[0m\n\u001b[0;32m      1\u001b[0m \u001b[1;32mfrom\u001b[0m \u001b[0msklearn\u001b[0m\u001b[1;33m.\u001b[0m\u001b[0mpreprocessing\u001b[0m \u001b[1;32mimport\u001b[0m \u001b[0mStandardScaler\u001b[0m\u001b[1;33m\u001b[0m\u001b[1;33m\u001b[0m\u001b[0m\n\u001b[1;32m----> 2\u001b[1;33m \u001b[0mdf_st\u001b[0m \u001b[1;33m=\u001b[0m  \u001b[0mStandardScaler\u001b[0m\u001b[1;33m(\u001b[0m\u001b[1;33m)\u001b[0m\u001b[1;33m.\u001b[0m\u001b[0mfit_transform\u001b[0m\u001b[1;33m(\u001b[0m\u001b[0mdf\u001b[0m\u001b[1;33m)\u001b[0m\u001b[1;33m\u001b[0m\u001b[1;33m\u001b[0m\u001b[0m\n\u001b[0m\u001b[0;32m      3\u001b[0m \u001b[1;33m\u001b[0m\u001b[0m\n\u001b[0;32m      4\u001b[0m \u001b[0mpca_scores\u001b[0m \u001b[1;33m=\u001b[0m \u001b[0mPCA\u001b[0m\u001b[1;33m(\u001b[0m\u001b[0mn_components\u001b[0m\u001b[1;33m=\u001b[0m\u001b[1;36m5\u001b[0m\u001b[1;33m)\u001b[0m\u001b[1;33m\u001b[0m\u001b[1;33m\u001b[0m\u001b[0m\n\u001b[0;32m      5\u001b[0m \u001b[0mpca_scores\u001b[0m\u001b[1;33m.\u001b[0m\u001b[0mfit_transform\u001b[0m\u001b[1;33m(\u001b[0m\u001b[0mdf_st\u001b[0m\u001b[1;33m)\u001b[0m\u001b[1;33m\u001b[0m\u001b[1;33m\u001b[0m\u001b[0m\n",
      "\u001b[1;32m~\\.conda\\envs\\cv2\\lib\\site-packages\\sklearn\\base.py\u001b[0m in \u001b[0;36mfit_transform\u001b[1;34m(self, X, y, **fit_params)\u001b[0m\n\u001b[0;32m    460\u001b[0m         \u001b[1;32mif\u001b[0m \u001b[0my\u001b[0m \u001b[1;32mis\u001b[0m \u001b[1;32mNone\u001b[0m\u001b[1;33m:\u001b[0m\u001b[1;33m\u001b[0m\u001b[1;33m\u001b[0m\u001b[0m\n\u001b[0;32m    461\u001b[0m             \u001b[1;31m# fit method of arity 1 (unsupervised transformation)\u001b[0m\u001b[1;33m\u001b[0m\u001b[1;33m\u001b[0m\u001b[1;33m\u001b[0m\u001b[0m\n\u001b[1;32m--> 462\u001b[1;33m             \u001b[1;32mreturn\u001b[0m \u001b[0mself\u001b[0m\u001b[1;33m.\u001b[0m\u001b[0mfit\u001b[0m\u001b[1;33m(\u001b[0m\u001b[0mX\u001b[0m\u001b[1;33m,\u001b[0m \u001b[1;33m**\u001b[0m\u001b[0mfit_params\u001b[0m\u001b[1;33m)\u001b[0m\u001b[1;33m.\u001b[0m\u001b[0mtransform\u001b[0m\u001b[1;33m(\u001b[0m\u001b[0mX\u001b[0m\u001b[1;33m)\u001b[0m\u001b[1;33m\u001b[0m\u001b[1;33m\u001b[0m\u001b[0m\n\u001b[0m\u001b[0;32m    463\u001b[0m         \u001b[1;32melse\u001b[0m\u001b[1;33m:\u001b[0m\u001b[1;33m\u001b[0m\u001b[1;33m\u001b[0m\u001b[0m\n\u001b[0;32m    464\u001b[0m             \u001b[1;31m# fit method of arity 2 (supervised transformation)\u001b[0m\u001b[1;33m\u001b[0m\u001b[1;33m\u001b[0m\u001b[1;33m\u001b[0m\u001b[0m\n",
      "\u001b[1;32m~\\.conda\\envs\\cv2\\lib\\site-packages\\sklearn\\preprocessing\\data.py\u001b[0m in \u001b[0;36mfit\u001b[1;34m(self, X, y)\u001b[0m\n\u001b[0;32m    615\u001b[0m         \u001b[1;31m# Reset internal state before fitting\u001b[0m\u001b[1;33m\u001b[0m\u001b[1;33m\u001b[0m\u001b[1;33m\u001b[0m\u001b[0m\n\u001b[0;32m    616\u001b[0m         \u001b[0mself\u001b[0m\u001b[1;33m.\u001b[0m\u001b[0m_reset\u001b[0m\u001b[1;33m(\u001b[0m\u001b[1;33m)\u001b[0m\u001b[1;33m\u001b[0m\u001b[1;33m\u001b[0m\u001b[0m\n\u001b[1;32m--> 617\u001b[1;33m         \u001b[1;32mreturn\u001b[0m \u001b[0mself\u001b[0m\u001b[1;33m.\u001b[0m\u001b[0mpartial_fit\u001b[0m\u001b[1;33m(\u001b[0m\u001b[0mX\u001b[0m\u001b[1;33m,\u001b[0m \u001b[0my\u001b[0m\u001b[1;33m)\u001b[0m\u001b[1;33m\u001b[0m\u001b[1;33m\u001b[0m\u001b[0m\n\u001b[0m\u001b[0;32m    618\u001b[0m \u001b[1;33m\u001b[0m\u001b[0m\n\u001b[0;32m    619\u001b[0m     \u001b[1;32mdef\u001b[0m \u001b[0mpartial_fit\u001b[0m\u001b[1;33m(\u001b[0m\u001b[0mself\u001b[0m\u001b[1;33m,\u001b[0m \u001b[0mX\u001b[0m\u001b[1;33m,\u001b[0m \u001b[0my\u001b[0m\u001b[1;33m=\u001b[0m\u001b[1;32mNone\u001b[0m\u001b[1;33m)\u001b[0m\u001b[1;33m:\u001b[0m\u001b[1;33m\u001b[0m\u001b[1;33m\u001b[0m\u001b[0m\n",
      "\u001b[1;32m~\\.conda\\envs\\cv2\\lib\\site-packages\\sklearn\\preprocessing\\data.py\u001b[0m in \u001b[0;36mpartial_fit\u001b[1;34m(self, X, y)\u001b[0m\n\u001b[0;32m    639\u001b[0m         X = check_array(X, accept_sparse=('csr', 'csc'), copy=self.copy,\n\u001b[0;32m    640\u001b[0m                         \u001b[0mwarn_on_dtype\u001b[0m\u001b[1;33m=\u001b[0m\u001b[1;32mTrue\u001b[0m\u001b[1;33m,\u001b[0m \u001b[0mestimator\u001b[0m\u001b[1;33m=\u001b[0m\u001b[0mself\u001b[0m\u001b[1;33m,\u001b[0m \u001b[0mdtype\u001b[0m\u001b[1;33m=\u001b[0m\u001b[0mFLOAT_DTYPES\u001b[0m\u001b[1;33m,\u001b[0m\u001b[1;33m\u001b[0m\u001b[1;33m\u001b[0m\u001b[0m\n\u001b[1;32m--> 641\u001b[1;33m                         force_all_finite='allow-nan')\n\u001b[0m\u001b[0;32m    642\u001b[0m \u001b[1;33m\u001b[0m\u001b[0m\n\u001b[0;32m    643\u001b[0m         \u001b[1;31m# Even in the case of `with_mean=False`, we update the mean anyway\u001b[0m\u001b[1;33m\u001b[0m\u001b[1;33m\u001b[0m\u001b[1;33m\u001b[0m\u001b[0m\n",
      "\u001b[1;32m~\\.conda\\envs\\cv2\\lib\\site-packages\\sklearn\\utils\\validation.py\u001b[0m in \u001b[0;36mcheck_array\u001b[1;34m(array, accept_sparse, accept_large_sparse, dtype, order, copy, force_all_finite, ensure_2d, allow_nd, ensure_min_samples, ensure_min_features, warn_on_dtype, estimator)\u001b[0m\n\u001b[0;32m    520\u001b[0m             \u001b[1;32mtry\u001b[0m\u001b[1;33m:\u001b[0m\u001b[1;33m\u001b[0m\u001b[1;33m\u001b[0m\u001b[0m\n\u001b[0;32m    521\u001b[0m                 \u001b[0mwarnings\u001b[0m\u001b[1;33m.\u001b[0m\u001b[0msimplefilter\u001b[0m\u001b[1;33m(\u001b[0m\u001b[1;34m'error'\u001b[0m\u001b[1;33m,\u001b[0m \u001b[0mComplexWarning\u001b[0m\u001b[1;33m)\u001b[0m\u001b[1;33m\u001b[0m\u001b[1;33m\u001b[0m\u001b[0m\n\u001b[1;32m--> 522\u001b[1;33m                 \u001b[0marray\u001b[0m \u001b[1;33m=\u001b[0m \u001b[0mnp\u001b[0m\u001b[1;33m.\u001b[0m\u001b[0masarray\u001b[0m\u001b[1;33m(\u001b[0m\u001b[0marray\u001b[0m\u001b[1;33m,\u001b[0m \u001b[0mdtype\u001b[0m\u001b[1;33m=\u001b[0m\u001b[0mdtype\u001b[0m\u001b[1;33m,\u001b[0m \u001b[0morder\u001b[0m\u001b[1;33m=\u001b[0m\u001b[0morder\u001b[0m\u001b[1;33m)\u001b[0m\u001b[1;33m\u001b[0m\u001b[1;33m\u001b[0m\u001b[0m\n\u001b[0m\u001b[0;32m    523\u001b[0m             \u001b[1;32mexcept\u001b[0m \u001b[0mComplexWarning\u001b[0m\u001b[1;33m:\u001b[0m\u001b[1;33m\u001b[0m\u001b[1;33m\u001b[0m\u001b[0m\n\u001b[0;32m    524\u001b[0m                 raise ValueError(\"Complex data not supported\\n\"\n",
      "\u001b[1;32m~\\.conda\\envs\\cv2\\lib\\site-packages\\numpy\\core\\_asarray.py\u001b[0m in \u001b[0;36masarray\u001b[1;34m(a, dtype, order)\u001b[0m\n\u001b[0;32m     83\u001b[0m \u001b[1;33m\u001b[0m\u001b[0m\n\u001b[0;32m     84\u001b[0m     \"\"\"\n\u001b[1;32m---> 85\u001b[1;33m     \u001b[1;32mreturn\u001b[0m \u001b[0marray\u001b[0m\u001b[1;33m(\u001b[0m\u001b[0ma\u001b[0m\u001b[1;33m,\u001b[0m \u001b[0mdtype\u001b[0m\u001b[1;33m,\u001b[0m \u001b[0mcopy\u001b[0m\u001b[1;33m=\u001b[0m\u001b[1;32mFalse\u001b[0m\u001b[1;33m,\u001b[0m \u001b[0morder\u001b[0m\u001b[1;33m=\u001b[0m\u001b[0morder\u001b[0m\u001b[1;33m)\u001b[0m\u001b[1;33m\u001b[0m\u001b[1;33m\u001b[0m\u001b[0m\n\u001b[0m\u001b[0;32m     86\u001b[0m \u001b[1;33m\u001b[0m\u001b[0m\n\u001b[0;32m     87\u001b[0m \u001b[1;33m\u001b[0m\u001b[0m\n",
      "\u001b[1;32m~\\.conda\\envs\\cv2\\lib\\site-packages\\pandas\\core\\generic.py\u001b[0m in \u001b[0;36m__array__\u001b[1;34m(self, dtype)\u001b[0m\n\u001b[0;32m   1776\u001b[0m \u001b[1;33m\u001b[0m\u001b[0m\n\u001b[0;32m   1777\u001b[0m     \u001b[1;32mdef\u001b[0m \u001b[0m__array__\u001b[0m\u001b[1;33m(\u001b[0m\u001b[0mself\u001b[0m\u001b[1;33m,\u001b[0m \u001b[0mdtype\u001b[0m\u001b[1;33m=\u001b[0m\u001b[1;32mNone\u001b[0m\u001b[1;33m)\u001b[0m \u001b[1;33m->\u001b[0m \u001b[0mnp\u001b[0m\u001b[1;33m.\u001b[0m\u001b[0mndarray\u001b[0m\u001b[1;33m:\u001b[0m\u001b[1;33m\u001b[0m\u001b[1;33m\u001b[0m\u001b[0m\n\u001b[1;32m-> 1778\u001b[1;33m         \u001b[1;32mreturn\u001b[0m \u001b[0mnp\u001b[0m\u001b[1;33m.\u001b[0m\u001b[0masarray\u001b[0m\u001b[1;33m(\u001b[0m\u001b[0mself\u001b[0m\u001b[1;33m.\u001b[0m\u001b[0m_values\u001b[0m\u001b[1;33m,\u001b[0m \u001b[0mdtype\u001b[0m\u001b[1;33m=\u001b[0m\u001b[0mdtype\u001b[0m\u001b[1;33m)\u001b[0m\u001b[1;33m\u001b[0m\u001b[1;33m\u001b[0m\u001b[0m\n\u001b[0m\u001b[0;32m   1779\u001b[0m \u001b[1;33m\u001b[0m\u001b[0m\n\u001b[0;32m   1780\u001b[0m     \u001b[1;32mdef\u001b[0m \u001b[0m__array_wrap__\u001b[0m\u001b[1;33m(\u001b[0m\u001b[0mself\u001b[0m\u001b[1;33m,\u001b[0m \u001b[0mresult\u001b[0m\u001b[1;33m,\u001b[0m \u001b[0mcontext\u001b[0m\u001b[1;33m=\u001b[0m\u001b[1;32mNone\u001b[0m\u001b[1;33m)\u001b[0m\u001b[1;33m:\u001b[0m\u001b[1;33m\u001b[0m\u001b[1;33m\u001b[0m\u001b[0m\n",
      "\u001b[1;32m~\\.conda\\envs\\cv2\\lib\\site-packages\\numpy\\core\\_asarray.py\u001b[0m in \u001b[0;36masarray\u001b[1;34m(a, dtype, order)\u001b[0m\n\u001b[0;32m     83\u001b[0m \u001b[1;33m\u001b[0m\u001b[0m\n\u001b[0;32m     84\u001b[0m     \"\"\"\n\u001b[1;32m---> 85\u001b[1;33m     \u001b[1;32mreturn\u001b[0m \u001b[0marray\u001b[0m\u001b[1;33m(\u001b[0m\u001b[0ma\u001b[0m\u001b[1;33m,\u001b[0m \u001b[0mdtype\u001b[0m\u001b[1;33m,\u001b[0m \u001b[0mcopy\u001b[0m\u001b[1;33m=\u001b[0m\u001b[1;32mFalse\u001b[0m\u001b[1;33m,\u001b[0m \u001b[0morder\u001b[0m\u001b[1;33m=\u001b[0m\u001b[0morder\u001b[0m\u001b[1;33m)\u001b[0m\u001b[1;33m\u001b[0m\u001b[1;33m\u001b[0m\u001b[0m\n\u001b[0m\u001b[0;32m     86\u001b[0m \u001b[1;33m\u001b[0m\u001b[0m\n\u001b[0;32m     87\u001b[0m \u001b[1;33m\u001b[0m\u001b[0m\n",
      "\u001b[1;31mValueError\u001b[0m: could not convert string to float: '여'"
     ]
    }
   ],
   "source": [
    "from sklearn.preprocessing import StandardScaler\n",
    "df_st =  StandardScaler().fit_transform(df)  \n",
    "\n",
    "pca_scores = PCA(n_components=5)\n",
    "pca_scores.fit_transform(df_st)\n",
    "\n",
    "pca_out = PCA(n_components=5).fit(df_st)\n",
    "pca_out.explained_variance_ratio_\n",
    "np.cumsum(pca_out.explained_variance_ratio_)\n",
    "\n",
    "\n",
    "loadings = pca_out.components_\n",
    "num_pc = 5\n",
    "\n",
    "# get 2D biplot\n",
    "cluster.biplot(cscore=pca_scores,\n",
    "               loadings=loadings,\n",
    "               labels=[12,13,14,15,16,18,19,45],\n",
    "               var1=round(pca_out.explained_variance_ratio_[0]*100, 2),\n",
    "               var2=round(pca_out.explained_variance_ratio_[1]*100, 2))\n",
    "    \n",
    "# # get 3D biplot\n",
    "# cluster.biplot(cscore=pca_scores, loadings=loadings, labels=df.columns.values, \n",
    "# var1=round(pca_out.explained_variance_ratio_[0]*100, 2), var2=round(pca_out.explained_variance_ratio_[1]*100, 2), \n",
    "# var3=round(pca_out.explained_variance_ratio_[2]*100, 2))"
   ]
  },
  {
   "cell_type": "code",
   "execution_count": null,
   "metadata": {},
   "outputs": [],
   "source": [
    "df_st"
   ]
  },
  {
   "cell_type": "code",
   "execution_count": null,
   "metadata": {},
   "outputs": [],
   "source": []
  },
  {
   "cell_type": "code",
   "execution_count": null,
   "metadata": {},
   "outputs": [],
   "source": []
  },
  {
   "cell_type": "code",
   "execution_count": null,
   "metadata": {},
   "outputs": [],
   "source": []
  },
  {
   "cell_type": "code",
   "execution_count": null,
   "metadata": {},
   "outputs": [],
   "source": []
  },
  {
   "cell_type": "code",
   "execution_count": null,
   "metadata": {
    "pycharm": {
     "is_executing": false
    }
   },
   "outputs": [],
   "source": [
    "fig = plt.figure(figsize = (8,8))\n",
    "ax = fig.add_subplot(1,1,1) \n",
    "ax.set_xlabel('Principal Component 1', fontsize = 15)\n",
    "ax.set_ylabel('Principal Component 2', fontsize = 15)\n",
    "ax.set_title('2 component PCA', fontsize = 20)\n",
    "targets = ['남', '여']\n",
    "colors = ['r', 'g', 'b']\n",
    "for target, color in zip(['남'],colors):\n",
    "    indicesToKeep = df['성별/sex'] == target\n",
    "    ax.scatter(finalDf.loc[indicesToKeep, 'principal component 1']\n",
    "               , finalDf.loc[indicesToKeep, 'principal component 2']\n",
    "               , c = color\n",
    "               , s = 50)\n",
    "ax.legend()\n",
    "ax.grid()\n"
   ]
  },
  {
   "cell_type": "code",
   "execution_count": null,
   "metadata": {
    "pycharm": {
     "is_executing": false
    }
   },
   "outputs": [],
   "source": [
    "fig = plt.figure(figsize = (8,8))\n",
    "ax = fig.add_subplot(1,1,1) \n",
    "ax.set_xlabel('Principal Component 1', fontsize = 15)\n",
    "ax.set_ylabel('Principal Component 2', fontsize = 15)\n",
    "ax.set_title('2 component PCA', fontsize = 20)\n",
    "targets = ['남', '여']\n",
    "colors = ['g']\n",
    "for target, color in zip(['여'],colors):\n",
    "    indicesToKeep = df['성별/sex'] == target\n",
    "    ax.scatter(finalDf.loc[indicesToKeep, 'principal component 1']\n",
    "               , finalDf.loc[indicesToKeep, 'principal component 2']\n",
    "               , c = color\n",
    "               , s = 50)\n",
    "ax.legend(targets)\n",
    "ax.grid()\n"
   ]
  },
  {
   "cell_type": "code",
   "execution_count": null,
   "metadata": {
    "pycharm": {
     "is_executing": false,
     "name": "#%%\n"
    },
    "scrolled": false
   },
   "outputs": [],
   "source": [
    "from sklearn.decomposition import PCA\n",
    "pca_num = 2\n",
    "pca = PCA(n_components=pca_num)\n",
    "principalComponents = pca.fit_transform(normalized_df)\n",
    "principalDf = pd.DataFrame(data = principalComponents\n",
    "             , columns = list(range(pca_num)))\n",
    "principalDf\n",
    "print(pca.components_)\n",
    "print(pca.explained_variance_)\n",
    "print(pca.explained_variance_ratio_)\n",
    "print(pca.explained_variance_ratio_.sum())\n",
    "index_dic_feature = {\n",
    "    12:\"코너비\",\n",
    "    13:\"입너비\",\n",
    "    14:\"아래턱사이너비\",\n",
    "    15:\"코높이\",\n",
    "    16:\"코길이\",\n",
    "    18:\"코뿌리턱끝수직길이\",\n",
    "    19:\"코뿌리코끝수직길이\",\n",
    "    45:\"귀구슬입술직선길이\"\n",
    "}\n",
    "col_feature = list(index_dic_feature.values())\n",
    "df = pd.DataFrame(data = pca.components_,columns = col_feature)\n",
    "df.T"
   ]
  },
  {
   "cell_type": "code",
   "execution_count": null,
   "metadata": {},
   "outputs": [],
   "source": []
  },
  {
   "cell_type": "code",
   "execution_count": null,
   "metadata": {},
   "outputs": [],
   "source": [
    "df[\"나이/age\"] = (df[\"나이/age\"]/10).astype(int)*10"
   ]
  },
  {
   "cell_type": "code",
   "execution_count": 12,
   "metadata": {},
   "outputs": [
    {
     "data": {
      "text/plain": [
       "array([58, 59, 56, 65, 51, 48, 21, 54, 64, 49, 60, 46, 67, 63, 43, 66, 42,\n",
       "       33, 34, 20, 40, 53, 55, 41, 61, 57, 62, 44, 52, 47, 45, 35, 31, 32,\n",
       "       50, 68, 69, 26, 39, 37, 23, 29, 30, 24, 36, 22, 38, 27, 25, 28],\n",
       "      dtype=int64)"
      ]
     },
     "execution_count": 12,
     "metadata": {},
     "output_type": "execute_result"
    }
   ],
   "source": [
    "df[\"나이/age\"].unique()"
   ]
  },
  {
   "cell_type": "code",
   "execution_count": 13,
   "metadata": {},
   "outputs": [
    {
     "ename": "NameError",
     "evalue": "name 'principalDf' is not defined",
     "output_type": "error",
     "traceback": [
      "\u001b[1;31m---------------------------------------------------------------------------\u001b[0m",
      "\u001b[1;31mNameError\u001b[0m                                 Traceback (most recent call last)",
      "\u001b[1;32m<ipython-input-13-58177f3e1d7b>\u001b[0m in \u001b[0;36m<module>\u001b[1;34m\u001b[0m\n\u001b[1;32m----> 1\u001b[1;33m \u001b[0mfinalDf\u001b[0m \u001b[1;33m=\u001b[0m \u001b[0mpd\u001b[0m\u001b[1;33m.\u001b[0m\u001b[0mconcat\u001b[0m\u001b[1;33m(\u001b[0m\u001b[1;33m[\u001b[0m\u001b[0mprincipalDf\u001b[0m\u001b[1;33m,\u001b[0m \u001b[0mdf\u001b[0m\u001b[1;33m[\u001b[0m\u001b[1;34m\"나이/age\"\u001b[0m\u001b[1;33m]\u001b[0m\u001b[1;33m]\u001b[0m\u001b[1;33m,\u001b[0m \u001b[0maxis\u001b[0m \u001b[1;33m=\u001b[0m \u001b[1;36m1\u001b[0m\u001b[1;33m)\u001b[0m\u001b[1;33m\u001b[0m\u001b[1;33m\u001b[0m\u001b[0m\n\u001b[0m",
      "\u001b[1;31mNameError\u001b[0m: name 'principalDf' is not defined"
     ]
    }
   ],
   "source": [
    "finalDf = pd.concat([principalDf, df[\"나이/age\"]], axis = 1)\n"
   ]
  },
  {
   "cell_type": "code",
   "execution_count": 17,
   "metadata": {},
   "outputs": [
    {
     "data": {
      "image/png": "[encoded data removed]",
      "text/plain": [
       "<Figure size 576x576 with 1 Axes>"
      ]
     },
     "metadata": {
      "needs_background": "light"
     },
     "output_type": "display_data"
    }
   ],
   "source": [
    "from sklearn.decomposition import PCA\n",
    "pca = PCA(n_components=2)\n",
    "principalComponents = pca.fit_transform(normalized_df)\n",
    "principalDf = pd.DataFrame(data = principalComponents\n",
    "             , columns = ['principal component 1', 'principal component 2'])\n",
    "fig = plt.figure(figsize = (8,8))\n",
    "ax = fig.add_subplot(1,1,1) \n",
    "ax.set_xlabel('Principal Component 1', fontsize = 15)\n",
    "ax.set_ylabel('Principal Component 2', fontsize = 15)\n",
    "ax.set_title('2 component PCA', fontsize = 20)\n",
    "\n",
    "finalDf = pd.concat([principalDf, df[[\"성별/sex\"]]], axis = 1)\n",
    "\n",
    "targets = [50, 60, 40, 20, 30]\n",
    "colors = ['b', 'g', 'r', 'c', 'm']\n",
    "\n",
    "\n",
    "targets = [20, 30]\n",
    "colors = ['c', 'm']\n",
    "\n",
    "targets = [ 30]\n",
    "colors = ['m']\n",
    "\n",
    "\n",
    "# targets = [50, 60, 40]\n",
    "# colors = ['b', 'g', 'r']\n",
    "\n",
    "for target,color in zip(targets,colors):\n",
    "    indicesToKeep = df['나이/age'] == target\n",
    "    ax.scatter(finalDf.loc[indicesToKeep, 'principal component 1']\n",
    "               , finalDf.loc[indicesToKeep, 'principal component 2']\n",
    "               , c = color\n",
    "               , s = 50)\n",
    "ax.set_xlim(-50,65)\n",
    "ax.set_ylim(-40,55)\n",
    "ax.legend(targets)\n",
    "ax.grid()\n"
   ]
  },
  {
   "cell_type": "code",
   "execution_count": null,
   "metadata": {},
   "outputs": [],
   "source": []
  },
  {
   "cell_type": "code",
   "execution_count": null,
   "metadata": {},
   "outputs": [],
   "source": []
  },
  {
   "cell_type": "code",
   "execution_count": null,
   "metadata": {},
   "outputs": [],
   "source": []
  },
  {
   "cell_type": "code",
   "execution_count": null,
   "metadata": {},
   "outputs": [],
   "source": []
  },
  {
   "cell_type": "code",
   "execution_count": 15,
   "metadata": {
    "pycharm": {
     "is_executing": false,
     "name": "#%%\n"
    }
   },
   "outputs": [
    {
     "name": "stdout",
     "output_type": "stream",
     "text": [
      "1.039131943944678e-91\n"
     ]
    },
    {
     "data": {
      "text/plain": [
       "<matplotlib.collections.PathCollection at 0x2bff73c3128>"
      ]
     },
     "execution_count": 15,
     "metadata": {},
     "output_type": "execute_result"
    },
    {
     "data": {
      "image/png": "[encoded data removed]",
      "text/plain": [
       "<Figure size 432x288 with 1 Axes>"
      ]
     },
     "metadata": {
      "needs_background": "light"
     },
     "output_type": "display_data"
    }
   ],
   "source": [
    "import numpy as np\n",
    "import scipy.stats\n",
    "x = df_features[\"귀구슬입술직선길이\"]\n",
    "y = df_features[\"코너비\"]\n",
    "result = scipy.stats.linregress(x,y)\n",
    "print(result.pvalue)\n",
    "plt.scatter(x,y)"
   ]
  },
  {
   "cell_type": "code",
   "execution_count": 16,
   "metadata": {
    "pycharm": {
     "is_executing": false,
     "name": "#%%\n"
    }
   },
   "outputs": [],
   "source": [
    "p_value_mtx = np.zeros((8,8))\n",
    "slope_mtx = np.zeros((8,8))\n",
    "\n",
    "\n",
    "for i in list(range(8)):\n",
    "    for j in list(range(8)):\n",
    "        x = df_features.iloc[:,i]\n",
    "        y = df_features.iloc[:,j]\n",
    "        result = scipy.stats.linregress(x,y)\n",
    "        p_value_mtx[i,j] = result.pvalue\n",
    "        slope_mtx[i,j] = result.slope\n",
    "        \n"
   ]
  },
  {
   "cell_type": "code",
   "execution_count": null,
   "metadata": {
    "pycharm": {
     "is_executing": false,
     "name": "#%%\n"
    }
   },
   "outputs": [],
   "source": [
    "\n",
    "np.savetxt(\"./p_value_mtx.csv\", p_value_mtx, delimiter=\",\")\n",
    "np.savetxt(\"./slope_mtx.csv\", slope_mtx, delimiter=\",\")\n"
   ]
  },
  {
   "cell_type": "code",
   "execution_count": null,
   "metadata": {
    "pycharm": {
     "name": "#%%\n"
    }
   },
   "outputs": [],
   "source": [
    "\n"
   ]
  },
  {
   "cell_type": "code",
   "execution_count": null,
   "metadata": {},
   "outputs": [],
   "source": []
  },
  {
   "cell_type": "markdown",
   "metadata": {},
   "source": [
    "### Factor Analysis"
   ]
  },
  {
   "cell_type": "code",
   "execution_count": null,
   "metadata": {},
   "outputs": [],
   "source": [
    "from factor_analyzer import FactorAnalyzer"
   ]
  },
  {
   "cell_type": "code",
   "execution_count": null,
   "metadata": {},
   "outputs": [],
   "source": [
    "df_features"
   ]
  },
  {
   "cell_type": "code",
   "execution_count": null,
   "metadata": {},
   "outputs": [],
   "source": [
    "items = df_features.columns.tolist()\n",
    "items"
   ]
  },
  {
   "cell_type": "code",
   "execution_count": null,
   "metadata": {},
   "outputs": [],
   "source": [
    "fa = FactorAnalyzer(n_factors=4, method=\"ml\", rotation=\"varimax\")\n",
    "fa.fit(df_features)\n",
    "efa_result= pd.DataFrame(fa.loadings_, index=[12,13,14,15,16,18,19,21,29,32,33,45])\n",
    "efa_result"
   ]
  },
  {
   "cell_type": "code",
   "execution_count": null,
   "metadata": {
    "scrolled": false
   },
   "outputs": [],
   "source": [
    "import seaborn as sns\n",
    "\n",
    "plt.figure(figsize=(6,10))\n",
    "sns.heatmap(efa_result, cmap=\"bwr\", annot=True, fmt='.2f', vmin=-1.2, vmax=1.2)"
   ]
  },
  {
   "cell_type": "code",
   "execution_count": null,
   "metadata": {},
   "outputs": [],
   "source": [
    "fa.get_factor_variance()"
   ]
  },
  {
   "cell_type": "code",
   "execution_count": null,
   "metadata": {},
   "outputs": [],
   "source": [
    "from factor_analyzer.factor_analyzer import calculate_kmo\n",
    "kmo_all,kmo_model=calculate_kmo(df_features)\n",
    "print(\"KMO = \" + str(kmo_model))"
   ]
  },
  {
   "cell_type": "code",
   "execution_count": null,
   "metadata": {},
   "outputs": [],
   "source": [
    "from factor_analyzer.factor_analyzer import calculate_bartlett_sphericity\n",
    "chi_square_value,p_value=calculate_bartlett_sphericity(df_features)\n",
    "chi_square_value, p_value\n",
    "\n",
    "print(\"Bartlett's significance value \"+  str(p_value))"
   ]
  },
  {
   "cell_type": "code",
   "execution_count": null,
   "metadata": {},
   "outputs": [],
   "source": [
    "fa = FactorAnalyzer()\n",
    "\n",
    "fa = FactorAnalyzer()\n",
    "fa.fit(df_features, 25)\n",
    "eigen_values, vectors = fa.get_eigenvalues()\n",
    "ev, v = fa.get_eigenvalues()\n",
    "\n",
    "plt.scatter(range(1,df_features.shape[1]+1),ev)\n",
    "plt.plot(range(1,df_features.shape[1]+1),ev)\n",
    "plt.title('Scree Plot')\n",
    "plt.xlabel('Factors')\n",
    "plt.ylabel('Eigenvalue')\n",
    "plt.grid()\n",
    "plt.show()"
   ]
  },
  {
   "cell_type": "code",
   "execution_count": null,
   "metadata": {},
   "outputs": [],
   "source": [
    "# > .9 (Excellent), > .8 (Good), > .7 (Acceptable), > .6 (Questionable), > .5(Poor), and < .5 (Unacceptable)\n",
    "def CronbachAlpha(itemscores):\n",
    "    itemscores = np.asarray(itemscores)\n",
    "    itemvars = itemscores.var(axis=0, ddof=1)\n",
    "    tscores = itemscores.sum(axis=1)\n",
    "    nitems = itemscores.shape[1]\n",
    "\n",
    "    return (nitems / (nitems-1)) * (1 - (itemvars.sum() / tscores.var(ddof=1)))"
   ]
  },
  {
   "cell_type": "code",
   "execution_count": null,
   "metadata": {},
   "outputs": [],
   "source": [
    "index_dic = {\n",
    "    0: \"나이/age\",\n",
    "    1: \"성별/sex\",\n",
    "    12:\"코너비\",\n",
    "    13:\"입너비\",\n",
    "    14:\"아래턱사이너비\",\n",
    "    15:\"코높이\",\n",
    "    16:\"코길이\",\n",
    "    18:\"코뿌리턱끝수직길이\",\n",
    "    19:\"코뿌리코끝수직길이\",\n",
    "    45:\"귀구슬입술직선길이\"\n",
    "}\n",
    "factors_items_dict = {}\n",
    "factors_items_dict[0] = [\"코높이\",\"코뿌리코끝수직길이\",\"코길이\"]\n",
    "factors_items_dict[1] = [\"코너비\",\"입너비\",\"코뿌리턱끝수직길이\"]\n",
    "factors_items_dict[2] = [\"아래턱사이너비\",\"귀구슬입술직선길이\"]\n",
    "\n",
    "for key, value in factors_items_dict.items():\n",
    "    print(str(key)+\": \"+str(CronbachAlpha(df_features[value])))\n"
   ]
  },
  {
   "cell_type": "code",
   "execution_count": null,
   "metadata": {},
   "outputs": [],
   "source": [
    "fa.get_factor_variance()"
   ]
  },
  {
   "cell_type": "code",
   "execution_count": null,
   "metadata": {},
   "outputs": [],
   "source": []
  },
  {
   "cell_type": "code",
   "execution_count": null,
   "metadata": {},
   "outputs": [],
   "source": []
  },
  {
   "cell_type": "code",
   "execution_count": null,
   "metadata": {},
   "outputs": [],
   "source": []
  },
  {
   "cell_type": "code",
   "execution_count": 6,
   "metadata": {},
   "outputs": [],
   "source": [
    "train = df_features"
   ]
  },
  {
   "cell_type": "code",
   "execution_count": 7,
   "metadata": {},
   "outputs": [],
   "source": [
    "import pandas as pd\n",
    "import numpy as np\n",
    "from sklearn.cluster import KMeans\n",
    "from sklearn.preprocessing import LabelEncoder\n",
    "from sklearn.preprocessing import MinMaxScaler\n",
    "import seaborn as sns\n",
    "import matplotlib.pyplot as plt"
   ]
  },
  {
   "cell_type": "code",
   "execution_count": 8,
   "metadata": {},
   "outputs": [
    {
     "name": "stdout",
     "output_type": "stream",
     "text": [
      "['코너비' '입너비' '아래턱사이너비' '코높이' '코길이' '코뿌리턱끝수직길이' '코뿌리코끝수직길이' '눈살귀구슬수평길이'\n",
      " '머리마루_아래턱뼈수직길이' '머리마루_입술수직길이' '머리마루_코밑수직길이' '귀구슬입술직선길이']\n"
     ]
    }
   ],
   "source": [
    "print(train.columns.values)"
   ]
  },
  {
   "cell_type": "code",
   "execution_count": 9,
   "metadata": {},
   "outputs": [
    {
     "name": "stdout",
     "output_type": "stream",
     "text": [
      "코너비              0\n",
      "입너비              0\n",
      "아래턱사이너비          0\n",
      "코높이              0\n",
      "코길이              0\n",
      "코뿌리턱끝수직길이        0\n",
      "코뿌리코끝수직길이        0\n",
      "눈살귀구슬수평길이        0\n",
      "머리마루_아래턱뼈수직길이    0\n",
      "머리마루_입술수직길이      0\n",
      "머리마루_코밑수직길이      0\n",
      "귀구슬입술직선길이        0\n",
      "dtype: int64\n"
     ]
    }
   ],
   "source": [
    "print(train.isna().sum())"
   ]
  },
  {
   "cell_type": "code",
   "execution_count": 10,
   "metadata": {},
   "outputs": [
    {
     "data": {
      "text/plain": [
       "KMeans(algorithm='auto', copy_x=True, init='random', max_iter=600,\n",
       "    n_clusters=2, n_init=10, n_jobs=None, precompute_distances='auto',\n",
       "    random_state=None, tol=0.0001, verbose=0)"
      ]
     },
     "execution_count": 10,
     "metadata": {},
     "output_type": "execute_result"
    }
   ],
   "source": [
    "kmeans = KMeans(init=\"random\",n_clusters=2, max_iter=600, algorithm = 'auto') \n",
    "kmeans.fit(train)"
   ]
  },
  {
   "cell_type": "code",
   "execution_count": 11,
   "metadata": {},
   "outputs": [
    {
     "data": {
      "text/plain": [
       "array([[ 35.64567568,  55.28063063, 116.30243243,  12.20738739,\n",
       "         51.54054054, 113.81576577,  34.4354955 ,  88.62405405,\n",
       "         21.01918919,  40.72009009,  62.31198198, 132.67801802],\n",
       "       [ 34.54915254,  46.61927966, 131.81387712,  13.61345339,\n",
       "         50.65010593, 111.32902542,  36.57891949,  98.61769068,\n",
       "         42.41101695,  38.03495763,  60.68877119, 142.70572034]])"
      ]
     },
     "execution_count": 11,
     "metadata": {},
     "output_type": "execute_result"
    }
   ],
   "source": [
    "kmeans.cluster_centers_"
   ]
  },
  {
   "cell_type": "code",
   "execution_count": 12,
   "metadata": {},
   "outputs": [
    {
     "data": {
      "text/plain": [
       "33"
      ]
     },
     "execution_count": 12,
     "metadata": {},
     "output_type": "execute_result"
    }
   ],
   "source": [
    "kmeans.n_iter_"
   ]
  },
  {
   "cell_type": "code",
   "execution_count": 13,
   "metadata": {},
   "outputs": [
    {
     "data": {
      "text/plain": [
       "array([0, 0, 0, ..., 1, 1, 0])"
      ]
     },
     "execution_count": 13,
     "metadata": {},
     "output_type": "execute_result"
    }
   ],
   "source": [
    "kmeans.labels_"
   ]
  },
  {
   "cell_type": "code",
   "execution_count": 14,
   "metadata": {},
   "outputs": [
    {
     "ename": "NameError",
     "evalue": "name 'StandardScaler' is not defined",
     "output_type": "error",
     "traceback": [
      "\u001b[1;31m---------------------------------------------------------------------------\u001b[0m",
      "\u001b[1;31mNameError\u001b[0m                                 Traceback (most recent call last)",
      "\u001b[1;32m<ipython-input-14-62825c9108f0>\u001b[0m in \u001b[0;36m<module>\u001b[1;34m\u001b[0m\n\u001b[1;32m----> 1\u001b[1;33m \u001b[0mscaler\u001b[0m \u001b[1;33m=\u001b[0m \u001b[0mStandardScaler\u001b[0m\u001b[1;33m(\u001b[0m\u001b[1;33m)\u001b[0m\u001b[1;33m\u001b[0m\u001b[1;33m\u001b[0m\u001b[0m\n\u001b[0m\u001b[0;32m      2\u001b[0m \u001b[0mscaled_features\u001b[0m \u001b[1;33m=\u001b[0m \u001b[0mscaler\u001b[0m\u001b[1;33m.\u001b[0m\u001b[0mfit_transform\u001b[0m\u001b[1;33m(\u001b[0m\u001b[0mtrain\u001b[0m\u001b[1;33m)\u001b[0m\u001b[1;33m\u001b[0m\u001b[1;33m\u001b[0m\u001b[0m\n",
      "\u001b[1;31mNameError\u001b[0m: name 'StandardScaler' is not defined"
     ]
    }
   ],
   "source": []
  },
  {
   "cell_type": "code",
   "execution_count": 1,
   "metadata": {},
   "outputs": [],
   "source": [
    "import matplotlib.pyplot as plt\n",
    "from kneed import KneeLocator\n",
    "from sklearn.datasets import make_blobs\n",
    "from sklearn.cluster import KMeans\n",
    "from sklearn.metrics import silhouette_score\n",
    "from sklearn.preprocessing import StandardScaler\n",
    "import pandas as pd\n",
    "\n",
    "index_dic = {\n",
    "    0: \"나이/age\",\n",
    "    1: \"성별/sex\",\n",
    "    12:\"코너비\",\n",
    "    13:\"입너비\",\n",
    "    14:\"아래턱사이너비\",\n",
    "    15:\"코높이\",\n",
    "    16:\"코길이\",\n",
    "    18:\"코뿌리턱끝수직길이\",\n",
    "    19:\"코뿌리코끝수직길이\",\n",
    "    21:\"눈살귀구슬수평길이\",\n",
    "    28:\"머리수직길이\",\n",
    "    29:\"머리마루_아래턱뼈수직길이\",\n",
    "    32:\"머리마루_입술수직길이\",\n",
    "    33:\"머리마루_코밑수직길이\",\n",
    "    45:\"귀구슬입술직선길이\"\n",
    "}\n",
    "\n",
    "index_dic_feature = {\n",
    "    0: \"나이/age\",\n",
    "    1: \"성별/sex\",\n",
    "    12:\"코너비\",\n",
    "    13:\"입너비\",\n",
    "    14:\"아래턱사이너비\",\n",
    "    15:\"코높이\",\n",
    "    16:\"코길이\",\n",
    "    18:\"코뿌리턱끝수직길이\",\n",
    "    19:\"코뿌리코끝수직길이\",\n",
    "    21:\"눈살귀구슬수평길이\",\n",
    "    29:\"머리마루_아래턱뼈수직길이\",\n",
    "    32:\"머리마루_입술수직길이\",\n",
    "    33:\"머리마루_코밑수직길이\",\n",
    "    45:\"귀구슬입술직선길이\"\n",
    "}\n",
    "\n",
    "df_raw = pd.read_excel (\"./2010_6th_sort_translated.xlsx\")\n",
    "\n",
    "df = df_raw\n",
    "for idx in [29,32,33]:\n",
    "    df.loc[:,index_dic[idx]] = df.loc[:,index_dic[28]]-df.loc[:,index_dic[idx]]\n",
    "    \n",
    "col = list(index_dic_feature.values())\n",
    "df = df.dropna()\n",
    "df.reset_index(inplace = True,drop = True)\n",
    "df_features = df[col[2:]]\n",
    "normalized_df = df_features-df_features.mean()"
   ]
  },
  {
   "cell_type": "code",
   "execution_count": 2,
   "metadata": {},
   "outputs": [
    {
     "name": "stdout",
     "output_type": "stream",
     "text": [
      "2\n",
      "3\n",
      "4\n",
      "5\n",
      "6\n",
      "7\n",
      "8\n",
      "9\n",
      "10\n",
      "11\n"
     ]
    }
   ],
   "source": [
    "train = df_features\n",
    "scaler = StandardScaler()\n",
    "scaled_features = scaler.fit_transform(train)\n",
    "\n",
    "kmeans_kwargs = {\n",
    "    \"init\": \"random\",\n",
    "    \"n_init\": 10,\n",
    "    \"max_iter\": 600,\n",
    "    \"random_state\": 42,\n",
    "}\n",
    "\n",
    "# A list holds the SSE values for each k\n",
    "sse = []\n",
    "for k in range(2, 12):\n",
    "    print(k)\n",
    "    kmeans = KMeans(n_clusters=k, **kmeans_kwargs)\n",
    "    kmeans.fit(scaled_features)\n",
    "    sse.append(kmeans.inertia_)"
   ]
  },
  {
   "cell_type": "code",
   "execution_count": 3,
   "metadata": {},
   "outputs": [
    {
     "data": {
      "image/png": "[encoded data removed]",
      "text/plain": [
       "<Figure size 432x288 with 1 Axes>"
      ]
     },
     "metadata": {},
     "output_type": "display_data"
    },
    {
     "data": {
      "text/plain": [
       "4"
      ]
     },
     "execution_count": 3,
     "metadata": {},
     "output_type": "execute_result"
    }
   ],
   "source": [
    " plt.style.use(\"fivethirtyeight\")\n",
    " plt.plot(range(1, 11), sse)\n",
    " plt.xticks(range(1, 11))\n",
    " plt.xlabel(\"Number of Clusters\")\n",
    " plt.ylabel(\"SSE\")\n",
    " plt.show()\n",
    "\n",
    "kl = KneeLocator(\n",
    "    range(1, 11), sse, curve=\"convex\", direction=\"decreasing\"\n",
    ")\n",
    "\n",
    "kl.elbow\n"
   ]
  },
  {
   "cell_type": "code",
   "execution_count": null,
   "metadata": {},
   "outputs": [],
   "source": []
  },
  {
   "cell_type": "code",
   "execution_count": 4,
   "metadata": {},
   "outputs": [
    {
     "data": {
      "image/png": "[encoded data removed]",
      "text/plain": [
       "<Figure size 432x288 with 1 Axes>"
      ]
     },
     "metadata": {},
     "output_type": "display_data"
    }
   ],
   "source": [
    "silhouette_coefficients = []\n",
    "\n",
    "# Notice you start at 2 clusters for silhouette coefficient\n",
    "for k in range(2, 11):\n",
    "    kmeans = KMeans(n_clusters=k, **kmeans_kwargs)\n",
    "    kmeans.fit(scaled_features)\n",
    "    score = silhouette_score(scaled_features, kmeans.labels_)\n",
    "    silhouette_coefficients.append(score)\n",
    "plt.style.use(\"fivethirtyeight\")\n",
    "plt.plot(range(2, 11), silhouette_coefficients)\n",
    "plt.xticks(range(2, 11))\n",
    "plt.xlabel(\"Number of Clusters\")\n",
    "plt.ylabel(\"Silhouette Coefficient\")\n",
    "plt.show()"
   ]
  },
  {
   "cell_type": "code",
   "execution_count": 5,
   "metadata": {},
   "outputs": [
    {
     "data": {
      "text/plain": [
       "array([0, 0, 0, ..., 1, 2, 2])"
      ]
     },
     "execution_count": 5,
     "metadata": {},
     "output_type": "execute_result"
    }
   ],
   "source": [
    "kmeans = KMeans(n_clusters=4, **kmeans_kwargs)\n",
    "kmeans.fit(scaled_features)\n",
    "kmeans.labels_"
   ]
  },
  {
   "cell_type": "code",
   "execution_count": 6,
   "metadata": {
    "scrolled": false
   },
   "outputs": [
    {
     "name": "stderr",
     "output_type": "stream",
     "text": [
      "No handles with labels found to put in legend.\n"
     ]
    },
    {
     "data": {
      "image/png": "[encoded data removed]",
      "text/plain": [
       "<Figure size 576x576 with 1 Axes>"
      ]
     },
     "metadata": {},
     "output_type": "display_data"
    }
   ],
   "source": [
    "from sklearn.decomposition import PCA\n",
    "pca = PCA(n_components=2)\n",
    "principalComponents = pca.fit_transform(normalized_df)\n",
    "principalDf = pd.DataFrame(data = principalComponents\n",
    "             , columns = ['principal component 1', 'principal component 2'])\n",
    "fig = plt.figure(figsize = (8,8))\n",
    "ax = fig.add_subplot(1,1,1) \n",
    "ax.set_xlabel('Principal Component 1', fontsize = 15)\n",
    "ax.set_ylabel('Principal Component 2', fontsize = 15)\n",
    "ax.set_title('2 component PCA', fontsize = 20)\n",
    "\n",
    "\n",
    "ax.scatter(principalDf['principal component 1']\n",
    "               , principalDf['principal component 2']\n",
    "                ,c = kmeans.labels_\n",
    "           , s = 50)\n",
    "ax.legend()\n",
    "ax.set_xlim(-50,65)\n",
    "ax.set_ylim(-40,55)\n",
    "ax.grid()"
   ]
  },
  {
   "cell_type": "code",
   "execution_count": 9,
   "metadata": {},
   "outputs": [
    {
     "data": {
      "text/html": [
       "<div>\n",
       "<style scoped>\n",
       "    .dataframe tbody tr th:only-of-type {\n",
       "        vertical-align: middle;\n",
       "    }\n",
       "\n",
       "    .dataframe tbody tr th {\n",
       "        vertical-align: top;\n",
       "    }\n",
       "\n",
       "    .dataframe thead th {\n",
       "        text-align: right;\n",
       "    }\n",
       "</style>\n",
       "<table border=\"1\" class=\"dataframe\">\n",
       "  <thead>\n",
       "    <tr style=\"text-align: right;\">\n",
       "      <th></th>\n",
       "      <th>principal component 1</th>\n",
       "      <th>principal component 2</th>\n",
       "      <th>label</th>\n",
       "    </tr>\n",
       "  </thead>\n",
       "  <tbody>\n",
       "    <tr>\n",
       "      <th>0</th>\n",
       "      <td>-15.637678</td>\n",
       "      <td>5.472831</td>\n",
       "      <td>0</td>\n",
       "    </tr>\n",
       "    <tr>\n",
       "      <th>1</th>\n",
       "      <td>-29.866200</td>\n",
       "      <td>4.567292</td>\n",
       "      <td>0</td>\n",
       "    </tr>\n",
       "    <tr>\n",
       "      <th>2</th>\n",
       "      <td>-17.232906</td>\n",
       "      <td>-13.042345</td>\n",
       "      <td>0</td>\n",
       "    </tr>\n",
       "    <tr>\n",
       "      <th>3</th>\n",
       "      <td>-30.417497</td>\n",
       "      <td>1.381932</td>\n",
       "      <td>0</td>\n",
       "    </tr>\n",
       "    <tr>\n",
       "      <th>4</th>\n",
       "      <td>-5.787599</td>\n",
       "      <td>2.317279</td>\n",
       "      <td>0</td>\n",
       "    </tr>\n",
       "    <tr>\n",
       "      <th>...</th>\n",
       "      <td>...</td>\n",
       "      <td>...</td>\n",
       "      <td>...</td>\n",
       "    </tr>\n",
       "    <tr>\n",
       "      <th>2049</th>\n",
       "      <td>22.340192</td>\n",
       "      <td>-4.360493</td>\n",
       "      <td>1</td>\n",
       "    </tr>\n",
       "    <tr>\n",
       "      <th>2050</th>\n",
       "      <td>2.575093</td>\n",
       "      <td>-9.128041</td>\n",
       "      <td>2</td>\n",
       "    </tr>\n",
       "    <tr>\n",
       "      <th>2051</th>\n",
       "      <td>6.836738</td>\n",
       "      <td>-27.236562</td>\n",
       "      <td>1</td>\n",
       "    </tr>\n",
       "    <tr>\n",
       "      <th>2052</th>\n",
       "      <td>18.521340</td>\n",
       "      <td>-2.255699</td>\n",
       "      <td>2</td>\n",
       "    </tr>\n",
       "    <tr>\n",
       "      <th>2053</th>\n",
       "      <td>3.979634</td>\n",
       "      <td>12.403133</td>\n",
       "      <td>2</td>\n",
       "    </tr>\n",
       "  </tbody>\n",
       "</table>\n",
       "<p>2054 rows × 3 columns</p>\n",
       "</div>"
      ],
      "text/plain": [
       "      principal component 1  principal component 2  label\n",
       "0                -15.637678               5.472831      0\n",
       "1                -29.866200               4.567292      0\n",
       "2                -17.232906             -13.042345      0\n",
       "3                -30.417497               1.381932      0\n",
       "4                 -5.787599               2.317279      0\n",
       "...                     ...                    ...    ...\n",
       "2049              22.340192              -4.360493      1\n",
       "2050               2.575093              -9.128041      2\n",
       "2051               6.836738             -27.236562      1\n",
       "2052              18.521340              -2.255699      2\n",
       "2053               3.979634              12.403133      2\n",
       "\n",
       "[2054 rows x 3 columns]"
      ]
     },
     "execution_count": 9,
     "metadata": {},
     "output_type": "execute_result"
    }
   ],
   "source": [
    "principalDf\n",
    "principalDf[\"label\"] = kmeans.labels_\n",
    "principalDf"
   ]
  },
  {
   "cell_type": "code",
   "execution_count": 12,
   "metadata": {},
   "outputs": [
    {
     "data": {
      "text/html": [
       "<div>\n",
       "<style scoped>\n",
       "    .dataframe tbody tr th:only-of-type {\n",
       "        vertical-align: middle;\n",
       "    }\n",
       "\n",
       "    .dataframe tbody tr th {\n",
       "        vertical-align: top;\n",
       "    }\n",
       "\n",
       "    .dataframe thead tr th {\n",
       "        text-align: left;\n",
       "    }\n",
       "\n",
       "    .dataframe thead tr:last-of-type th {\n",
       "        text-align: right;\n",
       "    }\n",
       "</style>\n",
       "<table border=\"1\" class=\"dataframe\">\n",
       "  <thead>\n",
       "    <tr>\n",
       "      <th></th>\n",
       "      <th colspan=\"8\" halign=\"left\">principal component 1</th>\n",
       "      <th colspan=\"8\" halign=\"left\">principal component 2</th>\n",
       "    </tr>\n",
       "    <tr>\n",
       "      <th></th>\n",
       "      <th>count</th>\n",
       "      <th>mean</th>\n",
       "      <th>std</th>\n",
       "      <th>min</th>\n",
       "      <th>25%</th>\n",
       "      <th>50%</th>\n",
       "      <th>75%</th>\n",
       "      <th>max</th>\n",
       "      <th>count</th>\n",
       "      <th>mean</th>\n",
       "      <th>std</th>\n",
       "      <th>min</th>\n",
       "      <th>25%</th>\n",
       "      <th>50%</th>\n",
       "      <th>75%</th>\n",
       "      <th>max</th>\n",
       "    </tr>\n",
       "    <tr>\n",
       "      <th>label</th>\n",
       "      <th></th>\n",
       "      <th></th>\n",
       "      <th></th>\n",
       "      <th></th>\n",
       "      <th></th>\n",
       "      <th></th>\n",
       "      <th></th>\n",
       "      <th></th>\n",
       "      <th></th>\n",
       "      <th></th>\n",
       "      <th></th>\n",
       "      <th></th>\n",
       "      <th></th>\n",
       "      <th></th>\n",
       "      <th></th>\n",
       "      <th></th>\n",
       "    </tr>\n",
       "  </thead>\n",
       "  <tbody>\n",
       "    <tr>\n",
       "      <th>0</th>\n",
       "      <td>660.0</td>\n",
       "      <td>-18.232499</td>\n",
       "      <td>9.532613</td>\n",
       "      <td>-49.967068</td>\n",
       "      <td>-25.067012</td>\n",
       "      <td>-17.719840</td>\n",
       "      <td>-12.009942</td>\n",
       "      <td>12.474542</td>\n",
       "      <td>660.0</td>\n",
       "      <td>4.299658</td>\n",
       "      <td>7.788466</td>\n",
       "      <td>-21.544379</td>\n",
       "      <td>-0.657005</td>\n",
       "      <td>4.218620</td>\n",
       "      <td>8.754326</td>\n",
       "      <td>51.971659</td>\n",
       "    </tr>\n",
       "    <tr>\n",
       "      <th>1</th>\n",
       "      <td>599.0</td>\n",
       "      <td>4.242756</td>\n",
       "      <td>10.297706</td>\n",
       "      <td>-29.174216</td>\n",
       "      <td>-2.714033</td>\n",
       "      <td>4.029618</td>\n",
       "      <td>11.346759</td>\n",
       "      <td>35.453479</td>\n",
       "      <td>599.0</td>\n",
       "      <td>-18.458614</td>\n",
       "      <td>7.740577</td>\n",
       "      <td>-37.082411</td>\n",
       "      <td>-24.125855</td>\n",
       "      <td>-18.953769</td>\n",
       "      <td>-13.263668</td>\n",
       "      <td>5.322515</td>\n",
       "    </tr>\n",
       "    <tr>\n",
       "      <th>2</th>\n",
       "      <td>591.0</td>\n",
       "      <td>2.279723</td>\n",
       "      <td>11.960592</td>\n",
       "      <td>-28.620268</td>\n",
       "      <td>-6.305152</td>\n",
       "      <td>1.494190</td>\n",
       "      <td>10.252588</td>\n",
       "      <td>39.433197</td>\n",
       "      <td>591.0</td>\n",
       "      <td>10.290303</td>\n",
       "      <td>9.290534</td>\n",
       "      <td>-17.599311</td>\n",
       "      <td>4.538037</td>\n",
       "      <td>11.146060</td>\n",
       "      <td>16.690741</td>\n",
       "      <td>32.595598</td>\n",
       "    </tr>\n",
       "    <tr>\n",
       "      <th>3</th>\n",
       "      <td>204.0</td>\n",
       "      <td>39.925107</td>\n",
       "      <td>14.237035</td>\n",
       "      <td>6.228283</td>\n",
       "      <td>28.172666</td>\n",
       "      <td>41.385466</td>\n",
       "      <td>51.019395</td>\n",
       "      <td>75.706241</td>\n",
       "      <td>204.0</td>\n",
       "      <td>10.477288</td>\n",
       "      <td>12.593577</td>\n",
       "      <td>-16.846761</td>\n",
       "      <td>1.606035</td>\n",
       "      <td>9.983904</td>\n",
       "      <td>18.232325</td>\n",
       "      <td>45.837527</td>\n",
       "    </tr>\n",
       "  </tbody>\n",
       "</table>\n",
       "</div>"
      ],
      "text/plain": [
       "      principal component 1                                              \\\n",
       "                      count       mean        std        min        25%   \n",
       "label                                                                     \n",
       "0                     660.0 -18.232499   9.532613 -49.967068 -25.067012   \n",
       "1                     599.0   4.242756  10.297706 -29.174216  -2.714033   \n",
       "2                     591.0   2.279723  11.960592 -28.620268  -6.305152   \n",
       "3                     204.0  39.925107  14.237035   6.228283  28.172666   \n",
       "\n",
       "                                       principal component 2             \\\n",
       "             50%        75%        max                 count       mean   \n",
       "label                                                                     \n",
       "0     -17.719840 -12.009942  12.474542                 660.0   4.299658   \n",
       "1       4.029618  11.346759  35.453479                 599.0 -18.458614   \n",
       "2       1.494190  10.252588  39.433197                 591.0  10.290303   \n",
       "3      41.385466  51.019395  75.706241                 204.0  10.477288   \n",
       "\n",
       "                                                                         \n",
       "             std        min        25%        50%        75%        max  \n",
       "label                                                                    \n",
       "0       7.788466 -21.544379  -0.657005   4.218620   8.754326  51.971659  \n",
       "1       7.740577 -37.082411 -24.125855 -18.953769 -13.263668   5.322515  \n",
       "2       9.290534 -17.599311   4.538037  11.146060  16.690741  32.595598  \n",
       "3      12.593577 -16.846761   1.606035   9.983904  18.232325  45.837527  "
      ]
     },
     "execution_count": 12,
     "metadata": {},
     "output_type": "execute_result"
    }
   ],
   "source": [
    "principalDf.groupby(\"label\").describe()"
   ]
  },
  {
   "cell_type": "code",
   "execution_count": 15,
   "metadata": {},
   "outputs": [
    {
     "name": "stderr",
     "output_type": "stream",
     "text": [
      "C:\\Users\\ZAIO\\.conda\\envs\\cv2\\lib\\site-packages\\ipykernel_launcher.py:1: SettingWithCopyWarning: \n",
      "A value is trying to be set on a copy of a slice from a DataFrame.\n",
      "Try using .loc[row_indexer,col_indexer] = value instead\n",
      "\n",
      "See the caveats in the documentation: https://pandas.pydata.org/pandas-docs/stable/user_guide/indexing.html#returning-a-view-versus-a-copy\n",
      "  \"\"\"Entry point for launching an IPython kernel.\n"
     ]
    },
    {
     "data": {
      "text/html": [
       "<div>\n",
       "<style scoped>\n",
       "    .dataframe tbody tr th:only-of-type {\n",
       "        vertical-align: middle;\n",
       "    }\n",
       "\n",
       "    .dataframe tbody tr th {\n",
       "        vertical-align: top;\n",
       "    }\n",
       "\n",
       "    .dataframe thead tr th {\n",
       "        text-align: left;\n",
       "    }\n",
       "\n",
       "    .dataframe thead tr:last-of-type th {\n",
       "        text-align: right;\n",
       "    }\n",
       "</style>\n",
       "<table border=\"1\" class=\"dataframe\">\n",
       "  <thead>\n",
       "    <tr>\n",
       "      <th></th>\n",
       "      <th colspan=\"8\" halign=\"left\">코너비</th>\n",
       "      <th colspan=\"2\" halign=\"left\">입너비</th>\n",
       "      <th>...</th>\n",
       "      <th colspan=\"2\" halign=\"left\">머리마루_코밑수직길이</th>\n",
       "      <th colspan=\"8\" halign=\"left\">귀구슬입술직선길이</th>\n",
       "    </tr>\n",
       "    <tr>\n",
       "      <th></th>\n",
       "      <th>count</th>\n",
       "      <th>mean</th>\n",
       "      <th>std</th>\n",
       "      <th>min</th>\n",
       "      <th>25%</th>\n",
       "      <th>50%</th>\n",
       "      <th>75%</th>\n",
       "      <th>max</th>\n",
       "      <th>count</th>\n",
       "      <th>mean</th>\n",
       "      <th>...</th>\n",
       "      <th>75%</th>\n",
       "      <th>max</th>\n",
       "      <th>count</th>\n",
       "      <th>mean</th>\n",
       "      <th>std</th>\n",
       "      <th>min</th>\n",
       "      <th>25%</th>\n",
       "      <th>50%</th>\n",
       "      <th>75%</th>\n",
       "      <th>max</th>\n",
       "    </tr>\n",
       "    <tr>\n",
       "      <th>label</th>\n",
       "      <th></th>\n",
       "      <th></th>\n",
       "      <th></th>\n",
       "      <th></th>\n",
       "      <th></th>\n",
       "      <th></th>\n",
       "      <th></th>\n",
       "      <th></th>\n",
       "      <th></th>\n",
       "      <th></th>\n",
       "      <th></th>\n",
       "      <th></th>\n",
       "      <th></th>\n",
       "      <th></th>\n",
       "      <th></th>\n",
       "      <th></th>\n",
       "      <th></th>\n",
       "      <th></th>\n",
       "      <th></th>\n",
       "      <th></th>\n",
       "      <th></th>\n",
       "    </tr>\n",
       "  </thead>\n",
       "  <tbody>\n",
       "    <tr>\n",
       "      <th>0</th>\n",
       "      <td>660.0</td>\n",
       "      <td>34.691667</td>\n",
       "      <td>3.117181</td>\n",
       "      <td>27.0</td>\n",
       "      <td>32.825</td>\n",
       "      <td>35.0</td>\n",
       "      <td>37.0</td>\n",
       "      <td>44.0</td>\n",
       "      <td>660.0</td>\n",
       "      <td>54.168485</td>\n",
       "      <td>...</td>\n",
       "      <td>64.000</td>\n",
       "      <td>76.0</td>\n",
       "      <td>660.0</td>\n",
       "      <td>129.902727</td>\n",
       "      <td>6.314203</td>\n",
       "      <td>110.0</td>\n",
       "      <td>126.00</td>\n",
       "      <td>130.0</td>\n",
       "      <td>134.00</td>\n",
       "      <td>153.6</td>\n",
       "    </tr>\n",
       "    <tr>\n",
       "      <th>1</th>\n",
       "      <td>599.0</td>\n",
       "      <td>32.242738</td>\n",
       "      <td>3.015425</td>\n",
       "      <td>23.4</td>\n",
       "      <td>30.000</td>\n",
       "      <td>32.3</td>\n",
       "      <td>34.2</td>\n",
       "      <td>44.0</td>\n",
       "      <td>599.0</td>\n",
       "      <td>42.613022</td>\n",
       "      <td>...</td>\n",
       "      <td>60.300</td>\n",
       "      <td>71.6</td>\n",
       "      <td>599.0</td>\n",
       "      <td>132.834057</td>\n",
       "      <td>7.055635</td>\n",
       "      <td>113.8</td>\n",
       "      <td>128.10</td>\n",
       "      <td>132.3</td>\n",
       "      <td>137.20</td>\n",
       "      <td>162.3</td>\n",
       "    </tr>\n",
       "    <tr>\n",
       "      <th>2</th>\n",
       "      <td>591.0</td>\n",
       "      <td>37.683080</td>\n",
       "      <td>3.115133</td>\n",
       "      <td>29.0</td>\n",
       "      <td>35.600</td>\n",
       "      <td>38.0</td>\n",
       "      <td>40.0</td>\n",
       "      <td>50.0</td>\n",
       "      <td>591.0</td>\n",
       "      <td>58.147547</td>\n",
       "      <td>...</td>\n",
       "      <td>69.000</td>\n",
       "      <td>91.0</td>\n",
       "      <td>591.0</td>\n",
       "      <td>139.465990</td>\n",
       "      <td>6.613141</td>\n",
       "      <td>118.0</td>\n",
       "      <td>135.00</td>\n",
       "      <td>139.4</td>\n",
       "      <td>144.00</td>\n",
       "      <td>158.0</td>\n",
       "    </tr>\n",
       "    <tr>\n",
       "      <th>3</th>\n",
       "      <td>204.0</td>\n",
       "      <td>37.747549</td>\n",
       "      <td>3.765260</td>\n",
       "      <td>29.8</td>\n",
       "      <td>35.500</td>\n",
       "      <td>37.3</td>\n",
       "      <td>39.8</td>\n",
       "      <td>56.1</td>\n",
       "      <td>204.0</td>\n",
       "      <td>47.688725</td>\n",
       "      <td>...</td>\n",
       "      <td>67.825</td>\n",
       "      <td>82.8</td>\n",
       "      <td>204.0</td>\n",
       "      <td>167.936275</td>\n",
       "      <td>11.899284</td>\n",
       "      <td>140.4</td>\n",
       "      <td>162.45</td>\n",
       "      <td>171.4</td>\n",
       "      <td>177.05</td>\n",
       "      <td>191.1</td>\n",
       "    </tr>\n",
       "  </tbody>\n",
       "</table>\n",
       "<p>4 rows × 96 columns</p>\n",
       "</div>"
      ],
      "text/plain": [
       "         코너비                                                         입너비  \\\n",
       "       count       mean       std   min     25%   50%   75%   max  count   \n",
       "label                                                                      \n",
       "0      660.0  34.691667  3.117181  27.0  32.825  35.0  37.0  44.0  660.0   \n",
       "1      599.0  32.242738  3.015425  23.4  30.000  32.3  34.2  44.0  599.0   \n",
       "2      591.0  37.683080  3.115133  29.0  35.600  38.0  40.0  50.0  591.0   \n",
       "3      204.0  37.747549  3.765260  29.8  35.500  37.3  39.8  56.1  204.0   \n",
       "\n",
       "                  ... 머리마루_코밑수직길이       귀구슬입술직선길이                         \\\n",
       "            mean  ...         75%   max     count        mean        std   \n",
       "label             ...                                                      \n",
       "0      54.168485  ...      64.000  76.0     660.0  129.902727   6.314203   \n",
       "1      42.613022  ...      60.300  71.6     599.0  132.834057   7.055635   \n",
       "2      58.147547  ...      69.000  91.0     591.0  139.465990   6.613141   \n",
       "3      47.688725  ...      67.825  82.8     204.0  167.936275  11.899284   \n",
       "\n",
       "                                            \n",
       "         min     25%    50%     75%    max  \n",
       "label                                       \n",
       "0      110.0  126.00  130.0  134.00  153.6  \n",
       "1      113.8  128.10  132.3  137.20  162.3  \n",
       "2      118.0  135.00  139.4  144.00  158.0  \n",
       "3      140.4  162.45  171.4  177.05  191.1  \n",
       "\n",
       "[4 rows x 96 columns]"
      ]
     },
     "execution_count": 15,
     "metadata": {},
     "output_type": "execute_result"
    }
   ],
   "source": [
    "df_features[\"label\"] = kmeans.labels_\n",
    "df_features.groupby(\"label\").describe()"
   ]
  },
  {
   "cell_type": "code",
   "execution_count": 28,
   "metadata": {},
   "outputs": [
    {
     "name": "stdout",
     "output_type": "stream",
     "text": [
      "Multiple Comparison of Means - Tukey HSD, FWER=0.05\n",
      "===================================================\n",
      "group1 group2 meandiff p-adj  lower   upper  reject\n",
      "---------------------------------------------------\n",
      "     0      1   2.9313 0.001  1.8656   3.997   True\n",
      "     0      2   9.5633 0.001  8.4938 10.6327   True\n",
      "     0      3  38.0335 0.001 36.5208 39.5463   True\n",
      "     1      2   6.6319 0.001   5.537  7.7268   True\n",
      "     1      3  35.1022 0.001 33.5714 36.6331   True\n",
      "     2      3  28.4703 0.001 26.9368 30.0038   True\n",
      "---------------------------------------------------\n"
     ]
    }
   ],
   "source": [
    "import statsmodels.stats.multicomp as multi\n",
    "mc1 = multi.MultiComparison(df_features[\"귀구슬입술직선길이\"],df_features[\"label\"])\n",
    "res1 = mc1.tukeyhsd()\n",
    "print(res1.summary())"
   ]
  },
  {
   "cell_type": "code",
   "execution_count": 46,
   "metadata": {
    "scrolled": false
   },
   "outputs": [
    {
     "name": "stdout",
     "output_type": "stream",
     "text": [
      "                            OLS Regression Results                            \n",
      "==============================================================================\n",
      "Dep. Variable:                    코너비   R-squared:                       0.132\n",
      "Model:                            OLS   Adj. R-squared:                  0.132\n",
      "Method:                 Least Squares   F-statistic:                     312.6\n",
      "Date:                Wed, 07 Oct 2020   Prob (F-statistic):           3.20e-65\n",
      "Time:                        20:14:32   Log-Likelihood:                -5550.2\n",
      "No. Observations:                2054   AIC:                         1.110e+04\n",
      "Df Residuals:                    2052   BIC:                         1.112e+04\n",
      "Df Model:                           1                                         \n",
      "Covariance Type:            nonrobust                                         \n",
      "==============================================================================\n",
      "                 coef    std err          t      P>|t|      [0.025      0.975]\n",
      "------------------------------------------------------------------------------\n",
      "Intercept     33.4836      0.123    272.127      0.000      33.242      33.725\n",
      "label          1.4232      0.080     17.680      0.000       1.265       1.581\n",
      "==============================================================================\n",
      "Omnibus:                       34.844   Durbin-Watson:                   1.569\n",
      "Prob(Omnibus):                  0.000   Jarque-Bera (JB):               47.268\n",
      "Skew:                           0.206   Prob(JB):                     5.44e-11\n",
      "Kurtosis:                       3.619   Cond. No.                         3.04\n",
      "==============================================================================\n",
      "\n",
      "Notes:\n",
      "[1] Standard Errors assume that the covariance matrix of the errors is correctly specified.\n",
      "\n",
      "\n",
      "\n",
      "\n",
      "\n",
      "\n",
      "                            OLS Regression Results                            \n",
      "==============================================================================\n",
      "Dep. Variable:                    입너비   R-squared:                       0.002\n",
      "Model:                            OLS   Adj. R-squared:                  0.001\n",
      "Method:                 Least Squares   F-statistic:                     3.431\n",
      "Date:                Wed, 07 Oct 2020   Prob (F-statistic):             0.0641\n",
      "Time:                        20:14:32   Log-Likelihood:                -7232.9\n",
      "No. Observations:                2054   AIC:                         1.447e+04\n",
      "Df Residuals:                    2052   BIC:                         1.448e+04\n",
      "Df Model:                           1                                         \n",
      "Covariance Type:            nonrobust                                         \n",
      "==============================================================================\n",
      "                 coef    std err          t      P>|t|      [0.025      0.975]\n",
      "------------------------------------------------------------------------------\n",
      "Intercept     50.9058      0.279    182.354      0.000      50.358      51.453\n",
      "label          0.3383      0.183      1.852      0.064      -0.020       0.696\n",
      "==============================================================================\n",
      "Omnibus:                       66.518   Durbin-Watson:                   0.734\n",
      "Prob(Omnibus):                  0.000   Jarque-Bera (JB):               40.889\n",
      "Skew:                          -0.204   Prob(JB):                     1.32e-09\n",
      "Kurtosis:                       2.442   Cond. No.                         3.04\n",
      "==============================================================================\n",
      "\n",
      "Notes:\n",
      "[1] Standard Errors assume that the covariance matrix of the errors is correctly specified.\n",
      "\n",
      "\n",
      "\n",
      "\n",
      "\n",
      "\n",
      "                            OLS Regression Results                            \n",
      "==============================================================================\n",
      "Dep. Variable:                아래턱사이너비   R-squared:                       0.222\n",
      "Model:                            OLS   Adj. R-squared:                  0.221\n",
      "Method:                 Least Squares   F-statistic:                     584.9\n",
      "Date:                Wed, 07 Oct 2020   Prob (F-statistic):          6.77e-114\n",
      "Time:                        20:14:32   Log-Likelihood:                -7756.9\n",
      "No. Observations:                2054   AIC:                         1.552e+04\n",
      "Df Residuals:                    2052   BIC:                         1.553e+04\n",
      "Df Model:                           1                                         \n",
      "Covariance Type:            nonrobust                                         \n",
      "==============================================================================\n",
      "                 coef    std err          t      P>|t|      [0.025      0.975]\n",
      "------------------------------------------------------------------------------\n",
      "Intercept    116.7904      0.360    324.166      0.000     116.084     117.497\n",
      "label          5.7002      0.236     24.184      0.000       5.238       6.162\n",
      "==============================================================================\n",
      "Omnibus:                       24.583   Durbin-Watson:                   1.466\n",
      "Prob(Omnibus):                  0.000   Jarque-Bera (JB):               25.937\n",
      "Skew:                          -0.240   Prob(JB):                     2.33e-06\n",
      "Kurtosis:                       3.271   Cond. No.                         3.04\n",
      "==============================================================================\n",
      "\n",
      "Notes:\n",
      "[1] Standard Errors assume that the covariance matrix of the errors is correctly specified.\n",
      "\n",
      "\n",
      "\n",
      "\n",
      "\n",
      "\n",
      "                            OLS Regression Results                            \n",
      "==============================================================================\n",
      "Dep. Variable:                    코높이   R-squared:                       0.147\n",
      "Model:                            OLS   Adj. R-squared:                  0.146\n",
      "Method:                 Least Squares   F-statistic:                     352.3\n",
      "Date:                Wed, 07 Oct 2020   Prob (F-statistic):           1.17e-72\n",
      "Time:                        20:14:32   Log-Likelihood:                -4580.1\n",
      "No. Observations:                2054   AIC:                             9164.\n",
      "Df Residuals:                    2052   BIC:                             9175.\n",
      "Df Model:                           1                                         \n",
      "Covariance Type:            nonrobust                                         \n",
      "==============================================================================\n",
      "                 coef    std err          t      P>|t|      [0.025      0.975]\n",
      "------------------------------------------------------------------------------\n",
      "Intercept     11.7560      0.077    153.220      0.000      11.606      11.906\n",
      "label          0.9421      0.050     18.769      0.000       0.844       1.041\n",
      "==============================================================================\n",
      "Omnibus:                        8.070   Durbin-Watson:                   0.204\n",
      "Prob(Omnibus):                  0.018   Jarque-Bera (JB):                8.342\n",
      "Skew:                           0.120   Prob(JB):                       0.0154\n",
      "Kurtosis:                       3.200   Cond. No.                         3.04\n",
      "==============================================================================\n",
      "\n",
      "Notes:\n",
      "[1] Standard Errors assume that the covariance matrix of the errors is correctly specified.\n",
      "\n",
      "\n",
      "\n",
      "\n",
      "\n",
      "\n",
      "                            OLS Regression Results                            \n",
      "==============================================================================\n",
      "Dep. Variable:                    코길이   R-squared:                       0.138\n",
      "Model:                            OLS   Adj. R-squared:                  0.138\n",
      "Method:                 Least Squares   F-statistic:                     328.4\n",
      "Date:                Wed, 07 Oct 2020   Prob (F-statistic):           3.35e-68\n",
      "Time:                        20:14:32   Log-Likelihood:                -5590.5\n",
      "No. Observations:                2054   AIC:                         1.119e+04\n",
      "Df Residuals:                    2052   BIC:                         1.120e+04\n",
      "Df Model:                           1                                         \n",
      "Covariance Type:            nonrobust                                         \n",
      "==============================================================================\n",
      "                 coef    std err          t      P>|t|      [0.025      0.975]\n",
      "------------------------------------------------------------------------------\n",
      "Intercept     49.3980      0.125    393.654      0.000      49.152      49.644\n",
      "label          1.4877      0.082     18.122      0.000       1.327       1.649\n",
      "==============================================================================\n",
      "Omnibus:                        1.531   Durbin-Watson:                   1.292\n",
      "Prob(Omnibus):                  0.465   Jarque-Bera (JB):                1.478\n",
      "Skew:                          -0.064   Prob(JB):                        0.478\n",
      "Kurtosis:                       3.027   Cond. No.                         3.04\n",
      "==============================================================================\n",
      "\n",
      "Notes:\n",
      "[1] Standard Errors assume that the covariance matrix of the errors is correctly specified.\n",
      "\n",
      "\n",
      "\n",
      "\n",
      "\n",
      "\n",
      "                            OLS Regression Results                            \n",
      "==============================================================================\n",
      "Dep. Variable:              코뿌리턱끝수직길이   R-squared:                       0.216\n",
      "Model:                            OLS   Adj. R-squared:                  0.216\n",
      "Method:                 Least Squares   F-statistic:                     565.5\n",
      "Date:                Wed, 07 Oct 2020   Prob (F-statistic):          1.34e-110\n",
      "Time:                        20:14:32   Log-Likelihood:                -6873.9\n",
      "No. Observations:                2054   AIC:                         1.375e+04\n",
      "Df Residuals:                    2052   BIC:                         1.376e+04\n",
      "Df Model:                           1                                         \n",
      "Covariance Type:            nonrobust                                         \n",
      "==============================================================================\n",
      "                 coef    std err          t      P>|t|      [0.025      0.975]\n",
      "------------------------------------------------------------------------------\n",
      "Intercept    108.4247      0.234    462.580      0.000     107.965     108.884\n",
      "label          3.6464      0.153     23.779      0.000       3.346       3.947\n",
      "==============================================================================\n",
      "Omnibus:                        7.478   Durbin-Watson:                   1.326\n",
      "Prob(Omnibus):                  0.024   Jarque-Bera (JB):                7.566\n",
      "Skew:                          -0.145   Prob(JB):                       0.0228\n",
      "Kurtosis:                       2.932   Cond. No.                         3.04\n",
      "==============================================================================\n",
      "\n",
      "Notes:\n",
      "[1] Standard Errors assume that the covariance matrix of the errors is correctly specified.\n",
      "\n",
      "\n",
      "\n",
      "\n",
      "\n",
      "\n",
      "                            OLS Regression Results                            \n",
      "==============================================================================\n",
      "Dep. Variable:              코뿌리코끝수직길이   R-squared:                       0.336\n",
      "Model:                            OLS   Adj. R-squared:                  0.336\n",
      "Method:                 Least Squares   F-statistic:                     1038.\n",
      "Date:                Wed, 07 Oct 2020   Prob (F-statistic):          1.22e-184\n",
      "Time:                        20:14:32   Log-Likelihood:                -5420.1\n",
      "No. Observations:                2054   AIC:                         1.084e+04\n",
      "Df Residuals:                    2052   BIC:                         1.086e+04\n",
      "Df Model:                           1                                         \n",
      "Covariance Type:            nonrobust                                         \n",
      "==============================================================================\n",
      "                 coef    std err          t      P>|t|      [0.025      0.975]\n",
      "------------------------------------------------------------------------------\n",
      "Intercept     32.5845      0.115    282.130      0.000      32.358      32.811\n",
      "label          2.4343      0.076     32.217      0.000       2.286       2.582\n",
      "==============================================================================\n",
      "Omnibus:                        0.525   Durbin-Watson:                   1.693\n",
      "Prob(Omnibus):                  0.769   Jarque-Bera (JB):                0.476\n",
      "Skew:                           0.035   Prob(JB):                        0.788\n",
      "Kurtosis:                       3.028   Cond. No.                         3.04\n",
      "==============================================================================\n",
      "\n",
      "Notes:\n",
      "[1] Standard Errors assume that the covariance matrix of the errors is correctly specified.\n",
      "\n",
      "\n",
      "\n",
      "\n",
      "\n",
      "\n",
      "                            OLS Regression Results                            \n",
      "==============================================================================\n",
      "Dep. Variable:              눈살귀구슬수평길이   R-squared:                       0.400\n",
      "Model:                            OLS   Adj. R-squared:                  0.399\n",
      "Method:                 Least Squares   F-statistic:                     1366.\n",
      "Date:                Wed, 07 Oct 2020   Prob (F-statistic):          1.06e-229\n",
      "Time:                        20:14:32   Log-Likelihood:                -7446.8\n",
      "No. Observations:                2054   AIC:                         1.490e+04\n",
      "Df Residuals:                    2052   BIC:                         1.491e+04\n",
      "Df Model:                           1                                         \n",
      "Covariance Type:            nonrobust                                         \n",
      "==============================================================================\n",
      "                 coef    std err          t      P>|t|      [0.025      0.975]\n",
      "------------------------------------------------------------------------------\n",
      "Intercept     84.4886      0.310    272.728      0.000      83.881      85.096\n",
      "label          7.4920      0.203     36.966      0.000       7.095       7.889\n",
      "==============================================================================\n",
      "Omnibus:                       15.613   Durbin-Watson:                   1.893\n",
      "Prob(Omnibus):                  0.000   Jarque-Bera (JB):               15.901\n",
      "Skew:                           0.196   Prob(JB):                     0.000353\n",
      "Kurtosis:                       3.177   Cond. No.                         3.04\n",
      "==============================================================================\n",
      "\n",
      "Notes:\n",
      "[1] Standard Errors assume that the covariance matrix of the errors is correctly specified.\n",
      "\n",
      "\n",
      "\n",
      "\n",
      "\n",
      "\n",
      "                            OLS Regression Results                            \n",
      "==============================================================================\n",
      "Dep. Variable:          머리마루_아래턱뼈수직길이   R-squared:                       0.164\n",
      "Model:                            OLS   Adj. R-squared:                  0.163\n",
      "Method:                 Least Squares   F-statistic:                     401.1\n",
      "Date:                Wed, 07 Oct 2020   Prob (F-statistic):           1.21e-81\n",
      "Time:                        20:14:32   Log-Likelihood:                -8057.6\n",
      "No. Observations:                2054   AIC:                         1.612e+04\n",
      "Df Residuals:                    2052   BIC:                         1.613e+04\n",
      "Df Model:                           1                                         \n",
      "Covariance Type:            nonrobust                                         \n",
      "==============================================================================\n",
      "                 coef    std err          t      P>|t|      [0.025      0.975]\n",
      "------------------------------------------------------------------------------\n",
      "Intercept     24.4837      0.417     58.701      0.000      23.666      25.302\n",
      "label          5.4650      0.273     20.028      0.000       4.930       6.000\n",
      "==============================================================================\n",
      "Omnibus:                        4.588   Durbin-Watson:                   0.884\n",
      "Prob(Omnibus):                  0.101   Jarque-Bera (JB):                4.377\n",
      "Skew:                           0.078   Prob(JB):                        0.112\n",
      "Kurtosis:                       2.835   Cond. No.                         3.04\n",
      "==============================================================================\n",
      "\n",
      "Notes:\n",
      "[1] Standard Errors assume that the covariance matrix of the errors is correctly specified.\n",
      "\n",
      "\n",
      "\n",
      "\n",
      "\n",
      "\n",
      "                            OLS Regression Results                            \n",
      "==============================================================================\n",
      "Dep. Variable:            머리마루_입술수직길이   R-squared:                       0.047\n",
      "Model:                            OLS   Adj. R-squared:                  0.046\n",
      "Method:                 Least Squares   F-statistic:                     100.3\n",
      "Date:                Wed, 07 Oct 2020   Prob (F-statistic):           4.35e-23\n",
      "Time:                        20:14:32   Log-Likelihood:                -6115.3\n",
      "No. Observations:                2054   AIC:                         1.223e+04\n",
      "Df Residuals:                    2052   BIC:                         1.225e+04\n",
      "Df Model:                           1                                         \n",
      "Covariance Type:            nonrobust                                         \n",
      "==============================================================================\n",
      "                 coef    std err          t      P>|t|      [0.025      0.975]\n",
      "------------------------------------------------------------------------------\n",
      "Intercept     38.2492      0.162    236.094      0.000      37.931      38.567\n",
      "label          1.0616      0.106     10.016      0.000       0.854       1.269\n",
      "==============================================================================\n",
      "Omnibus:                       47.224   Durbin-Watson:                   1.423\n",
      "Prob(Omnibus):                  0.000   Jarque-Bera (JB):               80.563\n",
      "Skew:                           0.186   Prob(JB):                     3.21e-18\n",
      "Kurtosis:                       3.896   Cond. No.                         3.04\n",
      "==============================================================================\n",
      "\n",
      "Notes:\n",
      "[1] Standard Errors assume that the covariance matrix of the errors is correctly specified.\n",
      "\n",
      "\n",
      "\n",
      "\n",
      "\n",
      "\n",
      "                            OLS Regression Results                            \n",
      "==============================================================================\n",
      "Dep. Variable:            머리마루_코밑수직길이   R-squared:                       0.127\n",
      "Model:                            OLS   Adj. R-squared:                  0.127\n",
      "Method:                 Least Squares   F-statistic:                     298.5\n",
      "Date:                Wed, 07 Oct 2020   Prob (F-statistic):           1.49e-62\n",
      "Time:                        20:14:32   Log-Likelihood:                -6446.6\n",
      "No. Observations:                2054   AIC:                         1.290e+04\n",
      "Df Residuals:                    2052   BIC:                         1.291e+04\n",
      "Df Model:                           1                                         \n",
      "Covariance Type:            nonrobust                                         \n",
      "==============================================================================\n",
      "                 coef    std err          t      P>|t|      [0.025      0.975]\n",
      "------------------------------------------------------------------------------\n",
      "Intercept     59.0590      0.190    310.229      0.000      58.686      59.432\n",
      "label          2.1518      0.125     17.277      0.000       1.908       2.396\n",
      "==============================================================================\n",
      "Omnibus:                        5.588   Durbin-Watson:                   1.534\n",
      "Prob(Omnibus):                  0.061   Jarque-Bera (JB):                6.534\n",
      "Skew:                           0.029   Prob(JB):                       0.0381\n",
      "Kurtosis:                       3.270   Cond. No.                         3.04\n",
      "==============================================================================\n",
      "\n",
      "Notes:\n",
      "[1] Standard Errors assume that the covariance matrix of the errors is correctly specified.\n",
      "\n",
      "\n",
      "\n",
      "\n",
      "\n",
      "\n",
      "                            OLS Regression Results                            \n",
      "==============================================================================\n",
      "Dep. Variable:              귀구슬입술직선길이   R-squared:                       0.491\n",
      "Model:                            OLS   Adj. R-squared:                  0.491\n",
      "Method:                 Least Squares   F-statistic:                     1979.\n",
      "Date:                Wed, 07 Oct 2020   Prob (F-statistic):          3.30e-303\n",
      "Time:                        20:14:32   Log-Likelihood:                -7506.4\n",
      "No. Observations:                2054   AIC:                         1.502e+04\n",
      "Df Residuals:                    2052   BIC:                         1.503e+04\n",
      "Df Model:                           1                                         \n",
      "Covariance Type:            nonrobust                                         \n",
      "==============================================================================\n",
      "                 coef    std err          t      P>|t|      [0.025      0.975]\n",
      "------------------------------------------------------------------------------\n",
      "Intercept    126.4728      0.319    396.577      0.000     125.847     127.098\n",
      "label          9.2819      0.209     44.488      0.000       8.873       9.691\n",
      "==============================================================================\n",
      "Omnibus:                      129.542   Durbin-Watson:                   1.778\n",
      "Prob(Omnibus):                  0.000   Jarque-Bera (JB):              158.179\n",
      "Skew:                           0.611   Prob(JB):                     4.49e-35\n",
      "Kurtosis:                       3.596   Cond. No.                         3.04\n",
      "==============================================================================\n",
      "\n",
      "Notes:\n",
      "[1] Standard Errors assume that the covariance matrix of the errors is correctly specified.\n",
      "\n",
      "\n",
      "\n",
      "\n",
      "\n",
      "\n"
     ]
    }
   ],
   "source": [
    "for key in df_features.columns.values[:-1]:\n",
    "    df_features_sub = df_features[[key, 'label']]\n",
    "    model = smf.ols(formula = key+\" ~ \"+\"(label)\",data = df_features_sub).fit()\n",
    "    print(model.summary())\n",
    "    print(\"\\n\\n\\n\\n\\n\")"
   ]
  },
  {
   "cell_type": "code",
   "execution_count": 38,
   "metadata": {},
   "outputs": [],
   "source": [
    "import statsmodels.formula.api as smf"
   ]
  },
  {
   "cell_type": "code",
   "execution_count": null,
   "metadata": {},
   "outputs": [],
   "source": []
  },
  {
   "cell_type": "code",
   "execution_count": null,
   "metadata": {},
   "outputs": [],
   "source": []
  },
  {
   "cell_type": "code",
   "execution_count": null,
   "metadata": {},
   "outputs": [],
   "source": []
  },
  {
   "cell_type": "code",
   "execution_count": 36,
   "metadata": {
    "scrolled": false
   },
   "outputs": [
    {
     "name": "stdout",
     "output_type": "stream",
     "text": [
      "코너비\n",
      "Multiple Comparison of Means - Tukey HSD, FWER=0.05\n",
      "===================================================\n",
      "group1 group2 meandiff p-adj  lower   upper  reject\n",
      "---------------------------------------------------\n",
      "     0      1  -2.4489 0.001 -2.9071 -1.9907   True\n",
      "     0      2   2.9914 0.001  2.5316  3.4512   True\n",
      "     0      3   3.0559 0.001  2.4054  3.7063   True\n",
      "     1      2   5.4403 0.001  4.9696  5.9111   True\n",
      "     1      3   5.5048 0.001  4.8466   6.163   True\n",
      "     2      3   0.0645   0.9 -0.5949  0.7238  False\n",
      "---------------------------------------------------\n",
      "입너비\n",
      " Multiple Comparison of Means - Tukey HSD, FWER=0.05 \n",
      "=====================================================\n",
      "group1 group2 meandiff p-adj  lower    upper   reject\n",
      "-----------------------------------------------------\n",
      "     0      1 -11.5555 0.001 -12.3197 -10.7913   True\n",
      "     0      2   3.9791 0.001   3.2121    4.746   True\n",
      "     0      3  -6.4798 0.001  -7.5646  -5.3949   True\n",
      "     1      2  15.5345 0.001  14.7494  16.3197   True\n",
      "     1      3   5.0757 0.001   3.9779   6.1735   True\n",
      "     2      3 -10.4588 0.001 -11.5585  -9.3592   True\n",
      "-----------------------------------------------------\n",
      "아래턱사이너비\n",
      "Multiple Comparison of Means - Tukey HSD, FWER=0.05\n",
      "===================================================\n",
      "group1 group2 meandiff p-adj  lower   upper  reject\n",
      "---------------------------------------------------\n",
      "     0      1  15.2206 0.001 13.8116 16.6297   True\n",
      "     0      2  11.6777 0.001 10.2637 13.0918   True\n",
      "     0      3  19.2493 0.001 17.2491 21.2495   True\n",
      "     1      2  -3.5429 0.001 -4.9906 -2.0953   True\n",
      "     1      3   4.0287 0.001  2.0046  6.0528   True\n",
      "     2      3   7.5716 0.001   5.544  9.5992   True\n",
      "---------------------------------------------------\n",
      "코높이\n",
      "Multiple Comparison of Means - Tukey HSD, FWER=0.05 \n",
      "====================================================\n",
      "group1 group2 meandiff p-adj   lower   upper  reject\n",
      "----------------------------------------------------\n",
      "     0      1   2.2062  0.001  1.8927  2.5198   True\n",
      "     0      2   2.6347  0.001    2.32  2.9494   True\n",
      "     0      3   2.1708  0.001  1.7257   2.616   True\n",
      "     1      2   0.4285 0.0036  0.1063  0.7507   True\n",
      "     1      3  -0.0354    0.9 -0.4858   0.415  False\n",
      "     2      3  -0.4639 0.0412 -0.9151 -0.0127   True\n",
      "----------------------------------------------------\n",
      "코길이\n",
      "Multiple Comparison of Means - Tukey HSD, FWER=0.05\n",
      "===================================================\n",
      "group1 group2 meandiff p-adj  lower   upper  reject\n",
      "---------------------------------------------------\n",
      "     0      1  -0.5564 0.009 -1.0108  -0.102   True\n",
      "     0      2    5.201 0.001   4.745  5.6571   True\n",
      "     0      3   0.9894 0.001  0.3444  1.6345   True\n",
      "     1      2   5.7574 0.001  5.2906  6.2243   True\n",
      "     1      3   1.5458 0.001  0.8931  2.1986   True\n",
      "     2      3  -4.2116 0.001 -4.8655 -3.5577   True\n",
      "---------------------------------------------------\n",
      "코뿌리턱끝수직길이\n",
      "Multiple Comparison of Means - Tukey HSD, FWER=0.05\n",
      "===================================================\n",
      "group1 group2 meandiff p-adj  lower   upper  reject\n",
      "---------------------------------------------------\n",
      "     0      1  -4.2103 0.001 -4.9743 -3.4462   True\n",
      "     0      2  10.1567 0.001    9.39 10.9235   True\n",
      "     0      3   5.0889 0.001  4.0043  6.1735   True\n",
      "     1      2   14.367 0.001  13.582  15.152   True\n",
      "     1      3   9.2992 0.001  8.2016 10.3967   True\n",
      "     2      3  -5.0678 0.001 -6.1673 -3.9684   True\n",
      "---------------------------------------------------\n",
      "코뿌리코끝수직길이\n",
      "Multiple Comparison of Means - Tukey HSD, FWER=0.05\n",
      "===================================================\n",
      "group1 group2 meandiff p-adj   lower  upper  reject\n",
      "---------------------------------------------------\n",
      "     0      1   2.4041  0.001  1.9178 2.8904   True\n",
      "     0      2   5.6322  0.001  5.1442 6.1202   True\n",
      "     0      3   6.2884  0.001   5.598 6.9787   True\n",
      "     1      2   3.2281  0.001  2.7285 3.7278   True\n",
      "     1      3   3.8843  0.001  3.1857 4.5829   True\n",
      "     2      3   0.6561 0.0755 -0.0436 1.3559  False\n",
      "---------------------------------------------------\n",
      "눈살귀구슬수평길이\n",
      "Multiple Comparison of Means - Tukey HSD, FWER=0.05\n",
      "===================================================\n",
      "group1 group2 meandiff p-adj  lower   upper  reject\n",
      "---------------------------------------------------\n",
      "     0      1   4.5803 0.001  3.4445  5.7161   True\n",
      "     0      2    7.673 0.001  6.5333  8.8128   True\n",
      "     0      3  31.3444 0.001 29.7322 32.9567   True\n",
      "     1      2   3.0928 0.001  1.9259  4.2597   True\n",
      "     1      3  26.7642 0.001 25.1326 28.3957   True\n",
      "     2      3  23.6714 0.001 22.0371 25.3057   True\n",
      "---------------------------------------------------\n",
      "머리마루_아래턱뼈수직길이\n",
      " Multiple Comparison of Means - Tukey HSD, FWER=0.05  \n",
      "======================================================\n",
      "group1 group2 meandiff p-adj   lower    upper   reject\n",
      "------------------------------------------------------\n",
      "     0      1  23.9925  0.001  22.7307  25.2542   True\n",
      "     0      2    9.287  0.001   8.0207  10.5532   True\n",
      "     0      3  23.4541  0.001   21.663  25.2452   True\n",
      "     1      2 -14.7055  0.001 -16.0018 -13.4091   True\n",
      "     1      3  -0.5384 0.8565  -2.3509   1.2741  False\n",
      "     2      3  14.1671  0.001  12.3515  15.9827   True\n",
      "------------------------------------------------------\n",
      "머리마루_입술수직길이\n",
      "Multiple Comparison of Means - Tukey HSD, FWER=0.05\n",
      "===================================================\n",
      "group1 group2 meandiff p-adj  lower   upper  reject\n",
      "---------------------------------------------------\n",
      "     0      1   -3.829 0.001 -4.4069  -3.251   True\n",
      "     0      2   3.5229 0.001  2.9429  4.1029   True\n",
      "     0      3   0.0481   0.9 -0.7723  0.8685  False\n",
      "     1      2   7.3518 0.001   6.758  7.9456   True\n",
      "     1      3   3.8771 0.001  3.0469  4.7073   True\n",
      "     2      3  -3.4748 0.001 -4.3064 -2.6431   True\n",
      "---------------------------------------------------\n",
      "머리마루_코밑수직길이\n",
      "Multiple Comparison of Means - Tukey HSD, FWER=0.05 \n",
      "====================================================\n",
      "group1 group2 meandiff p-adj   lower   upper  reject\n",
      "----------------------------------------------------\n",
      "     0      1   -3.698  0.001 -4.4035 -2.9924   True\n",
      "     0      2   4.9407  0.001  4.2327  5.6488   True\n",
      "     0      3   4.0707  0.001  3.0692  5.0723   True\n",
      "     1      2   8.6387  0.001  7.9138  9.3636   True\n",
      "     1      3   7.7687  0.001  6.7552  8.7822   True\n",
      "     2      3    -0.87 0.1228 -1.8853  0.1452  False\n",
      "----------------------------------------------------\n",
      "귀구슬입술직선길이\n",
      "Multiple Comparison of Means - Tukey HSD, FWER=0.05\n",
      "===================================================\n",
      "group1 group2 meandiff p-adj  lower   upper  reject\n",
      "---------------------------------------------------\n",
      "     0      1   2.9313 0.001  1.8656   3.997   True\n",
      "     0      2   9.5633 0.001  8.4938 10.6327   True\n",
      "     0      3  38.0335 0.001 36.5208 39.5463   True\n",
      "     1      2   6.6319 0.001   5.537  7.7268   True\n",
      "     1      3  35.1022 0.001 33.5714 36.6331   True\n",
      "     2      3  28.4703 0.001 26.9368 30.0038   True\n",
      "---------------------------------------------------\n"
     ]
    }
   ],
   "source": [
    "for key in df_features.columns.values[:-1]:\n",
    "    print(key)\n",
    "    mc1 = multi.MultiComparison(df_features[key],df_features[\"label\"])\n",
    "    res1 = mc1.tukeyhsd()\n",
    "    print(res1.summary())"
   ]
  },
  {
   "cell_type": "code",
   "execution_count": 50,
   "metadata": {},
   "outputs": [
    {
     "data": {
      "text/plain": [
       "코너비               35.141723\n",
       "입너비               51.299951\n",
       "아래턱사이너비          123.431353\n",
       "코높이               12.853603\n",
       "코길이               51.131305\n",
       "코뿌리턱끝수직길이        112.672882\n",
       "코뿌리코끝수직길이         35.420594\n",
       "눈살귀구슬수평길이         93.217040\n",
       "머리마루_아래턱뼈수직길이     30.850682\n",
       "머리마루_입술수직길이       39.486027\n",
       "머리마루_코밑수직길이       61.565969\n",
       "귀구슬입술직선길이        137.286660\n",
       "label              1.165044\n",
       "Name: mean, dtype: float64"
      ]
     },
     "execution_count": 50,
     "metadata": {},
     "output_type": "execute_result"
    }
   ],
   "source": [
    "df_features.describe().loc[\"mean\"]"
   ]
  },
  {
   "cell_type": "code",
   "execution_count": 61,
   "metadata": {},
   "outputs": [
    {
     "data": {
      "text/plain": [
       "label\n",
       "0   -0.450057\n",
       "1   -2.898986\n",
       "2    2.541356\n",
       "3    2.605826\n",
       "Name: mean, dtype: float64"
      ]
     },
     "execution_count": 61,
     "metadata": {},
     "output_type": "execute_result"
    }
   ],
   "source": [
    "df_features.groupby(\"label\").describe().loc[:,\"코너비\"].loc[:,\"mean\"]-df_features.describe().loc[\"mean\"].loc[\"코너비\"]"
   ]
  },
  {
   "cell_type": "code",
   "execution_count": null,
   "metadata": {},
   "outputs": [],
   "source": []
  }
 ],
 "metadata": {
  "kernelspec": {
   "display_name": "Python 3",
   "language": "python",
   "name": "python3"
  },
  "language_info": {
   "codemirror_mode": {
    "name": "ipython",
    "version": 3
   },
   "file_extension": ".py",
   "mimetype": "text/x-python",
   "name": "python",
   "nbconvert_exporter": "python",
   "pygments_lexer": "ipython3",
   "version": "3.6.10"
  },
  "pycharm": {
   "stem_cell": {
    "cell_type": "raw",
    "metadata": {
     "collapsed": false
    },
    "source": []
   }
  }
 },
 "nbformat": 4,
 "nbformat_minor": 1
}
